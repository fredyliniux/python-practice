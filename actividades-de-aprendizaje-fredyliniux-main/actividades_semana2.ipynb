{
  "cells": [
    {
      "cell_type": "markdown",
      "metadata": {
        "colab_type": "text",
        "id": "view-in-github"
      },
      "source": [
        "<a href=\"https://colab.research.google.com/github/tec03/ParaAssignment01-/blob/main/assignment01.ipynb\" target=\"_parent\"><img src=\"https://colab.research.google.com/assets/colab-badge.svg\" alt=\"Open In Colab\"/></a>"
      ]
    },
    {
      "cell_type": "code",
      "execution_count": 2,
      "metadata": {
        "colab": {
          "base_uri": "https://localhost:8080/"
        },
        "id": "LzUSMM79NR9P",
        "outputId": "0e6cb421-1096-426a-b31a-f61d059def81"
      },
      "outputs": [
        {
          "name": "stdout",
          "output_type": "stream",
          "text": [
            "assignment01 for Fredy Reyes, GitHub user: fredyliniux\n"
          ]
        }
      ],
      "source": [
        "print('assignment01 for Fredy Reyes, GitHub user: fredyliniux')"
      ]
    },
    {
      "cell_type": "markdown",
      "metadata": {},
      "source": [
        "Notas de curso"
      ]
    },
    {
      "cell_type": "code",
      "execution_count": 1,
      "metadata": {
        "id": "mxM_WppZPMFx"
      },
      "outputs": [
        {
          "name": "stdout",
          "output_type": "stream",
          "text": [
            "Hello World\n"
          ]
        }
      ],
      "source": [
        "#Primer programa en Python.\n",
        "#Imprimir la frase Hello World.\n",
        "print('Hello World')"
      ]
    },
    {
      "cell_type": "markdown",
      "metadata": {},
      "source": [
        "#Tipos de datos"
      ]
    },
    {
      "cell_type": "code",
      "execution_count": 17,
      "metadata": {},
      "outputs": [
        {
          "name": "stdout",
          "output_type": "stream",
          "text": [
            "<class 'type'>\n",
            "<class 'type'>\n",
            "<class 'str'>\n",
            "<class 'list'>\n",
            "<class 'tuple'>\n",
            "<class 'bool'>\n",
            "<class 'set'>\n"
          ]
        }
      ],
      "source": [
        "#Tipos de datos más usados en python\n",
        "#Imprimir los tipos de datos más comunes de python\n",
        "entero = int\n",
        "print(type(entero))\n",
        "flotante = float\n",
        "print(type(flotante)) \n",
        "string = 'hello world'\n",
        "print(type(string))\n",
        "lista = ['1','2','3']\n",
        "print(type(lista))\n",
        "tupla = ('uno','dos', '3', '4.6')\n",
        "print(type(tupla))\n",
        "booleano = True\n",
        "print(type(booleano))\n",
        "typeSet= {'1','2', 'tres'}\n",
        "print(type(typeSet))\n"
      ]
    },
    {
      "cell_type": "markdown",
      "metadata": {},
      "source": [
        "Operadores Matemáticos en Python"
      ]
    },
    {
      "cell_type": "code",
      "execution_count": 31,
      "metadata": {},
      "outputs": [
        {
          "name": "stdout",
          "output_type": "stream",
          "text": [
            "La suma de 7 y 3 es igual a : 10\n",
            "La resta de 7 y 3 es igual a : 4\n",
            "La multiplicacion de 7 x 3 es igual a : 21\n",
            "La division de 7 / 3 es igual a : 2.3333333333333335\n",
            "La division entera de 7 // 3 es igual a : 2\n",
            "El modulo de 7 % 3 es igual a : 1\n"
          ]
        }
      ],
      "source": [
        "#Principales operadores en python\n",
        "#Escriba ejemplos de operadores en Python\n",
        "\n",
        "a=7\n",
        "b=3\n",
        "suma = a+b\n",
        "print ('La suma de ' + str(a) + ' y ' + str(b) + ' ' + 'es igual a : ' + str(suma))\n",
        "resta = a-b\n",
        "print ('La resta de ' + str(a) + ' y ' + str(b) + ' ' + 'es igual a : ' + str(resta))\n",
        "multiplicacion = a*b\n",
        "print ('La multiplicacion de ' + str(a) + ' x ' + str(b) + ' ' + 'es igual a : ' + str(multiplicacion))\n",
        "division = a/b\n",
        "print ('La division de ' + str(a) + ' / ' + str(b) + ' ' + 'es igual a : ' + str(division))\n",
        "divisionEntera = a//b\n",
        "print ('La division entera de ' + str(a) + ' // ' + str(b) + ' ' + 'es igual a : ' + str(divisionEntera))\n",
        "modulo = a%b\n",
        "print ('El modulo de ' + str(a) + ' % ' + str(b) + ' ' + 'es igual a : ' + str(modulo))\n"
      ]
    },
    {
      "cell_type": "markdown",
      "metadata": {},
      "source": [
        "Métodos para String"
      ]
    },
    {
      "cell_type": "code",
      "execution_count": 50,
      "metadata": {},
      "outputs": [
        {
          "name": "stdout",
          "output_type": "stream",
          "text": [
            "12345\n",
            "12345\n",
            "6789\n",
            "12345\n",
            "16\n",
            "6789\n",
            "4\n",
            "Fr\n",
            "Fredy Reyes Sanchez\n"
          ]
        },
        {
          "data": {
            "text/plain": [
              "'FREDY REYES SANCHEZ'"
            ]
          },
          "execution_count": 50,
          "metadata": {},
          "output_type": "execute_result"
        }
      ],
      "source": [
        "#Escribir operaciones con los métodos más populares de Python\n",
        "numeros='123456789'\n",
        "print(numeros[:5:])\n",
        "print(numeros [:5])\n",
        "print(numeros [5:])\n",
        "print(numeros[:5:])\n",
        "print(numeros [::5])\n",
        "print(numeros [5::])\n",
        "print(numeros.find('5'))\n",
        "name = 'Fredy Reyes Sanchez'\n",
        "print(name[0:2])\n",
        "print(name[0:5] + ' ' + name[6:11] + ' ' + name[12:19])\n",
        "name.upper()\n",
        "\n",
        "\n"
      ]
    },
    {
      "cell_type": "markdown",
      "metadata": {},
      "source": [
        "Listas y Tuplas"
      ]
    },
    {
      "cell_type": "markdown",
      "metadata": {},
      "source": [
        "Diferencias entre Listas y Tuplas\n"
      ]
    },
    {
      "cell_type": "code",
      "execution_count": 62,
      "metadata": {},
      "outputs": [
        {
          "name": "stdout",
          "output_type": "stream",
          "text": [
            "Esto es una lista : ['1', '2', '3'] <class 'list'>\n",
            "Esto es una tupla : ('uno', 'dos', '3', '4.6') <class 'tuple'>\n",
            "2\n",
            "3\n",
            "7\n"
          ]
        }
      ],
      "source": [
        "#Diferencias entre Listas y Tuplas\n",
        "#Imprima diferencias principales entres Listas y tuplas\n",
        "\n",
        "lista = ['1','2','3']\n",
        "print('Esto es una lista : ' + str(lista) + ' ' + str(type(lista)))\n",
        "tupla = ('uno','dos', '3', '4.6')\n",
        "print('Esto es una tupla : ' + str(tupla) + ' ' + str(type(tupla)))\n",
        "\n",
        "tuplaUno=(0,1,2,3)\n",
        "print(tuplaUno[2])\n",
        "listaUno=[0,1,2,3]\n",
        "print(listaUno[-1])\n",
        "listaUno.append(7)\n",
        "print(listaUno[-1])\n",
        "\n",
        "#Las listas son mutables, las tuplas no."
      ]
    },
    {
      "cell_type": "markdown",
      "metadata": {},
      "source": [
        "Sets"
      ]
    },
    {
      "cell_type": "code",
      "execution_count": 66,
      "metadata": {},
      "outputs": [
        {
          "name": "stdout",
          "output_type": "stream",
          "text": [
            "{'B', 'A', 'C'}\n",
            "{'a', 'A', 'B', 'c', 'C', 'b'}\n",
            "{'a', 'A', 'B', 'c', 'C', 'b'}\n",
            "<class 'set'>\n"
          ]
        }
      ],
      "source": [
        "#Imprima y ejemplifique que son los Sets\n",
        "\n",
        "v={'A','B'}\n",
        "v.add('C')\n",
        "print(v)\n",
        "d={'a','A','B','b','c', 'C'}\n",
        "print(d)\n",
        "u=v.union(d)\n",
        "print(u)\n",
        "print(type(u))\n",
        "\n",
        "#un Set no pouede contener un valor repetico\n"
      ]
    },
    {
      "cell_type": "markdown",
      "metadata": {},
      "source": [
        "Diccionarios"
      ]
    },
    {
      "cell_type": "code",
      "execution_count": 83,
      "metadata": {},
      "outputs": [
        {
          "name": "stdout",
          "output_type": "stream",
          "text": [
            "{'a': 0, 'b': 1, 'c': 2, 'z': 'Hola Mundo'}\n",
            "<class 'dict'>\n",
            "2\n",
            "Hola Mundo\n"
          ]
        },
        {
          "data": {
            "text/plain": [
              "(4, 4, 4)"
            ]
          },
          "execution_count": 83,
          "metadata": {},
          "output_type": "execute_result"
        }
      ],
      "source": [
        "#Ejemplos de Diccionarios\n",
        "#Imprima y ejemplifique un diccionario\n",
        "\n",
        "diccionario = {'a':0,'b':1,'c':2, 'z':'Hola Mundo'} \n",
        "print(diccionario)\n",
        "print(type(diccionario))\n",
        "diccionario.values()\n",
        "print(diccionario['c'])\n",
        "print(diccionario['z'])\n",
        "\n",
        "Dict={\"A\":1,\"B\":\"2\",\"C\":[3,3,3],\"D\":(4,4,4),'E':5,'F':6}\n",
        "Dict[\"D\"]\n"
      ]
    },
    {
      "cell_type": "markdown",
      "metadata": {},
      "source": [
        "Condicionales "
      ]
    },
    {
      "cell_type": "code",
      "execution_count": 89,
      "metadata": {},
      "outputs": [
        {
          "name": "stdout",
          "output_type": "stream",
          "text": [
            "d es mayor que cpor lo tantoe esto es :True\n",
            "This is a.\n"
          ]
        }
      ],
      "source": [
        "#Ejemplifique el uso de condicionales\n",
        "\n",
        "c=100\n",
        "d=12000\n",
        "\n",
        "if (c>d):\n",
        "    print('c no es mayor que d' + 'por lo tanto esto es :' +  str(False))\n",
        "else:\n",
        "    print('d es mayor que c' + 'por lo tantoe esto es :' +  str(True))\n",
        "\n",
        "\n",
        "x='a'\n",
        "\n",
        "if(x!='a'):\n",
        "\n",
        "    print(\"This is not a.\")\n",
        "\n",
        "else:\n",
        "\n",
        "    print(\"This is a.\")\n",
        "\n"
      ]
    },
    {
      "cell_type": "markdown",
      "metadata": {},
      "source": [
        "Loops o Ciclos"
      ]
    },
    {
      "cell_type": "code",
      "execution_count": 102,
      "metadata": {},
      "outputs": [
        {
          "name": "stdout",
          "output_type": "stream",
          "text": [
            "Este es el valor de y 2\n",
            "Este es el valor de y 4\n",
            "Este es el valor de y 6\n",
            "Este es el valor de y 8\n",
            "Este es el valor de y 0\n",
            "1\n",
            "2\n"
          ]
        }
      ],
      "source": [
        "#Ejemplifique el uso de loops\n",
        "\n",
        "y=[2,4,6,8,0]\n",
        "\n",
        "for i in y:\n",
        "    print('Este es el valor de y ' + str(i))\n",
        "\n",
        "h=3\n",
        "g=1\n",
        "\n",
        "while(g!=h):\n",
        "    print(g)\n",
        "    g=g+1\n"
      ]
    },
    {
      "cell_type": "markdown",
      "metadata": {},
      "source": [
        "Funciones"
      ]
    },
    {
      "cell_type": "code",
      "execution_count": 110,
      "metadata": {},
      "outputs": [
        {
          "name": "stdout",
          "output_type": "stream",
          "text": [
            "la suma de 47 y 90 es igual a : 137\n",
            "la resta de 47 y 90 es igual a : -43\n"
          ]
        }
      ],
      "source": [
        "#Declare una funcion suma y resta en Python\n",
        "\n",
        "def suma(a,b):\n",
        "    print('la suma de ' + str(a) + ' y '+ str(b)+ ' es igual a : ' + str(a+b))\n",
        "suma(47,90)\n",
        "\n",
        "def resta(a,b):\n",
        "    print('la resta de ' + str(a) + ' y '+ str(b)+ ' es igual a : ' + str(a-b))\n",
        "resta(47,90)"
      ]
    },
    {
      "cell_type": "markdown",
      "metadata": {},
      "source": [
        "Objetos y clases"
      ]
    },
    {
      "cell_type": "code",
      "execution_count": 112,
      "metadata": {},
      "outputs": [
        {
          "name": "stdout",
          "output_type": "stream",
          "text": [
            "x= 1 y= 2\n"
          ]
        }
      ],
      "source": [
        "#Use clases y objetos \n",
        "class Points(object):\n",
        "\n",
        "    def __init__(self,x,y):\n",
        "\n",
        "        self.x=x\n",
        "\n",
        "        self.y=y\n",
        "\n",
        "    def print_point(self):\n",
        "\n",
        "        print('x=',self.x,'y=',self.y)\n",
        "\n",
        "\n",
        "p1=Points(1,2)\n",
        "p1.print_point()\n"
      ]
    },
    {
      "cell_type": "code",
      "execution_count": null,
      "metadata": {},
      "outputs": [],
      "source": [
        "#Leer archivos en Python\n",
        "\n"
      ]
    }
  ],
  "metadata": {
    "colab": {
      "include_colab_link": true,
      "name": "assignment01.ipynb",
      "provenance": []
    },
    "kernelspec": {
      "display_name": "Python 3.8.9 64-bit",
      "language": "python",
      "name": "python3"
    },
    "language_info": {
      "codemirror_mode": {
        "name": "ipython",
        "version": 3
      },
      "file_extension": ".py",
      "mimetype": "text/x-python",
      "name": "python",
      "nbconvert_exporter": "python",
      "pygments_lexer": "ipython3",
      "version": "3.8.9"
    },
    "vscode": {
      "interpreter": {
        "hash": "31f2aee4e71d21fbe5cf8b01ff0e069b9275f58929596ceb00d14d90e3e16cd6"
      }
    }
  },
  "nbformat": 4,
  "nbformat_minor": 0
}
