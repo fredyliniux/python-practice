{
  "nbformat": 4,
  "nbformat_minor": 0,
  "metadata": {
    "colab": {
      "provenance": []
    },
    "kernelspec": {
      "name": "python3",
      "display_name": "Python 3"
    },
    "language_info": {
      "name": "python"
    }
  },
  "cells": [
    {
      "cell_type": "markdown",
      "source": [
        "#**Maestría en Inteligencia Artificial Aplicada**\n",
        "##**Curso: Procesamiento de Lenguaje Natural (NLP)**\n",
        "###Tecnológico de Monterrey\n",
        "###Prof Luis Eduardo Falcón Morales\n",
        "\n",
        "## **Adtividad de la Semana 02**\n",
        "###**Introducción al procesamiento de texto.**\n",
        "#**Fredy Reyes Sánchez**"
      ],
      "metadata": {
        "id": "759SG4TyfbUn"
      }
    },
    {
      "cell_type": "markdown",
      "source": [
        "En esta actividad deberás utilizar los datos del siguiente archivo que se encuentra en Canvas:\n",
        "\n",
        "MNA_NLP_semana_02_Actividad_datos.txt\n",
        "\n",
        "El archivo contiene comentarios en inglés sobre servicios de comida de la página de Yelp: https://www.yelp.com/ . \n",
        "\n",
        "Son mil comentarios y forman parte del conjunto de datos que se encuentra en el Machine Learning Repository de la UCI, llamado \"Sentiment Labelled Sentences\": https://archive.ics.uci.edu/ml/datasets/Sentiment+Labelled+Sentences#\n"
      ],
      "metadata": {
        "id": "6ue1YAKx3XDo"
      }
    },
    {
      "cell_type": "markdown",
      "source": [
        "#**Parte 1. Cargamos los datos.**   "
      ],
      "metadata": {
        "id": "Zj-h4drXD-X9"
      }
    },
    {
      "cell_type": "markdown",
      "source": [
        "Cargar los datos del archivo indicado y obtener una lista de longitud de 1000 strings/comentarios. \n",
        "\n",
        "Por el momento solamente requerimos las bibliotecas de Numpy y re, para el manejo de los arreglos y de las expresiones regulares en Python.\n",
        "\n",
        "En particular, no necesitarás en esta actividad la biblioteca de Pandas.\n",
        "\n",
        "###**NOTA: En esta actividad no debes importar nada más, con estas dos bibliotecas será *suficiente*.**"
      ],
      "metadata": {
        "id": "BY6yifxscfrx"
      }
    },
    {
      "cell_type": "code",
      "source": [
        "import numpy as np    # importamos Numpy para el manejo de los arreglos.\n",
        "import re             # importamos re para el manejo de las expresiones regulares."
      ],
      "metadata": {
        "id": "OJ26dAfhdFnf"
      },
      "execution_count": 1,
      "outputs": []
    },
    {
      "cell_type": "code",
      "source": [
        "# Ejecuta las siguientes instrucciones para cargar la información del achivo dado:\n",
        "\n",
        "with open('MNA_NLP_semana_02_Actividad_datos.txt',        # puedes actualizar la ruta a tu archivo, en dado caso.\n",
        "          mode='r',     # abrimos el archivo en modo lectura.\n",
        "          ) as f:\n",
        "    docs = f.readlines()    # separamos cada comentario por líneas\n",
        "\n",
        "f.close()  # ya que tenemos la información en la variable docs, cerramos el archivo"
      ],
      "metadata": {
        "id": "QHUmJyjDdGNP"
      },
      "execution_count": 2,
      "outputs": []
    },
    {
      "cell_type": "code",
      "source": [
        "type(docs) == list   # Verifica que tu variable \"docs\" es una lista"
      ],
      "metadata": {
        "id": "L6WzrSrodG-Y",
        "colab": {
          "base_uri": "https://localhost:8080/"
        },
        "outputId": "5a76731d-dd7a-476d-9c44-8ede822ebce9"
      },
      "execution_count": 3,
      "outputs": [
        {
          "output_type": "execute_result",
          "data": {
            "text/plain": [
              "True"
            ]
          },
          "metadata": {},
          "execution_count": 3
        }
      ]
    },
    {
      "cell_type": "code",
      "source": [
        "len(docs)==1000  # verifica que la longitud de \"docs\" es de mil comentarios."
      ],
      "metadata": {
        "id": "QIK1u9WS2FtS",
        "colab": {
          "base_uri": "https://localhost:8080/"
        },
        "outputId": "23dac635-fedf-44dc-d5b5-cce5f02869aa"
      },
      "execution_count": 4,
      "outputs": [
        {
          "output_type": "execute_result",
          "data": {
            "text/plain": [
              "True"
            ]
          },
          "metadata": {},
          "execution_count": 4
        }
      ]
    },
    {
      "cell_type": "code",
      "source": [
        "docs[0:10]     # observa algunos de los primeros comentarios"
      ],
      "metadata": {
        "id": "9AMLIfQvJqNZ",
        "colab": {
          "base_uri": "https://localhost:8080/"
        },
        "outputId": "e2d03287-e135-4973-ce38-32d3f01e1825"
      },
      "execution_count": 5,
      "outputs": [
        {
          "output_type": "execute_result",
          "data": {
            "text/plain": [
              "['Wow... Loved this place.\\n',\n",
              " 'Crust is not good.\\n',\n",
              " 'Not tasty and the texture was just nasty.\\n',\n",
              " 'Stopped by during the late May bank holiday off Rick Steve recommendation and loved it.\\n',\n",
              " 'The selection on the menu was great and so were the prices.\\n',\n",
              " 'Now I am getting angry and I want my damn pho.\\n',\n",
              " \"Honeslty it didn't taste THAT fresh.)\\n\",\n",
              " 'The potatoes were like rubber and you could tell they had been made up ahead of time being kept under a warmer.\\n',\n",
              " 'The fries were great too.\\n',\n",
              " 'A great touch.\\n']"
            ]
          },
          "metadata": {},
          "execution_count": 5
        }
      ]
    },
    {
      "cell_type": "markdown",
      "source": [
        "#**Parte 2: sección de preguntas (regex).**   \n"
      ],
      "metadata": {
        "id": "k_ewoagic5jc"
      }
    },
    {
      "cell_type": "markdown",
      "source": [
        "##**Instrucciones:**\n",
        "\n",
        "###**A continuación deberás contestar cada una de las preguntas que te piden usando expresiones regulares (regex).**\n",
        "\n",
        "###**Por el momento no hay restricción en cuanto al número de líneas de código que agregues, pero trata de incluir las mínimas posibles.**"
      ],
      "metadata": {
        "id": "X-eMJa3DFCIV"
      }
    },
    {
      "cell_type": "markdown",
      "source": [
        "*   **Pregunta 1.** \n",
        "\n",
        "Busca y elimina todos los saltos de línea '\\n' que se encuentran al final de cada comentario. \n",
        "\n",
        "Una vez finalizado, imprime los primeros 10 comentarios del resultado obtenido.\n"
      ],
      "metadata": {
        "id": "78nJMemzn5a5"
      }
    },
    {
      "cell_type": "code",
      "source": [
        "doc_list=[linea.rstrip('\\n') for linea in docs]"
      ],
      "metadata": {
        "id": "PwbYYIuZn8pE"
      },
      "execution_count": 6,
      "outputs": []
    },
    {
      "cell_type": "code",
      "source": [
        "doc_list[0:10]"
      ],
      "metadata": {
        "id": "j-0qeh2Jn8l1",
        "colab": {
          "base_uri": "https://localhost:8080/"
        },
        "outputId": "4f08e2c9-8de3-4972-e469-2d42f83cb2dd"
      },
      "execution_count": 7,
      "outputs": [
        {
          "output_type": "execute_result",
          "data": {
            "text/plain": [
              "['Wow... Loved this place.',\n",
              " 'Crust is not good.',\n",
              " 'Not tasty and the texture was just nasty.',\n",
              " 'Stopped by during the late May bank holiday off Rick Steve recommendation and loved it.',\n",
              " 'The selection on the menu was great and so were the prices.',\n",
              " 'Now I am getting angry and I want my damn pho.',\n",
              " \"Honeslty it didn't taste THAT fresh.)\",\n",
              " 'The potatoes were like rubber and you could tell they had been made up ahead of time being kept under a warmer.',\n",
              " 'The fries were great too.',\n",
              " 'A great touch.']"
            ]
          },
          "metadata": {},
          "execution_count": 7
        }
      ]
    },
    {
      "cell_type": "markdown",
      "source": [
        "*   **Pregunta 2.**  \n",
        "\n",
        "Busca e imprime todas las palabras que terminan con dos o más signos de admiración seguidos, por ejemplo \"!!!\". \n",
        "\n",
        "Debes imprimir tanto la palabra como la totalidad de signos de admiración que le siguen. \n",
        "\n",
        "Indica cuántos resultados obtuviste.\n",
        "\n"
      ],
      "metadata": {
        "id": "VWeKQC93ctEo"
      }
    },
    {
      "cell_type": "code",
      "source": [
        "count = 0\n",
        "for docs in doc_list:\n",
        "  words= re.findall(r'\\w+[!]{2,}', docs)\n",
        "  for word in words: \n",
        "    if '!' in word: \n",
        "     count += 1\n",
        "    print(f'{word}')"
      ],
      "metadata": {
        "colab": {
          "base_uri": "https://localhost:8080/"
        },
        "id": "qW05HG5IjX0f",
        "outputId": "173d76d9-f022-4990-c1db-e9344d775981"
      },
      "execution_count": 15,
      "outputs": [
        {
          "output_type": "stream",
          "name": "stdout",
          "text": [
            "Firehouse!!!!!\n",
            "APPETIZERS!!!\n",
            "amazing!!!\n",
            "buffet!!!\n",
            "good!!\n",
            "it!!!!\n",
            "DELICIOUS!!\n",
            "amazing!!\n",
            "shawarrrrrrma!!!!!!\n",
            "yucky!!!\n",
            "steak!!!!!\n",
            "delicious!!!\n",
            "far!!\n",
            "biscuits!!!\n",
            "dry!!\n",
            "disappointing!!!\n",
            "awesome!!\n",
            "Up!!\n",
            "FLY!!!!!!!!\n",
            "here!!!\n",
            "great!!!!!!!!!!!!!!\n",
            "packed!!\n",
            "otherwise!!\n",
            "amazing!!!!!!!!!!!!!!!!!!!\n",
            "style!!\n",
            "disappointed!!\n"
          ]
        }
      ]
    },
    {
      "cell_type": "code",
      "source": [
        "print(f'Se obtubieron : {count} comentarios con signo de admiración')"
      ],
      "metadata": {
        "colab": {
          "base_uri": "https://localhost:8080/"
        },
        "id": "7uThot2j_sZk",
        "outputId": "942e3eb2-e34f-40c6-ae63-d1cc3ca3d14f"
      },
      "execution_count": 17,
      "outputs": [
        {
          "output_type": "stream",
          "name": "stdout",
          "text": [
            "Se obtubieron : 26 comentarios con signo de admiración\n"
          ]
        }
      ]
    },
    {
      "cell_type": "markdown",
      "source": [
        "*   **Pregunta 3.**  \n",
        "\n",
        "Busca e imprime todas las palabras que están escritas totalmente en mayúsculas. Cada coincidencia debe ser una sola palabra.\n",
        "\n",
        "Indica cuántas palabras encontraste.\n",
        "\n"
      ],
      "metadata": {
        "id": "-s3okBqL96TT"
      }
    },
    {
      "cell_type": "code",
      "source": [
        "count = 0\n",
        "for docs in doc_list:\n",
        "  words= re.findall(r'\\w+[A-Z]{2,}', docs)\n",
        "  for word in words: \n",
        "    count += 1\n",
        "    print(f'{word}')"
      ],
      "metadata": {
        "id": "yKHJkZKo_nW5",
        "colab": {
          "base_uri": "https://localhost:8080/"
        },
        "outputId": "6409177d-a1aa-4329-fef4-208cf8cc4493"
      },
      "execution_count": 18,
      "outputs": [
        {
          "output_type": "stream",
          "name": "stdout",
          "text": [
            "THAT\n",
            "APPETIZERS\n",
            "WILL\n",
            "NEVER\n",
            "EVER\n",
            "STEP\n",
            "FORWARD\n",
            "AGAIN\n",
            "LOVED\n",
            "AND\n",
            "REAL\n",
            "BITCHES\n",
            "NYC\n",
            "STALE\n",
            "DELICIOUS\n",
            "WORST\n",
            "EXPERIENCE\n",
            "EVER\n",
            "ALL\n",
            "BARGAIN\n",
            "NONE\n",
            "FREEZING\n",
            "AYCE\n",
            "FLAVOR\n",
            "NEVER\n",
            "BBQ\n",
            "UNREAL\n",
            "OMG\n",
            "BETTER\n",
            "BLAND\n",
            "RUDE\n",
            "INCONSIDERATE\n",
            "MANAGEMENT\n",
            "WILL\n",
            "NEVER\n",
            "EVER\n",
            "BACK\n",
            "AND\n",
            "HAVE\n",
            "TOLD\n",
            "MANY\n",
            "PEOPLE\n",
            "WHAT\n",
            "HAD\n",
            "HAPPENED\n",
            "TOTAL\n",
            "WASTE\n",
            "TIME\n",
            "LOVED\n",
            "CONCLUSION\n",
            "BEST\n",
            "NOW\n",
            "AVOID\n",
            "THIS\n",
            "ESTABLISHMENT\n",
            "HOUR\n",
            "NASTY\n",
            "OMG\n",
            "BEST\n",
            "THE\n",
            "OWNERS\n",
            "REALLY\n",
            "REALLY\n",
            "PERFECT\n",
            "SCREAMS\n",
            "LEGIT\n",
            "MGM\n",
            "BEST\n",
            "FLY\n",
            "FLY\n",
            "FANTASTIC\n",
            "GREAT\n",
            "WAY\n",
            "MUST\n",
            "HAVE\n",
            "OVERPRICED\n",
            "BARE\n",
            "HANDS\n",
            "WEAK\n",
            "SHOULD\n",
            "WAAAAAA\n",
            "VERY\n",
            "NOT\n"
          ]
        }
      ]
    },
    {
      "cell_type": "code",
      "source": [
        "print(f'Se obtubieron : {count} palabras en mayúsculas')"
      ],
      "metadata": {
        "id": "Vjb0yHvsjoYx",
        "outputId": "bca02459-b52d-4066-a252-1e1909567a3e",
        "colab": {
          "base_uri": "https://localhost:8080/"
        }
      },
      "execution_count": 19,
      "outputs": [
        {
          "output_type": "stream",
          "name": "stdout",
          "text": [
            "Se obtubieron : 83 palabras en mayúsculas\n"
          ]
        }
      ]
    },
    {
      "cell_type": "markdown",
      "source": [
        "*   **Pregunta 4.**  \n",
        "\n",
        "Busca e imprime los comentarios en donde todos los caracteres alfabéticos (letras) están en mayúsculas. \n",
        "\n",
        "Cada coincidencia encontrada debe ser todo el comentario/enunciado.\n",
        "\n",
        "Indica cuántos resultados obtuviste.\n"
      ],
      "metadata": {
        "id": "GX8eYyDoMZma"
      }
    },
    {
      "cell_type": "code",
      "source": [
        "count = 0\n",
        "for docs in doc_list:\n",
        "  if docs.isupper():\n",
        "    print(docs)\n",
        "    count += 1"
      ],
      "metadata": {
        "id": "K8VuZxvTMYj6",
        "colab": {
          "base_uri": "https://localhost:8080/"
        },
        "outputId": "85a87c30-72ae-4b1c-f03e-af9274b3e6ba"
      },
      "execution_count": 20,
      "outputs": [
        {
          "output_type": "stream",
          "name": "stdout",
          "text": [
            "DELICIOUS!!\n",
            "RUDE & INCONSIDERATE MANAGEMENT.\n",
            "WILL NEVER EVER GO BACK AND HAVE TOLD MANY PEOPLE WHAT HAD HAPPENED.\n",
            "TOTAL WASTE OF TIME.\n",
            "AVOID THIS ESTABLISHMENT!\n"
          ]
        }
      ]
    },
    {
      "cell_type": "code",
      "source": [
        "print(f'El ducumento tiene: {count} comentarios en mayúsculas')"
      ],
      "metadata": {
        "id": "PmKgX7sCMcDx",
        "colab": {
          "base_uri": "https://localhost:8080/"
        },
        "outputId": "75416f7f-5922-467c-e3df-fc7ddf9bdbf8"
      },
      "execution_count": 24,
      "outputs": [
        {
          "output_type": "stream",
          "name": "stdout",
          "text": [
            "El ducumento tiene: 5 comentarios en mayúsculas\n"
          ]
        }
      ]
    },
    {
      "cell_type": "markdown",
      "source": [
        "*   **Pregunta 5.**  \n",
        "\n",
        "Busca e imprime todas las palabras que tengan una vocal acentuada, del tipo á, é, í, ó, ú. \n",
        "\n",
        "Indica cuántos resultados obtuviste."
      ],
      "metadata": {
        "id": "a1i6qv7-McmU"
      }
    },
    {
      "cell_type": "code",
      "source": [
        "count = 0\n",
        "for docs in doc_list:\n",
        "  words= re.findall(r'\\w+[áéíóú]\\w+', docs)\n",
        "  for word in words: \n",
        "    count += 1\n",
        "    print(f'{word}')"
      ],
      "metadata": {
        "colab": {
          "base_uri": "https://localhost:8080/"
        },
        "outputId": "4d84b79b-f04e-4aac-aa04-5c0491c888c8",
        "id": "0PRzRIQHYvBv"
      },
      "execution_count": 25,
      "outputs": [
        {
          "output_type": "stream",
          "name": "stdout",
          "text": [
            "puréed\n"
          ]
        }
      ]
    },
    {
      "cell_type": "code",
      "source": [
        "print(f' Hay : {count} palabras acentuadas')"
      ],
      "metadata": {
        "colab": {
          "base_uri": "https://localhost:8080/"
        },
        "id": "67M2IcDrZ5rm",
        "outputId": "e387c9e7-f345-4bd8-dad1-05efb3e247c5"
      },
      "execution_count": 26,
      "outputs": [
        {
          "output_type": "stream",
          "name": "stdout",
          "text": [
            " Hay : 1 palabras acentuadas\n"
          ]
        }
      ]
    },
    {
      "cell_type": "markdown",
      "source": [
        "*   **Pregunta 6.**  \n",
        "\n",
        "Busca e imprime todas las cantidades numéricas monetarias, enteras o con decimales, que inician con el símbolo $\\$$. \n",
        "\n",
        "Indica cuántos resultados obtuviste."
      ],
      "metadata": {
        "id": "ZmPiAI82Mfb3"
      }
    },
    {
      "cell_type": "code",
      "source": [
        "count = 0\n",
        "for docs in doc_list:\n",
        "  words= re.findall(r'[$]\\d*\\.\\d+|[$]\\d+', docs)\n",
        "  for word in words: \n",
        "    count += 1\n",
        "    print(f'{word}')"
      ],
      "metadata": {
        "id": "6vhe9-Y-MhL9",
        "colab": {
          "base_uri": "https://localhost:8080/"
        },
        "outputId": "2d9c0034-61ae-4055-8713-d30704c3c434"
      },
      "execution_count": 27,
      "outputs": [
        {
          "output_type": "stream",
          "name": "stdout",
          "text": [
            "$20\n",
            "$4.00\n",
            "$17\n",
            "$3\n",
            "$35\n",
            "$7.85\n",
            "$12\n",
            "$11.99\n"
          ]
        }
      ]
    },
    {
      "cell_type": "code",
      "source": [
        "print(f'Hay {count} cantidades monetarias')"
      ],
      "metadata": {
        "id": "_t0a5xWDMhQ5",
        "colab": {
          "base_uri": "https://localhost:8080/"
        },
        "outputId": "bca69b96-0184-4bfe-c429-a5ac9f244fb6"
      },
      "execution_count": 28,
      "outputs": [
        {
          "output_type": "stream",
          "name": "stdout",
          "text": [
            "Hay 8 cantidades monetarias\n"
          ]
        }
      ]
    },
    {
      "cell_type": "markdown",
      "source": [
        "*   **Pregunta 7.**  \n",
        "\n",
        "Busca e imprime todas las palabras que sean variantes de la palabra \"love\", sin importar si incluyen mayúsculas o minúsculas, o la manera en que esté conjugada o alguna otra variación que se haga con dicha palabra.\n",
        "\n",
        "Indica cuántos resultados obtuviste."
      ],
      "metadata": {
        "id": "2j-HpvhwMhq2"
      }
    },
    {
      "cell_type": "code",
      "source": [
        "count = 0\n",
        "for docs in doc_list:\n",
        "  words= re.findall(r'love\\w+|LOVE\\w+', docs)\n",
        "  for word in words: \n",
        "    count += 1\n",
        "    print(f'{word}')"
      ],
      "metadata": {
        "id": "kqqyRChVMjol",
        "colab": {
          "base_uri": "https://localhost:8080/"
        },
        "outputId": "870fab91-d60a-40a7-a6b2-e78780d0fde3"
      },
      "execution_count": 29,
      "outputs": [
        {
          "output_type": "stream",
          "name": "stdout",
          "text": [
            "loved\n",
            "loves\n",
            "LOVED\n",
            "lovers\n",
            "lovers\n",
            "loved\n",
            "loved\n",
            "loved\n",
            "loved\n",
            "LOVED\n",
            "lovely\n",
            "lovely\n",
            "lover\n",
            "loved\n",
            "loves\n"
          ]
        }
      ]
    },
    {
      "cell_type": "code",
      "source": [
        "print(f'El documento contiene: {count} variaciones de la palabra \"love\"')"
      ],
      "metadata": {
        "id": "UXd0VQluMj_x",
        "colab": {
          "base_uri": "https://localhost:8080/"
        },
        "outputId": "6339f6d0-9589-458f-e65a-c19e52837878"
      },
      "execution_count": 30,
      "outputs": [
        {
          "output_type": "stream",
          "name": "stdout",
          "text": [
            "El documento contiene: 15 variaciones de la palabra \"love\"\n"
          ]
        }
      ]
    },
    {
      "cell_type": "markdown",
      "source": [
        "*   **Pregunta 8.**  \n",
        "\n",
        "Busca e imprime todas las palabras, variantes de \"so\" y \"good\", que tengan dos o más \"o\" en \"so\" y 3 o más \"o\" en good. \n",
        "\n",
        "Indica cuántas encontraste.\n"
      ],
      "metadata": {
        "id": "Ctb-NTY3MkYG"
      }
    },
    {
      "cell_type": "code",
      "source": [
        "count = 0\n",
        "for docs in doc_list:\n",
        "  words= re.findall(r'so[o]{2,}|gooo\\w+', docs)\n",
        "  for word in words: \n",
        "    count += 1\n",
        "    print(f'{word}')"
      ],
      "metadata": {
        "id": "A8Nf3B_cMlqg",
        "colab": {
          "base_uri": "https://localhost:8080/"
        },
        "outputId": "b80017f9-b667-4a04-ea03-daa04c914f80"
      },
      "execution_count": 31,
      "outputs": [
        {
          "output_type": "stream",
          "name": "stdout",
          "text": [
            "soooo\n",
            "gooodd\n",
            "soooooo\n",
            "soooo\n"
          ]
        }
      ]
    },
    {
      "cell_type": "code",
      "source": [
        "print(f'El documento contiene: {count} variaciones de las palabras \"so\" y \"good\"')"
      ],
      "metadata": {
        "id": "svS4-vvPMl6f",
        "colab": {
          "base_uri": "https://localhost:8080/"
        },
        "outputId": "abb57c10-c69d-41b0-fb1a-901f6e8537a7"
      },
      "execution_count": 32,
      "outputs": [
        {
          "output_type": "stream",
          "name": "stdout",
          "text": [
            "El documento contiene: 4 variaciones de las palabras \"so\" y \"good\"\n"
          ]
        }
      ]
    },
    {
      "cell_type": "markdown",
      "source": [
        "*   **Pregunta 9.**  \n",
        "\n",
        "Busca e imprime todas las palabras que tengan una longitud mayor estrictamente a 10 caracteres alfabéticos.\n",
        "\n",
        "No se consideran los signos de puntuación o caracteres especiales en la longitud de estas cadenas, solo caracteres alfabéticos en mayúsculas o minúsculas.\n",
        "\n",
        "Indica la cantidad de palabras encontradas.\n"
      ],
      "metadata": {
        "id": "hkak1opjMmlk"
      }
    },
    {
      "cell_type": "code",
      "source": [
        "count = 0\n",
        "for docs in doc_list:\n",
        "  words= re.findall(r'[a-zA-Z]{10}', docs)\n",
        "  for word in words: \n",
        "    count += 1\n",
        "    print(f'{word}')"
      ],
      "metadata": {
        "id": "PYxdp3uhMoD0",
        "colab": {
          "base_uri": "https://localhost:8080/"
        },
        "outputId": "e6cc25f8-4b04-4c27-e418-025cbbae25ac"
      },
      "execution_count": 33,
      "outputs": [
        {
          "output_type": "stream",
          "name": "stdout",
          "text": [
            "recommenda\n",
            "overpriced\n",
            "recommende\n",
            "restaurant\n",
            "overwhelme\n",
            "restaurant\n",
            "inexpensiv\n",
            "establishm\n",
            "refreshing\n",
            "sunglasses\n",
            "imaginativ\n",
            "absolutely\n",
            "restaurant\n",
            "APPETIZERS\n",
            "definitely\n",
            "apparently\n",
            "opportunit\n",
            "experienci\n",
            "underwhelm\n",
            "relationsh\n",
            "unsatisfyi\n",
            "Everything\n",
            "disappoint\n",
            "experience\n",
            "outrageous\n",
            "Tigerlilly\n",
            "personable\n",
            "restaurant\n",
            "definitely\n",
            "atmosphere\n",
            "experience\n",
            "disappoint\n",
            "Phenomenal\n",
            "Definitely\n",
            "overpriced\n",
            "management\n",
            "selections\n",
            "expectatio\n",
            "restaurant\n",
            "suggestion\n",
            "disappoint\n",
            "considerin\n",
            "restaurant\n",
            "highlights\n",
            "Unfortunat\n",
            "everything\n",
            "immediatel\n",
            "reasonably\n",
            "Restaurant\n",
            "ingredient\n",
            "waitresses\n",
            "Everything\n",
            "accommodat\n",
            "vegetarian\n",
            "atmosphere\n",
            "maintainin\n",
            "definitely\n",
            "absolutely\n",
            "overcooked\n",
            "incredible\n",
            "Interestin\n",
            "disrespect\n",
            "EXPERIENCE\n",
            "accordingl\n",
            "unbelievab\n",
            "uninspired\n",
            "experience\n",
            "cheeseburg\n",
            "descriptio\n",
            "flavourful\n",
            "restaurant\n",
            "privileged\n",
            "complaints\n",
            "godfathers\n",
            "restaurant\n",
            "atmosphere\n",
            "inexpensiv\n",
            "absolutely\n",
            "proclaimed\n",
            "disappoint\n",
            "Veggitaria\n",
            "outstandin\n",
            "recommenda\n",
            "disappoint\n",
            "restaurant\n",
            "definitely\n",
            "disappoint\n",
            "incredible\n",
            "neighborho\n",
            "disappoint\n",
            "convenient\n",
            "incredibly\n",
            "everything\n",
            "corporatio\n",
            "delightful\n",
            "reasonable\n",
            "considerin\n",
            "exceptiona\n",
            "shawarrrrr\n",
            "disappoint\n",
            "vinaigrett\n",
            "restaurant\n",
            "especially\n",
            "immediatel\n",
            "unbelievab\n",
            "atmosphere\n",
            "Everything\n",
            "replenishe\n",
            "disappoint\n",
            "whatsoever\n",
            "vegetables\n",
            "atmosphere\n",
            "appetizers\n",
            "enthusiast\n",
            "Outstandin\n",
            "restaurant\n",
            "Definitely\n",
            "despicable\n",
            "comfortabl\n",
            "interestin\n",
            "INCONSIDER\n",
            "MANAGEMENT\n",
            "outshining\n",
            "definitely\n",
            "experience\n",
            "experience\n",
            "reasonable\n",
            "considerin\n",
            "incredible\n",
            "transcenda\n",
            "atmosphere\n",
            "perfection\n",
            "impeccable\n",
            "disappoint\n",
            "disappoint\n",
            "accountant\n",
            "frustrated\n",
            "definitely\n",
            "disappoint\n",
            "completely\n",
            "overwhelme\n",
            "profession\n",
            "companions\n",
            "everything\n",
            "everywhere\n",
            "Furthermor\n",
            "complaints\n",
            "connisseur\n",
            "restaurant\n",
            "absolutley\n",
            "definitely\n",
            "restaurant\n",
            "combinatio\n",
            "connoisseu\n",
            "definitely\n",
            "difference\n",
            "Definitely\n",
            "profiterol\n",
            "outstandin\n",
            "reasonable\n",
            "acknowledg\n",
            "forgetting\n",
            "margaritas\n",
            "disappoint\n",
            "ventilatio\n",
            "beautifull\n",
            "definitely\n",
            "absolutely\n",
            "restaurant\n",
            "establishm\n",
            "extraordin\n",
            "humiliated\n",
            "CONCLUSION\n",
            "experience\n",
            "incredible\n",
            "Thoroughly\n",
            "disappoint\n",
            "cheesecurd\n",
            "Reasonably\n",
            "Everything\n",
            "disappoint\n",
            "restaurant\n",
            "Everything\n",
            "interestin\n",
            "management\n",
            "restaurant\n",
            "experience\n",
            "opportunit\n",
            "yellowtail\n",
            "disgracefu\n",
            "experience\n",
            "particular\n",
            "restaurant\n",
            "ESTABLISHM\n",
            "restaurant\n",
            "vinegrette\n",
            "disgusting\n",
            "recommende\n",
            "management\n",
            "disappoint\n",
            "recommende\n",
            "acknowledg\n",
            "presentati\n",
            "accomodate\n",
            "Philadelph\n",
            "satisfying\n",
            "Scottsdale\n",
            "disappoint\n",
            "definitely\n",
            "businesses\n",
            "experience\n",
            "disappoint\n",
            "management\n",
            "grandmothe\n",
            "especially\n",
            "drasticall\n",
            "impeccable\n",
            "informativ\n",
            "Experience\n",
            "Disappoint\n",
            "constructe\n",
            "comfortabl\n",
            "restaurant\n",
            "experience\n",
            "atmosphere\n",
            "violinists\n",
            "personally\n",
            "convenient\n",
            "perfection\n",
            "Smashburge\n",
            "disappoint\n",
            "cheeseburg\n",
            "neighborho\n",
            "themselves\n",
            "atmosphere\n",
            "reasonable\n",
            "soundtrack\n",
            "absolutely\n",
            "definitely\n",
            "disappoint\n",
            "definitely\n",
            "hospitalit\n",
            "recommendi\n",
            "atmosphere\n",
            "atmosphere\n",
            "disappoint\n",
            "everything\n",
            "deliciousl\n",
            "compliment\n",
            "recommenda\n",
            "definitely\n",
            "establishm\n",
            "revisiting\n",
            "restaurant\n",
            "experience\n",
            "calligraph\n",
            "restaurant\n",
            "restaurant\n",
            "vegetarian\n",
            "management\n",
            "vinegrette\n",
            "definitely\n",
            "definately\n",
            "affordable\n",
            "absolutely\n",
            "traditiona\n",
            "bartenders\n",
            "absolutely\n",
            "margaritas\n",
            "restaraunt\n",
            "combinatio\n",
            "girlfriend\n",
            "Unfortunat\n",
            "experience\n",
            "flavorless\n",
            "describing\n",
            "everything\n",
            "atmosphere\n",
            "Wienerschn\n",
            "vegetables\n",
            "overcooked\n",
            "unfortunat\n",
            "bruschetta\n",
            "mozzarella\n",
            "experience\n",
            "overpriced\n",
            "consistent\n",
            "OVERPRICED\n",
            "officially\n",
            "definitely\n",
            "containers\n",
            "experience\n",
            "considerin\n",
            "overpriced\n",
            "especially\n",
            "reasonable\n",
            "restaurant\n",
            "Everything\n",
            "sandwiches\n",
            "everything\n",
            "restaurant\n",
            "highlighte\n",
            "completely\n",
            "delightful\n",
            "experience\n",
            "flavorless\n",
            "definately\n",
            "Albondigas\n",
            "absolutely\n",
            "Mediterran\n",
            "selections\n",
            "strawberry\n",
            "unprofessi\n",
            "experience\n",
            "satisfying\n",
            "occasional\n",
            "anticipate\n",
            "disappoint\n",
            "unexperien\n",
            "disrespect\n",
            "steakhouse\n",
            "understand\n",
            "experience\n",
            "disgusting\n",
            "profession\n",
            "restaurant\n",
            "definitely\n",
            "Disappoint\n",
            "experience\n",
            "WAAAAAAyyy\n",
            "ridiculous\n",
            "reservatio\n",
            "imaginatio\n",
            "vegetables\n",
            "undercooke\n",
            "disappoint\n",
            "overpriced\n",
            "Vegetarian\n",
            "disappoint\n",
            "disappoint\n",
            "deuchebagg\n",
            "disappoint\n",
            "disappoint\n",
            "restaurant\n",
            "immediatel\n",
            "Unfortunat\n",
            "disapppoin\n",
            "correction\n",
            "Overpriced\n",
            "circumstan\n",
            "restaurant\n",
            "vegetables\n",
            "undercooke\n",
            "impressive\n",
            "caterpilla\n",
            "presentati\n",
            "disappoint\n",
            "experience\n",
            "underwhelm\n"
          ]
        }
      ]
    },
    {
      "cell_type": "code",
      "source": [
        "print(f'El documento contiene: {count} palabras con 10 caracteres alfabéticos')"
      ],
      "metadata": {
        "id": "BR7e2F4FMof-",
        "colab": {
          "base_uri": "https://localhost:8080/"
        },
        "outputId": "11a991b9-42de-4a5e-9b82-f45cea5f70c5"
      },
      "execution_count": 34,
      "outputs": [
        {
          "output_type": "stream",
          "name": "stdout",
          "text": [
            "El documento contiene: 359 palabras con 10 caracteres alfabéticos\n"
          ]
        }
      ]
    },
    {
      "cell_type": "markdown",
      "source": [
        "*   **Pregunta 10.**  \n",
        "\n",
        "Busca e imprime todas las palabras que inician con una letra mayúscula y terminan con una minúscula, pero que además no sea la primera palabra del comentario/string. \n",
        "\n",
        "Indica la cantidad de resultados obtenidos."
      ],
      "metadata": {
        "id": "ApjTNzSxMpDc"
      }
    },
    {
      "cell_type": "code",
      "source": [
        "count = 0\n",
        "for docs in doc_list:\n",
        "  words= re.findall(r'(?<=\\s)[A-Z][a-z]+(?=\\s+[A-Z])', docs)\n",
        "  for word in words: \n",
        "    count += 1\n",
        "    print(f'{word}')"
      ],
      "metadata": {
        "id": "Vb0ndRGAMqdL",
        "colab": {
          "base_uri": "https://localhost:8080/"
        },
        "outputId": "e6400747-e708-4f46-c601-4378f61c8780"
      },
      "execution_count": 35,
      "outputs": [
        {
          "output_type": "stream",
          "name": "stdout",
          "text": [
            "Rick\n",
            "Cape\n",
            "Burrittos\n",
            "Heart\n",
            "Attack\n",
            "Dos\n",
            "Very\n",
            "Bad\n",
            "Customer\n",
            "Hard\n",
            "Rock\n",
            "Mandalay\n",
            "Khao\n",
            "Phoenix\n",
            "Bussell\n",
            "Filet\n",
            "Jenni\n",
            "Bachi\n",
            "Pizza\n",
            "Gordon\n",
            "Best\n",
            "Food\n",
            "Lobster\n",
            "Green\n",
            "San\n",
            "Francisco\n",
            "Bay\n",
            "Buldogis\n",
            "Gourmet\n",
            "Hot\n",
            "Camelback\n",
            "Flower\n",
            "Cartel\n",
            "Las\n",
            "Crema\n",
            "North\n",
            "Bloody\n",
            "Very\n",
            "Big\n",
            "Bay\n",
            "Baba\n",
            "Panna\n",
            "Mango\n",
            "Pineapple\n",
            "Strip\n",
            "Paradise\n",
            "Thumbs\n",
            "The\n",
            "Elk\n",
            "Dylan\n",
            "Han\n",
            "Nan\n",
            "Egg\n",
            "Flower\n",
            "Maine\n",
            "Lobster\n",
            "To\n",
            "Mediterranean\n",
            "Chicken\n",
            "Mellow\n",
            "Christmas\n",
            "Ha\n",
            "Long\n",
            "When\n",
            "Ninja\n"
          ]
        }
      ]
    },
    {
      "cell_type": "code",
      "source": [
        "print(f'Se encontraron: {count} palabras que inician con mayúscula y terminan con minúscula')"
      ],
      "metadata": {
        "id": "dLPTRPnTMqqx",
        "colab": {
          "base_uri": "https://localhost:8080/"
        },
        "outputId": "3c0c3d56-850e-4fb1-dc31-69bddcf9b900"
      },
      "execution_count": 38,
      "outputs": [
        {
          "output_type": "stream",
          "name": "stdout",
          "text": [
            "Se encontraron: 65 palabras que inician con mayúscula y terminan con minúscula\n"
          ]
        }
      ]
    },
    {
      "cell_type": "markdown",
      "source": [
        "*   **Pregunta 11.**  \n",
        "\n",
        "Busca e imprime la secuencia de dos o más palabras que están separadas por un guion, \"-\", sin que tengan espacios en blanco entre ellas.\n",
        "\n",
        "Por ejemplo \"Go-Kart\" sería válido, pero \"Go  -Kart\" o \"Go  -  Kart\" no lo serían. \n",
        "\n",
        "Indica la cantidad de resultados obtenidos."
      ],
      "metadata": {
        "id": "u7nfm4KhMrNW"
      }
    },
    {
      "cell_type": "code",
      "source": [
        "count = 0\n",
        "for docs in doc_list:\n",
        "  words= re.findall(r'\\w+-(?<=\\S)\\w+', docs)\n",
        "  for word in words: \n",
        "    count += 1\n",
        "    print(f'{word}')"
      ],
      "metadata": {
        "id": "OwU-a7eGMsub",
        "colab": {
          "base_uri": "https://localhost:8080/"
        },
        "outputId": "5a0b1a7d-8a30-43fe-a468-c1702aefc434"
      },
      "execution_count": 39,
      "outputs": [
        {
          "output_type": "stream",
          "name": "stdout",
          "text": [
            "flat-lined\n",
            "hands-down\n",
            "must-stop\n",
            "sub-par\n",
            "Service-check\n",
            "in-house\n",
            "been-stepped\n",
            "in-and\n",
            "tracked-everywhere\n",
            "multi-grain\n",
            "to-go\n",
            "non-customer\n",
            "High-quality\n",
            "sit-down\n",
            "over-whelm\n",
            "low-key\n",
            "non-fancy\n",
            "golden-crispy\n",
            "over-priced\n",
            "over-hip\n",
            "under-services\n"
          ]
        }
      ]
    },
    {
      "cell_type": "code",
      "source": [
        "#omitir\n",
        "for doc in doc_list:\n",
        "    if '-' in doc:\n",
        "        print(doc)"
      ],
      "metadata": {
        "id": "H6WGuv7LLqa9",
        "outputId": "a73c51eb-e941-42b1-86ac-0664348a8009",
        "colab": {
          "base_uri": "https://localhost:8080/"
        }
      },
      "execution_count": 40,
      "outputs": [
        {
          "output_type": "stream",
          "name": "stdout",
          "text": [
            "- They never brought a salad we asked for.\n",
            "The Heart Attack Grill in downtown Vegas is an absolutely flat-lined excuse for a restaurant.\n",
            "\"- Really, really good rice, all the time.\"\n",
            "2 times - Very Bad Customer Service !\n",
            "\"REAL sushi lovers, let's be honest - Yama is not that good.\"\n",
            "This place is hands-down one of the best places to eat in the Phoenix metro area.\n",
            "\"The burger had absolutely no flavor - the meat itself was totally bland, the burger was overcooked and there was no charcoal flavor.\"\n",
            "\"The sides are delish - mixed mushrooms, yukon gold puree, white corn - beateous.\"\n",
            "- the food is rich so order accordingly.\n",
            "This wonderful experience made this place a must-stop whenever we are in town again.\n",
            "Horrible - don't waste your time and money.\n",
            "-Drinks took close to 30 minutes to come out at one point.\n",
            "Based on the sub-par service I received and no effort to show their gratitude for my business I won't be going back.\n",
            "Things that went wrong: - They burned the saganaki.\n",
            "Good Service-check!\n",
            "\"In the summer, you can dine in a charming outdoor patio - so very delightful.\"\n",
            "All the bread is made in-house!\n",
            "First - the bathrooms at this location were dirty- Seat covers were not replenished & just plain yucky!!!\n",
            "\"On the good side, the staff was genuinely pleasant and enthusiastic - a real treat.\"\n",
            "\"On the ground, right next to our table was a large, smeared, been-stepped-in-and-tracked-everywhere pile of green bird poop.\"\n",
            "Nargile - I think you are great.\n",
            "\"I also had to taste my Mom's multi-grain pumpkin pancakes with pecan butter and they were amazing, fluffy, and delicious!\"\n",
            "\"At first glance it is a lovely bakery cafe - nice ambiance, clean, friendly staff.\"\n",
            "\"Be sure to order dessert, even if you need to pack it to-go - the tiramisu and cannoli are both to die for.\"\n",
            "Best of luck to the rude and non-customer service focused new management.\n",
            "High-quality chicken on the chicken Caesar salad.\n",
            "It is PERFECT for a sit-down family meal or get together with a few friends.\n",
            "Went for lunch - service was slow.\n",
            "\"Friend's pasta -- also bad, he barely touched it.\"\n",
            "\"Level 5 spicy was perfect, where spice didn't over-whelm the soup.\"\n",
            "\"It's close to my house, it's low-key, non-fancy, affordable prices, good food.\"\n",
            "Great time - family dinner on a Sunday night.\n",
            "So good I am going to have to review this place twice - once hereas a tribute to the place and once as a tribute to an event held here last night.\n",
            "They were golden-crispy and delicious.\n",
            "\"I do love sushi, but I found Kabuki to be over-priced, over-hip and under-services.\"\n",
            "I ordered Albondigas soup - which was just warm - and tasted like tomato soup with frozen meatballs.\n",
            "-My order was not correct.\n",
            "Shrimp- When I unwrapped it (I live only 1/2 a mile from Brushfire) it was literally ice cold.\n"
          ]
        }
      ]
    },
    {
      "cell_type": "code",
      "source": [
        "print(f'El documento contiene: {count} secuencias de dos o más palabras que están separadas por un guion ')"
      ],
      "metadata": {
        "id": "SgzIL74ZMtGw",
        "colab": {
          "base_uri": "https://localhost:8080/"
        },
        "outputId": "dbe2c7ea-b684-4423-9d35-4623528c41dd"
      },
      "execution_count": 41,
      "outputs": [
        {
          "output_type": "stream",
          "name": "stdout",
          "text": [
            "El documento contiene: 21 secuencias de dos o más palabras que están separadas por un guion \n"
          ]
        }
      ]
    },
    {
      "cell_type": "markdown",
      "source": [
        "*   **Pregunta 12.**  \n",
        "\n",
        "Busca e imprime todas las palabras que terminan en \"ing\" o \"ed\". \n",
        "\n",
        "Indica la cantidad de palabras que encontraste de cada una."
      ],
      "metadata": {
        "id": "DEIgl79HMthr"
      }
    },
    {
      "cell_type": "code",
      "source": [
        "count = 0\n",
        "for docs in doc_list:\n",
        "  words= re.findall(r'\\w+ing|\\w+ed', docs)\n",
        "  for word in words: \n",
        "    count += 1\n",
        "    print(f'{word}')"
      ],
      "metadata": {
        "id": "I4TSofBMMv9y",
        "colab": {
          "base_uri": "https://localhost:8080/"
        },
        "outputId": "bf169998-4050-4858-90c9-0e055812d13e"
      },
      "execution_count": 42,
      "outputs": [
        {
          "output_type": "stream",
          "name": "stdout",
          "text": [
            "Loved\n",
            "Stopped\n",
            "during\n",
            "loved\n",
            "getting\n",
            "being\n",
            "ended\n",
            "being\n",
            "overpriced\n",
            "tried\n",
            "disgusted\n",
            "shocked\n",
            "recommended\n",
            "amazing\n",
            "performed\n",
            "red\n",
            "asked\n",
            "running\n",
            "overwhelmed\n",
            "redeeming\n",
            "grossed\n",
            "melted\n",
            "getting\n",
            "provided\n",
            "thing\n",
            "cooked\n",
            "dressing\n",
            "refreshing\n",
            "ordered\n",
            "running\n",
            "realized\n",
            "Loved\n",
            "lined\n",
            "string\n",
            "cooked\n",
            "ripped\n",
            "ripped\n",
            "petrified\n",
            "Gring\n",
            "amazing\n",
            "included\n",
            "tasting\n",
            "expected\n",
            "nothing\n",
            "appalling\n",
            "seasoned\n",
            "cheated\n",
            "wasting\n",
            "eating\n",
            "going\n",
            "Coming\n",
            "experiencing\n",
            "underwhelming\n",
            "walked\n",
            "smelled\n",
            "eating\n",
            "raving\n",
            "tailored\n",
            "spring\n",
            "unsatisfying\n",
            "amazing\n",
            "Everything\n",
            "disappointing\n",
            "dining\n",
            "flirting\n",
            "arrived\n",
            "roasted\n",
            "added\n",
            "thing\n",
            "coming\n",
            "cooked\n",
            "red\n",
            "playing\n",
            "passed\n",
            "ordering\n",
            "arriving\n",
            "liked\n",
            "disappointing\n",
            "managed\n",
            "served\n",
            "preparing\n",
            "loving\n",
            "liking\n",
            "reviewing\n",
            "venturing\n",
            "overpriced\n",
            "med\n",
            "including\n",
            "during\n",
            "checked\n",
            "disappointed\n",
            "red\n",
            "decorated\n",
            "changing\n",
            "going\n",
            "considering\n",
            "served\n",
            "coming\n",
            "watched\n",
            "greeted\n",
            "seated\n",
            "waited\n",
            "flavored\n",
            "ordered\n",
            "going\n",
            "everything\n",
            "ordered\n",
            "relocated\n",
            "impressed\n",
            "seated\n",
            "immed\n",
            "priced\n",
            "looking\n",
            "treated\n",
            "ordered\n",
            "ingred\n",
            "dressing\n",
            "dining\n",
            "used\n",
            "handed\n",
            "listed\n",
            "missed\n",
            "Everything\n",
            "thrilled\n",
            "amazing\n",
            "judging\n",
            "inspired\n",
            "desired\n",
            "maintaining\n",
            "asking\n",
            "overcooked\n",
            "decided\n",
            "looked\n",
            "having\n",
            "dressed\n",
            "treated\n",
            "something\n",
            "lacking\n",
            "ordered\n",
            "incred\n",
            "sucked\n",
            "expected\n",
            "sucked\n",
            "imagined\n",
            "Interesting\n",
            "served\n",
            "preparing\n",
            "arrived\n",
            "missing\n",
            "wing\n",
            "feeling\n",
            "satisfied\n",
            "voted\n",
            "insulted\n",
            "disrespected\n",
            "thing\n",
            "exceeding\n",
            "dreamed\n",
            "inviting\n",
            "lived\n",
            "stepped\n",
            "mixed\n",
            "showed\n",
            "climbing\n",
            "waiting\n",
            "realized\n",
            "coming\n",
            "loved\n",
            "according\n",
            "being\n",
            "lacking\n",
            "needed\n",
            "going\n",
            "loved\n",
            "wrapped\n",
            "uninspired\n",
            "amazing\n",
            "dealing\n",
            "annoying\n",
            "Ordered\n",
            "sing\n",
            "falling\n",
            "uploaded\n",
            "sporting\n",
            "covered\n",
            "supposed\n",
            "amazing\n",
            "rolled\n",
            "stayed\n",
            "providing\n",
            "building\n",
            "lighting\n",
            "Based\n",
            "received\n",
            "going\n",
            "nothing\n",
            "privileged\n",
            "working\n",
            "eating\n",
            "dressing\n",
            "being\n",
            "charged\n",
            "visited\n",
            "proclaimed\n",
            "disappointed\n",
            "Stopped\n",
            "dedicated\n",
            "liked\n",
            "outstanding\n",
            "getting\n",
            "disappointed\n",
            "waited\n",
            "waited\n",
            "wing\n",
            "Thing\n",
            "burned\n",
            "waited\n",
            "amazing\n",
            "disappointed\n",
            "Waited\n",
            "incred\n",
            "disappointed\n",
            "pulled\n",
            "incred\n",
            "prepared\n",
            "rating\n",
            "eating\n",
            "writing\n",
            "everything\n",
            "dining\n",
            "fried\n",
            "boring\n",
            "greed\n",
            "passed\n",
            "charming\n",
            "ordered\n",
            "toasted\n",
            "untoasted\n",
            "going\n",
            "figured\n",
            "making\n",
            "pricing\n",
            "considering\n",
            "returned\n",
            "amazing\n",
            "eyed\n",
            "disappointed\n",
            "immed\n",
            "pleased\n",
            "Everything\n",
            "replenished\n",
            "disappointed\n",
            "nothing\n",
            "nothing\n",
            "driving\n",
            "treated\n",
            "during\n",
            "evening\n",
            "offered\n",
            "Outstanding\n",
            "tasted\n",
            "buying\n",
            "handling\n",
            "wasting\n",
            "craving\n",
            "dropped\n",
            "dining\n",
            "decorated\n",
            "med\n",
            "interesting\n",
            "amazing\n",
            "being\n",
            "served\n",
            "outshining\n",
            "starving\n",
            "coming\n",
            "walked\n",
            "stuffed\n",
            "considering\n",
            "located\n",
            "shopping\n",
            "incred\n",
            "nothing\n",
            "bring\n",
            "Cooked\n",
            "disappointed\n",
            "getting\n",
            "screwed\n",
            "frustrated\n",
            "iced\n",
            "stuffed\n",
            "disappointed\n",
            "trying\n",
            "grossed\n",
            "enjoyed\n",
            "eating\n",
            "going\n",
            "looked\n",
            "overwhelmed\n",
            "need\n",
            "stayed\n",
            "everything\n",
            "smeared\n",
            "stepped\n",
            "tracked\n",
            "tried\n",
            "rushed\n",
            "loved\n",
            "Ordered\n",
            "Nothing\n",
            "cooked\n",
            "going\n",
            "insulted\n",
            "wing\n",
            "contained\n",
            "enjoyed\n",
            "relaxed\n",
            "loved\n",
            "outstanding\n",
            "running\n",
            "acknowledged\n",
            "forgetting\n",
            "thing\n",
            "upgrading\n",
            "trimmed\n",
            "cooked\n",
            "claimed\n",
            "handled\n",
            "asked\n",
            "eating\n",
            "bring\n",
            "hoping\n",
            "living\n",
            "limited\n",
            "boiled\n",
            "dining\n",
            "liked\n",
            "sliced\n",
            "attached\n",
            "humiliated\n",
            "calling\n",
            "filling\n",
            "traged\n",
            "fried\n",
            "amazing\n",
            "thing\n",
            "incred\n",
            "impressed\n",
            "disappointed\n",
            "priced\n",
            "Everything\n",
            "fing\n",
            "disappointed\n",
            "thing\n",
            "amazing\n",
            "need\n",
            "Everything\n",
            "interesting\n",
            "need\n",
            "experienced\n",
            "amazing\n",
            "amazing\n",
            "waited\n",
            "seated\n",
            "waiting\n",
            "going\n",
            "going\n",
            "dining\n",
            "decided\n",
            "pleased\n",
            "saving\n",
            "something\n",
            "trying\n",
            "disgusting\n",
            "hankering\n",
            "recommended\n",
            "being\n",
            "helped\n",
            "need\n",
            "witnessed\n",
            "Waited\n",
            "waited\n",
            "waited\n",
            "checked\n",
            "tasted\n",
            "disappointed\n",
            "being\n",
            "served\n",
            "rated\n",
            "recommended\n",
            "pulled\n",
            "waited\n",
            "being\n",
            "acknowledged\n",
            "setting\n",
            "thing\n",
            "perpared\n",
            "dusted\n",
            "powdered\n",
            "wing\n",
            "enjoyed\n",
            "expanded\n",
            "sitting\n",
            "ended\n",
            "waiting\n",
            "arrived\n",
            "satisfying\n",
            "wanted\n",
            "disappointed\n",
            "eating\n",
            "need\n",
            "being\n",
            "freaking\n",
            "checked\n",
            "impressed\n",
            "reheated\n",
            "wed\n",
            "getting\n",
            "amazing\n",
            "tasted\n",
            "disappointing\n",
            "grilled\n",
            "seasoning\n",
            "going\n",
            "focused\n",
            "roasted\n",
            "asked\n",
            "being\n",
            "ignored\n",
            "bring\n",
            "letting\n",
            "tasted\n",
            "evening\n",
            "Ordered\n",
            "greeted\n",
            "seated\n",
            "Tried\n",
            "waiting\n",
            "being\n",
            "seated\n",
            "eating\n",
            "going\n",
            "Disappointed\n",
            "ordered\n",
            "constructed\n",
            "seating\n",
            "fried\n",
            "playing\n",
            "requested\n",
            "amazing\n",
            "staying\n",
            "ring\n",
            "used\n",
            "med\n",
            "tasted\n",
            "giving\n",
            "talking\n",
            "amazing\n",
            "drenched\n",
            "amazing\n",
            "amazing\n",
            "tried\n",
            "walked\n",
            "expected\n",
            "amazing\n",
            "disappointed\n",
            "mortified\n",
            "Need\n",
            "filling\n",
            "dripping\n",
            "impressed\n",
            "going\n",
            "serving\n",
            "refrained\n",
            "recommending\n",
            "pleased\n",
            "thing\n",
            "reading\n",
            "loved\n",
            "grilled\n",
            "reminded\n",
            "seating\n",
            "sucked\n",
            "hooked\n",
            "ordered\n",
            "going\n",
            "disappointed\n",
            "everything\n",
            "seasoned\n",
            "thing\n",
            "added\n",
            "sitting\n",
            "waiting\n",
            "bring\n",
            "revisiting\n",
            "coming\n",
            "touched\n",
            "speed\n",
            "anything\n",
            "fried\n",
            "opened\n",
            "impressed\n",
            "feeling\n",
            "during\n",
            "watched\n",
            "thing\n",
            "being\n",
            "Tasted\n",
            "amazing\n",
            "being\n",
            "amazing\n",
            "ordered\n",
            "satifying\n",
            "describing\n",
            "coming\n",
            "everything\n",
            "received\n",
            "Paying\n",
            "going\n",
            "Med\n",
            "impressed\n",
            "overcooked\n",
            "cooked\n",
            "sing\n",
            "needed\n",
            "served\n",
            "thing\n",
            "ordered\n",
            "amazing\n",
            "need\n",
            "overpriced\n",
            "packed\n",
            "getting\n",
            "opposed\n",
            "cramming\n",
            "priced\n",
            "surprised\n",
            "considering\n",
            "focused\n",
            "overpriced\n",
            "fucking\n",
            "tried\n",
            "enjoyed\n",
            "going\n",
            "qualified\n",
            "tasted\n",
            "hated\n",
            "appealing\n",
            "getting\n",
            "coming\n",
            "watched\n",
            "Everything\n",
            "fried\n",
            "dealing\n",
            "everything\n",
            "tried\n",
            "something\n",
            "during\n",
            "helped\n",
            "dining\n",
            "cooking\n",
            "dining\n",
            "started\n",
            "editing\n",
            "highlighted\n",
            "setting\n",
            "used\n",
            "amazing\n",
            "med\n",
            "enjoyed\n",
            "ordered\n",
            "tasted\n",
            "asked\n",
            "med\n",
            "refused\n",
            "warning\n",
            "tried\n",
            "Med\n",
            "rotating\n",
            "Pricing\n",
            "toasted\n",
            "satisfying\n",
            "anticipated\n",
            "disappointing\n",
            "amazing\n",
            "returning\n",
            "unexperienced\n",
            "running\n",
            "insulted\n",
            "disrespected\n",
            "being\n",
            "impressed\n",
            "thing\n",
            "puréed\n",
            "nothing\n",
            "poisoning\n",
            "thinking\n",
            "something\n",
            "Need\n",
            "going\n",
            "disgusting\n",
            "caring\n",
            "bring\n",
            "asked\n",
            "Disappointing\n",
            "med\n",
            "rated\n",
            "saying\n",
            "going\n",
            "lacked\n",
            "coming\n",
            "sliced\n",
            "pulled\n",
            "building\n",
            "seating\n",
            "undercooked\n",
            "dipping\n",
            "seemed\n",
            "watered\n",
            "lacked\n",
            "disappointed\n",
            "overpriced\n",
            "setting\n",
            "ensued\n",
            "anything\n",
            "bing\n",
            "drinking\n",
            "serving\n",
            "disappointed\n",
            "need\n",
            "placed\n",
            "avoided\n",
            "received\n",
            "immed\n",
            "wanted\n",
            "doing\n",
            "sucked\n",
            "happened\n",
            "putting\n",
            "owned\n",
            "wanted\n",
            "Overpriced\n",
            "getting\n",
            "vomited\n",
            "looking\n",
            "started\n",
            "coming\n",
            "unwrapped\n",
            "lacked\n",
            "seemed\n",
            "undercooked\n",
            "closed\n",
            "staying\n",
            "refried\n",
            "dried\n",
            "disappointed\n",
            "lacking\n",
            "impressed\n",
            "underwhelming\n",
            "wasted\n",
            "poured\n",
            "drawing\n",
            "bring\n"
          ]
        }
      ]
    },
    {
      "cell_type": "code",
      "source": [
        "print(f'El docmento contiene: {count} palabras que terminan en \"ing\" o \"ed\" ')"
      ],
      "metadata": {
        "colab": {
          "base_uri": "https://localhost:8080/"
        },
        "id": "hvBM0vgg3zST",
        "outputId": "28dffd43-3178-42b9-a8af-23057a9489e4"
      },
      "execution_count": 43,
      "outputs": [
        {
          "output_type": "stream",
          "name": "stdout",
          "text": [
            "El docmento contiene: 663 palabras que terminan en \"ing\" o \"ed\" \n"
          ]
        }
      ]
    },
    {
      "cell_type": "markdown",
      "source": [
        "#**Parte 3. Proceso de limpieza.**"
      ],
      "metadata": {
        "id": "70StdqAZa9E9"
      }
    },
    {
      "cell_type": "markdown",
      "source": [
        "*   **Pregunta 13.**  \n",
        "\n",
        "Ahora realiza un proceso de limpieza del corpus que incluya los siguientes procesos:\n",
        "\n",
        "*   Solo se deben considerar caracteres alfabéticos. Es decir, se eliminan todos los signos de puntuación y caracteres especiales.\n",
        "*   Todos los caracteres alfabéticos se transforman a minúsculas.\n",
        "*   Se deben eliminar todos los espacios en blanco adicionales que se puedan encontrar en cada comentario.\n",
        "\n",
        "Al finalizar dicho proceso de limpieza, imprime el resultado de los primeros 10 comentarios resultantes. \n",
        "   \n",
        "\n",
        "\n"
      ],
      "metadata": {
        "id": "xaDUFXHrMvX2"
      }
    },
    {
      "cell_type": "code",
      "source": [
        "clean_doc=[]\n",
        "doc_min=[]\n",
        "def toLowercase(matchobj):\n",
        "   return matchobj.group(1).lower()\n",
        "for element in doc_list:\n",
        "  minusculas=re.sub(r'([A-Z])', toLowercase, element)\n",
        "  doc_min.append(minusculas)\n",
        "\n",
        "for element in doc_min:\n",
        "  element_sin_puntuacion=re.sub(r'[^a-z\\s]', '', element)\n",
        "  clean_doc.append(element_sin_puntuacion)\n",
        "\n",
        "clean_doc[0:10]\n"
      ],
      "metadata": {
        "id": "K3kQzPOPMx0w",
        "colab": {
          "base_uri": "https://localhost:8080/"
        },
        "outputId": "d0709cf9-5b7c-4c2e-f52a-293abbcf6832"
      },
      "execution_count": 52,
      "outputs": [
        {
          "output_type": "execute_result",
          "data": {
            "text/plain": [
              "['wow loved this place',\n",
              " 'crust is not good',\n",
              " 'not tasty and the texture was just nasty',\n",
              " 'stopped by during the late may bank holiday off rick steve recommendation and loved it',\n",
              " 'the selection on the menu was great and so were the prices',\n",
              " 'now i am getting angry and i want my damn pho',\n",
              " 'honeslty it didnt taste that fresh',\n",
              " 'the potatoes were like rubber and you could tell they had been made up ahead of time being kept under a warmer',\n",
              " 'the fries were great too',\n",
              " 'a great touch']"
            ]
          },
          "metadata": {},
          "execution_count": 52
        }
      ]
    },
    {
      "cell_type": "code",
      "source": [
        "corpus_tokenizado = [comentario.split() for comentario in clean_doc]\n",
        "print(corpus_tokenizado)\n",
        "# Calcular el total de tokens\n",
        "total_tokens = sum([len(comentario) for comentario in corpus_tokenizado])\n",
        "\n",
        "# Imprimir el total de tokens\n",
        "print(\"Total de tokens:\", total_tokens)"
      ],
      "metadata": {
        "id": "mYEDlHSFMyJN",
        "outputId": "74cd01f9-2ccf-4b35-883e-92d9fc2b85dd",
        "colab": {
          "base_uri": "https://localhost:8080/"
        }
      },
      "execution_count": 53,
      "outputs": [
        {
          "output_type": "stream",
          "name": "stdout",
          "text": [
            "[['wow', 'loved', 'this', 'place'], ['crust', 'is', 'not', 'good'], ['not', 'tasty', 'and', 'the', 'texture', 'was', 'just', 'nasty'], ['stopped', 'by', 'during', 'the', 'late', 'may', 'bank', 'holiday', 'off', 'rick', 'steve', 'recommendation', 'and', 'loved', 'it'], ['the', 'selection', 'on', 'the', 'menu', 'was', 'great', 'and', 'so', 'were', 'the', 'prices'], ['now', 'i', 'am', 'getting', 'angry', 'and', 'i', 'want', 'my', 'damn', 'pho'], ['honeslty', 'it', 'didnt', 'taste', 'that', 'fresh'], ['the', 'potatoes', 'were', 'like', 'rubber', 'and', 'you', 'could', 'tell', 'they', 'had', 'been', 'made', 'up', 'ahead', 'of', 'time', 'being', 'kept', 'under', 'a', 'warmer'], ['the', 'fries', 'were', 'great', 'too'], ['a', 'great', 'touch'], ['service', 'was', 'very', 'prompt'], ['would', 'not', 'go', 'back'], ['the', 'cashier', 'had', 'no', 'care', 'what', 'so', 'ever', 'on', 'what', 'i', 'had', 'to', 'say', 'it', 'still', 'ended', 'up', 'being', 'wayyy', 'overpriced'], ['i', 'tried', 'the', 'cape', 'cod', 'ravoli', 'chickenwith', 'cranberrymmmm'], ['i', 'was', 'disgusted', 'because', 'i', 'was', 'pretty', 'sure', 'that', 'was', 'human', 'hair'], ['i', 'was', 'shocked', 'because', 'no', 'signs', 'indicate', 'cash', 'only'], ['highly', 'recommended'], ['waitress', 'was', 'a', 'little', 'slow', 'in', 'service'], ['this', 'place', 'is', 'not', 'worth', 'your', 'time', 'let', 'alone', 'vegas'], ['did', 'not', 'like', 'at', 'all'], ['the', 'burrittos', 'blah'], ['the', 'food', 'amazing'], ['service', 'is', 'also', 'cute'], ['i', 'could', 'care', 'less', 'the', 'interior', 'is', 'just', 'beautiful'], ['so', 'they', 'performed'], ['thats', 'rightthe', 'red', 'velvet', 'cakeohhh', 'this', 'stuff', 'is', 'so', 'good'], ['they', 'never', 'brought', 'a', 'salad', 'we', 'asked', 'for'], ['this', 'hole', 'in', 'the', 'wall', 'has', 'great', 'mexican', 'street', 'tacos', 'and', 'friendly', 'staff'], ['took', 'an', 'hour', 'to', 'get', 'our', 'food', 'only', 'tables', 'in', 'restaurant', 'my', 'food', 'was', 'luke', 'warm', 'our', 'sever', 'was', 'running', 'around', 'like', 'he', 'was', 'totally', 'overwhelmed'], ['the', 'worst', 'was', 'the', 'salmon', 'sashimi'], ['also', 'there', 'are', 'combos', 'like', 'a', 'burger', 'fries', 'and', 'beer', 'for', 'which', 'is', 'a', 'decent', 'deal'], ['this', 'was', 'like', 'the', 'final', 'blow'], ['i', 'found', 'this', 'place', 'by', 'accident', 'and', 'i', 'could', 'not', 'be', 'happier'], ['seems', 'like', 'a', 'good', 'quick', 'place', 'to', 'grab', 'a', 'bite', 'of', 'some', 'familiar', 'pub', 'food', 'but', 'do', 'yourself', 'a', 'favor', 'and', 'look', 'elsewhere'], ['overall', 'i', 'like', 'this', 'place', 'a', 'lot'], ['the', 'only', 'redeeming', 'quality', 'of', 'the', 'restaurant', 'was', 'that', 'it', 'was', 'very', 'inexpensive'], ['ample', 'portions', 'and', 'good', 'prices'], ['poor', 'service', 'the', 'waiter', 'made', 'me', 'feel', 'like', 'i', 'was', 'stupid', 'every', 'time', 'he', 'came', 'to', 'the', 'table'], ['my', 'first', 'visit', 'to', 'hiro', 'was', 'a', 'delight'], ['service', 'sucks'], ['the', 'shrimp', 'tender', 'and', 'moist'], ['there', 'is', 'not', 'a', 'deal', 'good', 'enough', 'that', 'would', 'drag', 'me', 'into', 'that', 'establishment', 'again'], ['hard', 'to', 'judge', 'whether', 'these', 'sides', 'were', 'good', 'because', 'we', 'were', 'grossed', 'out', 'by', 'the', 'melted', 'styrofoam', 'and', 'didnt', 'want', 'to', 'eat', 'it', 'for', 'fear', 'of', 'getting', 'sick'], ['on', 'a', 'positive', 'note', 'our', 'server', 'was', 'very', 'attentive', 'and', 'provided', 'great', 'service'], ['frozen', 'pucks', 'of', 'disgust', 'with', 'some', 'of', 'the', 'worst', 'people', 'behind', 'the', 'register'], ['the', 'only', 'thing', 'i', 'did', 'like', 'was', 'the', 'prime', 'rib', 'and', 'dessert', 'section'], ['its', 'too', 'bad', 'the', 'food', 'is', 'so', 'damn', 'generic'], ['the', 'burger', 'is', 'good', 'beef', 'cooked', 'just', 'right'], ['if', 'you', 'want', 'a', 'sandwich', 'just', 'go', 'to', 'any', 'firehouse'], ['my', 'side', 'greek', 'salad', 'with', 'the', 'greek', 'dressing', 'was', 'so', 'tasty', 'and', 'the', 'pita', 'and', 'hummus', 'was', 'very', 'refreshing'], ['we', 'ordered', 'the', 'duck', 'rare', 'and', 'it', 'was', 'pink', 'and', 'tender', 'on', 'the', 'inside', 'with', 'a', 'nice', 'char', 'on', 'the', 'outside'], ['he', 'came', 'running', 'after', 'us', 'when', 'he', 'realized', 'my', 'husband', 'had', 'left', 'his', 'sunglasses', 'on', 'the', 'table'], ['their', 'chow', 'mein', 'is', 'so', 'good'], ['they', 'have', 'horrible', 'attitudes', 'towards', 'customers', 'and', 'talk', 'down', 'to', 'each', 'one', 'when', 'customers', 'dont', 'enjoy', 'their', 'food'], ['the', 'portion', 'was', 'huge'], ['loved', 'itfriendly', 'servers', 'great', 'food', 'wonderful', 'and', 'imaginative', 'menu'], ['the', 'heart', 'attack', 'grill', 'in', 'downtown', 'vegas', 'is', 'an', 'absolutely', 'flatlined', 'excuse', 'for', 'a', 'restaurant'], ['not', 'much', 'seafood', 'and', 'like', 'strings', 'of', 'pasta', 'at', 'the', 'bottom'], ['the', 'salad', 'had', 'just', 'the', 'right', 'amount', 'of', 'sauce', 'to', 'not', 'over', 'power', 'the', 'scallop', 'which', 'was', 'perfectly', 'cooked'], ['the', 'ripped', 'banana', 'was', 'not', 'only', 'ripped', 'but', 'petrified', 'and', 'tasteless'], ['at', 'least', 'think', 'to', 'refill', 'my', 'water', 'before', 'i', 'struggle', 'to', 'wave', 'you', 'over', 'for', 'minutes'], ['this', 'place', 'receives', 'stars', 'for', 'their', 'appetizers'], ['the', 'cocktails', 'are', 'all', 'handmade', 'and', 'delicious'], ['wed', 'definitely', 'go', 'back', 'here', 'again'], ['we', 'are', 'so', 'glad', 'we', 'found', 'this', 'place'], ['great', 'food', 'and', 'service', 'huge', 'portions', 'and', 'they', 'give', 'a', 'military', 'discount'], ['always', 'a', 'great', 'time', 'at', 'dos', 'gringos'], ['updatewent', 'back', 'for', 'a', 'second', 'time', 'and', 'it', 'was', 'still', 'just', 'as', 'amazing'], ['we', 'got', 'the', 'food', 'and', 'apparently', 'they', 'have', 'never', 'heard', 'of', 'salt', 'and', 'the', 'batter', 'on', 'the', 'fish', 'was', 'chewy'], ['a', 'great', 'way', 'to', 'finish', 'a', 'great'], ['the', 'deal', 'included', 'tastings', 'and', 'drinks', 'and', 'jeff', 'went', 'above', 'and', 'beyond', 'what', 'we', 'expected'], ['really', 'really', 'good', 'rice', 'all', 'the', 'time'], ['the', 'service', 'was', 'meh'], ['it', 'took', 'over', 'min', 'to', 'get', 'their', 'milkshake', 'which', 'was', 'nothing', 'more', 'than', 'chocolate', 'milk'], ['i', 'guess', 'i', 'should', 'have', 'known', 'that', 'this', 'place', 'would', 'suck', 'because', 'it', 'is', 'inside', 'of', 'the', 'excalibur', 'but', 'i', 'didnt', 'use', 'my', 'common', 'sense'], ['the', 'scallop', 'dish', 'is', 'quite', 'appalling', 'for', 'value', 'as', 'well'], ['times', 'very', 'bad', 'customer', 'service'], ['the', 'sweet', 'potato', 'fries', 'were', 'very', 'good', 'and', 'seasoned', 'well'], ['today', 'is', 'the', 'second', 'time', 'ive', 'been', 'to', 'their', 'lunch', 'buffet', 'and', 'it', 'was', 'pretty', 'good'], ['there', 'is', 'so', 'much', 'good', 'food', 'in', 'vegas', 'that', 'i', 'feel', 'cheated', 'for', 'wasting', 'an', 'eating', 'opportunity', 'by', 'going', 'to', 'rice', 'and', 'company'], ['coming', 'here', 'is', 'like', 'experiencing', 'an', 'underwhelming', 'relationship', 'where', 'both', 'parties', 'cant', 'wait', 'for', 'the', 'other', 'person', 'to', 'ask', 'to', 'break', 'up'], ['walked', 'in', 'and', 'the', 'place', 'smelled', 'like', 'an', 'old', 'grease', 'trap', 'and', 'only', 'others', 'there', 'eating'], ['the', 'turkey', 'and', 'roast', 'beef', 'were', 'bland'], ['this', 'place', 'has', 'it'], ['the', 'pan', 'cakes', 'everyone', 'are', 'raving', 'about', 'taste', 'like', 'a', 'sugary', 'disaster', 'tailored', 'to', 'the', 'palate', 'of', 'a', 'six', 'year', 'old'], ['i', 'love', 'the', 'pho', 'and', 'the', 'spring', 'rolls', 'oh', 'so', 'yummy', 'you', 'have', 'to', 'try'], ['the', 'poor', 'batter', 'to', 'meat', 'ratio', 'made', 'the', 'chicken', 'tenders', 'very', 'unsatisfying'], ['all', 'i', 'have', 'to', 'say', 'is', 'the', 'food', 'was', 'amazing'], ['omelets', 'are', 'to', 'die', 'for'], ['everything', 'was', 'fresh', 'and', 'delicious'], ['in', 'summary', 'this', 'was', 'a', 'largely', 'disappointing', 'dining', 'experience'], ['its', 'like', 'a', 'really', 'sexy', 'party', 'in', 'your', 'mouth', 'where', 'youre', 'outrageously', 'flirting', 'with', 'the', 'hottest', 'person', 'at', 'the', 'party'], ['never', 'been', 'to', 'hard', 'rock', 'casino', 'before', 'will', 'never', 'ever', 'step', 'forward', 'in', 'it', 'again'], ['best', 'breakfast', 'buffet'], ['say', 'bye', 'bye', 'to', 'your', 'tip', 'lady'], ['well', 'never', 'go', 'again'], ['will', 'be', 'back', 'again'], ['food', 'arrived', 'quickly'], ['it', 'was', 'not', 'good'], ['on', 'the', 'up', 'side', 'their', 'cafe', 'serves', 'really', 'good', 'food'], ['our', 'server', 'was', 'fantastic', 'and', 'when', 'he', 'found', 'out', 'the', 'wife', 'loves', 'roasted', 'garlic', 'and', 'bone', 'marrow', 'he', 'added', 'extra', 'to', 'our', 'meal', 'and', 'another', 'marrow', 'to', 'go'], ['the', 'only', 'good', 'thing', 'was', 'our', 'waiter', 'he', 'was', 'very', 'helpful', 'and', 'kept', 'the', 'bloddy', 'marys', 'coming'], ['best', 'buffet', 'in', 'town', 'for', 'the', 'price', 'you', 'cannot', 'beat', 'it'], ['i', 'loved', 'their', 'mussels', 'cooked', 'in', 'this', 'wine', 'reduction', 'the', 'duck', 'was', 'tender', 'and', 'their', 'potato', 'dishes', 'were', 'delicious'], ['this', 'is', 'one', 'of', 'the', 'better', 'buffets', 'that', 'i', 'have', 'been', 'to'], ['so', 'we', 'went', 'to', 'tigerlilly', 'and', 'had', 'a', 'fantastic', 'afternoon'], ['the', 'food', 'was', 'delicious', 'our', 'bartender', 'was', 'attentive', 'and', 'personable', 'and', 'we', 'got', 'a', 'great', 'deal'], ['the', 'ambience', 'is', 'wonderful', 'and', 'there', 'is', 'music', 'playing'], ['will', 'go', 'back', 'next', 'trip', 'out'], ['sooooo', 'good'], ['real', 'sushi', 'lovers', 'lets', 'be', 'honest', 'yama', 'is', 'not', 'that', 'good'], ['at', 'least', 'min', 'passed', 'in', 'between', 'us', 'ordering', 'and', 'the', 'food', 'arriving', 'and', 'it', 'wasnt', 'that', 'busy'], ['this', 'is', 'a', 'really', 'fantastic', 'thai', 'restaurant', 'which', 'is', 'definitely', 'worth', 'a', 'visit'], ['nice', 'spicy', 'and', 'tender'], ['good', 'prices'], ['check', 'it', 'out'], ['it', 'was', 'pretty', 'gross'], ['ive', 'had', 'better', 'atmosphere'], ['kind', 'of', 'hard', 'to', 'mess', 'up', 'a', 'steak', 'but', 'they', 'did'], ['although', 'i', 'very', 'much', 'liked', 'the', 'look', 'and', 'sound', 'of', 'this', 'place', 'the', 'actual', 'experience', 'was', 'a', 'bit', 'disappointing'], ['i', 'just', 'dont', 'know', 'how', 'this', 'place', 'managed', 'to', 'served', 'the', 'blandest', 'food', 'i', 'have', 'ever', 'eaten', 'when', 'they', 'are', 'preparing', 'indian', 'cuisine'], ['worst', 'service', 'to', 'boot', 'but', 'that', 'is', 'the', 'least', 'of', 'their', 'worries'], ['service', 'was', 'fine', 'and', 'the', 'waitress', 'was', 'friendly'], ['the', 'guys', 'all', 'had', 'steaks', 'and', 'our', 'steak', 'loving', 'son', 'who', 'has', 'had', 'steak', 'at', 'the', 'best', 'and', 'worst', 'places', 'said', 'it', 'was', 'the', 'best', 'steak', 'hes', 'ever', 'eaten'], ['we', 'thought', 'youd', 'have', 'to', 'venture', 'further', 'away', 'to', 'get', 'good', 'sushi', 'but', 'this', 'place', 'really', 'hit', 'the', 'spot', 'that', 'night'], ['host', 'staff', 'were', 'for', 'lack', 'of', 'a', 'better', 'word', 'bitches'], ['bland', 'not', 'a', 'liking', 'this', 'place', 'for', 'a', 'number', 'of', 'reasons', 'and', 'i', 'dont', 'want', 'to', 'waste', 'time', 'on', 'bad', 'reviewing', 'ill', 'leave', 'it', 'at', 'that'], ['phenomenal', 'food', 'service', 'and', 'ambiance'], ['i', 'wouldnt', 'return'], ['definitely', 'worth', 'venturing', 'off', 'the', 'strip', 'for', 'the', 'pork', 'belly', 'will', 'return', 'next', 'time', 'im', 'in', 'vegas'], ['this', 'place', 'is', 'way', 'too', 'overpriced', 'for', 'mediocre', 'food'], ['penne', 'vodka', 'excellent'], ['they', 'have', 'a', 'good', 'selection', 'of', 'food', 'including', 'a', 'massive', 'meatloaf', 'sandwich', 'a', 'crispy', 'chicken', 'wrap', 'a', 'delish', 'tuna', 'melt', 'and', 'some', 'tasty', 'burgers'], ['the', 'management', 'is', 'rude'], ['delicious', 'nyc', 'bagels', 'good', 'selections', 'of', 'cream', 'cheese', 'real', 'lox', 'with', 'capers', 'even'], ['great', 'subway', 'in', 'fact', 'its', 'so', 'good', 'when', 'you', 'come', 'here', 'every', 'other', 'subway', 'will', 'not', 'meet', 'your', 'expectations'], ['i', 'had', 'a', 'seriously', 'solid', 'breakfast', 'here'], ['this', 'is', 'one', 'of', 'the', 'best', 'bars', 'with', 'food', 'in', 'vegas'], ['he', 'was', 'extremely', 'rude', 'and', 'really', 'there', 'are', 'so', 'many', 'other', 'restaurants', 'i', 'would', 'love', 'to', 'dine', 'at', 'during', 'a', 'weekend', 'in', 'vegas'], ['my', 'drink', 'was', 'never', 'empty', 'and', 'he', 'made', 'some', 'really', 'great', 'menu', 'suggestions'], ['dont', 'do', 'it'], ['the', 'waiter', 'wasnt', 'helpful', 'or', 'friendly', 'and', 'rarely', 'checked', 'on', 'us'], ['my', 'husband', 'and', 'i', 'ate', 'lunch', 'here', 'and', 'were', 'very', 'disappointed', 'with', 'the', 'food', 'and', 'service'], ['and', 'the', 'red', 'curry', 'had', 'so', 'much', 'bamboo', 'shoots', 'and', 'wasnt', 'very', 'tasty', 'to', 'me'], ['nice', 'blanket', 'of', 'moz', 'over', 'top', 'but', 'i', 'feel', 'like', 'this', 'was', 'done', 'to', 'cover', 'up', 'the', 'subpar', 'food'], ['the', 'bathrooms', 'are', 'clean', 'and', 'the', 'place', 'itself', 'is', 'well', 'decorated'], ['the', 'menu', 'is', 'always', 'changing', 'food', 'quality', 'is', 'going', 'down', 'service', 'is', 'extremely', 'slow'], ['the', 'service', 'was', 'a', 'little', 'slow', 'considering', 'that', 'were', 'served', 'by', 'people', 'servers', 'so', 'the', 'food', 'was', 'coming', 'in', 'a', 'slow', 'pace'], ['i', 'give', 'it', 'thumbs', 'down'], ['we', 'watched', 'our', 'waiter', 'pay', 'a', 'lot', 'more', 'attention', 'to', 'other', 'tables', 'and', 'ignore', 'us'], ['my', 'fianc', 'and', 'i', 'came', 'in', 'the', 'middle', 'of', 'the', 'day', 'and', 'we', 'were', 'greeted', 'and', 'seated', 'right', 'away'], ['this', 'is', 'a', 'great', 'restaurant', 'at', 'the', 'mandalay', 'bay'], ['we', 'waited', 'for', 'forty', 'five', 'minutes', 'in', 'vain'], ['crostini', 'that', 'came', 'with', 'the', 'salad', 'was', 'stale'], ['some', 'highlights', 'great', 'quality', 'nigiri', 'here'], ['the', 'staff', 'is', 'friendly', 'and', 'the', 'joint', 'is', 'always', 'clean'], ['this', 'was', 'a', 'different', 'cut', 'than', 'the', 'piece', 'the', 'other', 'day', 'but', 'still', 'wonderful', 'and', 'tender', 's', 'well', 'as', 'well', 'flavored'], ['i', 'ordered', 'the', 'voodoo', 'pasta', 'and', 'it', 'was', 'the', 'first', 'time', 'id', 'had', 'really', 'excellent', 'pasta', 'since', 'going', 'gluten', 'free', 'several', 'years', 'ago'], ['this', 'place', 'is', 'good'], ['unfortunately', 'we', 'must', 'have', 'hit', 'the', 'bakery', 'on', 'leftover', 'day', 'because', 'everything', 'we', 'ordered', 'was', 'stale'], ['i', 'came', 'back', 'today', 'since', 'they', 'relocated', 'and', 'still', 'not', 'impressed'], ['i', 'was', 'seated', 'immediately'], ['their', 'menu', 'is', 'diverse', 'and', 'reasonably', 'priced'], ['avoid', 'at', 'all', 'cost'], ['restaurant', 'is', 'always', 'full', 'but', 'never', 'a', 'wait'], ['delicious'], ['this', 'place', 'is', 'handsdown', 'one', 'of', 'the', 'best', 'places', 'to', 'eat', 'in', 'the', 'phoenix', 'metro', 'area'], ['so', 'dont', 'go', 'there', 'if', 'you', 'are', 'looking', 'for', 'good', 'food'], ['ive', 'never', 'been', 'treated', 'so', 'bad'], ['bacon', 'is', 'hella', 'salty'], ['we', 'also', 'ordered', 'the', 'spinach', 'and', 'avocado', 'salad', 'the', 'ingredients', 'were', 'sad', 'and', 'the', 'dressing', 'literally', 'had', 'zero', 'taste'], ['this', 'really', 'is', 'how', 'vegas', 'fine', 'dining', 'used', 'to', 'be', 'right', 'down', 'to', 'the', 'menus', 'handed', 'to', 'the', 'ladies', 'that', 'have', 'no', 'prices', 'listed'], ['the', 'waitresses', 'are', 'very', 'friendly'], ['lordy', 'the', 'khao', 'soi', 'is', 'a', 'dish', 'that', 'is', 'not', 'to', 'be', 'missed', 'for', 'curry', 'lovers'], ['everything', 'on', 'the', 'menu', 'is', 'terrific', 'and', 'we', 'were', 'also', 'thrilled', 'that', 'they', 'made', 'amazing', 'accommodations', 'for', 'our', 'vegetarian', 'daughter'], ['perhaps', 'i', 'caught', 'them', 'on', 'an', 'off', 'night', 'judging', 'by', 'the', 'other', 'reviews', 'but', 'im', 'not', 'inspired', 'to', 'go', 'back'], ['the', 'service', 'here', 'leaves', 'a', 'lot', 'to', 'be', 'desired'], ['the', 'atmosphere', 'is', 'modern', 'and', 'hip', 'while', 'maintaining', 'a', 'touch', 'of', 'coziness'], ['not', 'a', 'weekly', 'haunt', 'but', 'definitely', 'a', 'place', 'to', 'come', 'back', 'to', 'every', 'once', 'in', 'a', 'while'], ['we', 'literally', 'sat', 'there', 'for', 'minutes', 'with', 'no', 'one', 'asking', 'to', 'take', 'our', 'order'], ['the', 'burger', 'had', 'absolutely', 'no', 'flavor', 'the', 'meat', 'itself', 'was', 'totally', 'bland', 'the', 'burger', 'was', 'overcooked', 'and', 'there', 'was', 'no', 'charcoal', 'flavor'], ['i', 'also', 'decided', 'not', 'to', 'send', 'it', 'back', 'because', 'our', 'waitress', 'looked', 'like', 'she', 'was', 'on', 'the', 'verge', 'of', 'having', 'a', 'heart', 'attack'], ['i', 'dressed', 'up', 'to', 'be', 'treated', 'so', 'rudely'], ['it', 'was', 'probably', 'dirt'], ['love', 'this', 'place', 'hits', 'the', 'spot', 'when', 'i', 'want', 'something', 'healthy', 'but', 'not', 'lacking', 'in', 'quantity', 'or', 'flavor'], ['i', 'ordered', 'the', 'lemon', 'raspberry', 'ice', 'cocktail', 'which', 'was', 'also', 'incredible'], ['the', 'food', 'sucked', 'which', 'we', 'expected', 'but', 'it', 'sucked', 'more', 'than', 'we', 'could', 'have', 'imagined'], ['interesting', 'decor'], ['what', 'i', 'really', 'like', 'there', 'is', 'the', 'crepe', 'station'], ['also', 'were', 'served', 'hot', 'bread', 'and', 'butter', 'and', 'home', 'made', 'potato', 'chips', 'with', 'bacon', 'bits', 'on', 'topvery', 'original', 'and', 'very', 'good'], ['you', 'can', 'watch', 'them', 'preparing', 'the', 'delicious', 'food'], ['both', 'of', 'the', 'egg', 'rolls', 'were', 'fantastic'], ['when', 'my', 'order', 'arrived', 'one', 'of', 'the', 'gyros', 'was', 'missing'], ['i', 'had', 'a', 'salad', 'with', 'the', 'wings', 'and', 'some', 'ice', 'cream', 'for', 'dessert', 'and', 'left', 'feeling', 'quite', 'satisfied'], ['im', 'not', 'really', 'sure', 'how', 'joeys', 'was', 'voted', 'best', 'hot', 'dog', 'in', 'the', 'valley', 'by', 'readers', 'of', 'phoenix', 'magazine'], ['the', 'best', 'place', 'to', 'go', 'for', 'a', 'tasty', 'bowl', 'of', 'pho'], ['the', 'live', 'music', 'on', 'fridays', 'totally', 'blows'], ['ive', 'never', 'been', 'more', 'insulted', 'or', 'felt', 'disrespected'], ['very', 'friendly', 'staff'], ['it', 'is', 'worth', 'the', 'drive'], ['i', 'had', 'heard', 'good', 'things', 'about', 'this', 'place', 'but', 'it', 'exceeding', 'every', 'hope', 'i', 'could', 'have', 'dreamed', 'of'], ['food', 'was', 'great', 'and', 'so', 'was', 'the', 'serivce'], ['the', 'warm', 'beer', 'didnt', 'help'], ['great', 'brunch', 'spot'], ['service', 'is', 'friendly', 'and', 'inviting'], ['very', 'good', 'lunch', 'spot'], ['ive', 'lived', 'here', 'since', 'and', 'this', 'was', 'the', 'first', 'and', 'last', 'time', 'ive', 'stepped', 'foot', 'into', 'this', 'place'], ['the', 'worst', 'experience', 'ever'], ['must', 'have', 'been', 'an', 'off', 'night', 'at', 'this', 'place'], ['the', 'sides', 'are', 'delish', 'mixed', 'mushrooms', 'yukon', 'gold', 'puree', 'white', 'corn', 'beateous'], ['if', 'that', 'bug', 'never', 'showed', 'up', 'i', 'would', 'have', 'given', 'a', 'for', 'sure', 'but', 'on', 'the', 'other', 'side', 'of', 'the', 'wall', 'where', 'this', 'bug', 'was', 'climbing', 'was', 'the', 'kitchen'], ['for', 'about', 'minutes', 'we', 'were', 'waiting', 'for', 'her', 'salad', 'when', 'we', 'realized', 'that', 'it', 'wasnt', 'coming', 'any', 'time', 'soon'], ['my', 'friend', 'loved', 'the', 'salmon', 'tartar'], ['wont', 'go', 'back'], ['extremely', 'tasty'], ['waitress', 'was', 'good', 'though'], ['soggy', 'and', 'not', 'good'], ['the', 'jamaican', 'mojitos', 'are', 'delicious'], ['which', 'are', 'small', 'and', 'not', 'worth', 'the', 'price'], ['the', 'food', 'is', 'rich', 'so', 'order', 'accordingly'], ['the', 'shower', 'area', 'is', 'outside', 'so', 'you', 'can', 'only', 'rinse', 'not', 'take', 'a', 'full', 'shower', 'unless', 'you', 'dont', 'mind', 'being', 'nude', 'for', 'everyone', 'to', 'see'], ['the', 'service', 'was', 'a', 'bit', 'lacking'], ['lobster', 'bisque', 'bussell', 'sprouts', 'risotto', 'filet', 'all', 'needed', 'salt', 'and', 'pepperand', 'of', 'course', 'there', 'is', 'none', 'at', 'the', 'tables'], ['hopefully', 'this', 'bodes', 'for', 'them', 'going', 'out', 'of', 'business', 'and', 'someone', 'who', 'can', 'cook', 'can', 'come', 'in'], ['it', 'was', 'either', 'too', 'cold', 'not', 'enough', 'flavor', 'or', 'just', 'bad'], ['i', 'loved', 'the', 'bacon', 'wrapped', 'dates'], ['this', 'is', 'an', 'unbelievable', 'bargain'], ['the', 'folks', 'at', 'otto', 'always', 'make', 'us', 'feel', 'so', 'welcome', 'and', 'special'], ['as', 'for', 'the', 'mains', 'also', 'uninspired'], ['this', 'is', 'the', 'place', 'where', 'i', 'first', 'had', 'pho', 'and', 'it', 'was', 'amazing'], ['this', 'wonderful', 'experience', 'made', 'this', 'place', 'a', 'muststop', 'whenever', 'we', 'are', 'in', 'town', 'again'], ['if', 'the', 'food', 'isnt', 'bad', 'enough', 'for', 'you', 'then', 'enjoy', 'dealing', 'with', 'the', 'worlds', 'worstannoying', 'drunk', 'people'], ['very', 'very', 'fun', 'chef'], ['ordered', 'a', 'double', 'cheeseburger', 'got', 'a', 'single', 'patty', 'that', 'was', 'falling', 'apart', 'picture', 'uploaded', 'yeah', 'still', 'sucks'], ['great', 'place', 'to', 'have', 'a', 'couple', 'drinks', 'and', 'watch', 'any', 'and', 'all', 'sporting', 'events', 'as', 'the', 'walls', 'are', 'covered', 'with', 'tvs'], ['if', 'it', 'were', 'possible', 'to', 'give', 'them', 'zero', 'stars', 'theyd', 'have', 'it'], ['the', 'descriptions', 'said', 'yum', 'yum', 'sauce', 'and', 'another', 'said', 'eel', 'sauce', 'yet', 'another', 'said', 'spicy', 'mayowell', 'none', 'of', 'the', 'rolls', 'had', 'sauces', 'on', 'them'], ['id', 'say', 'that', 'would', 'be', 'the', 'hardest', 'decision', 'honestly', 'all', 'of', 'ms', 'dishes', 'taste', 'how', 'they', 'are', 'supposed', 'to', 'taste', 'amazing'], ['if', 'she', 'had', 'not', 'rolled', 'the', 'eyes', 'we', 'may', 'have', 'stayed', 'not', 'sure', 'if', 'we', 'will', 'go', 'back', 'and', 'try', 'it', 'again'], ['everyone', 'is', 'very', 'attentive', 'providing', 'excellent', 'customer', 'service'], ['horrible', 'dont', 'waste', 'your', 'time', 'and', 'money'], ['now', 'this', 'dish', 'was', 'quite', 'flavourful'], ['by', 'this', 'time', 'our', 'side', 'of', 'the', 'restaurant', 'was', 'almost', 'empty', 'so', 'there', 'was', 'no', 'excuse'], ['it', 'wasnt', 'busy', 'either', 'also', 'the', 'building', 'was', 'freezing', 'cold'], ['like', 'the', 'other', 'reviewer', 'said', 'you', 'couldnt', 'pay', 'me', 'to', 'eat', 'at', 'this', 'place', 'again'], ['drinks', 'took', 'close', 'to', 'minutes', 'to', 'come', 'out', 'at', 'one', 'point'], ['seriously', 'flavorful', 'delights', 'folks'], ['much', 'better', 'than', 'the', 'other', 'ayce', 'sushi', 'place', 'i', 'went', 'to', 'in', 'vegas'], ['the', 'lighting', 'is', 'just', 'dark', 'enough', 'to', 'set', 'the', 'mood'], ['based', 'on', 'the', 'subpar', 'service', 'i', 'received', 'and', 'no', 'effort', 'to', 'show', 'their', 'gratitude', 'for', 'my', 'business', 'i', 'wont', 'be', 'going', 'back'], ['owners', 'are', 'really', 'great', 'people'], ['there', 'is', 'nothing', 'privileged', 'about', 'workingeating', 'there'], ['the', 'greek', 'dressing', 'was', 'very', 'creamy', 'and', 'flavorful'], ['overall', 'i', 'dont', 'think', 'that', 'i', 'would', 'take', 'my', 'parents', 'to', 'this', 'place', 'again', 'because', 'they', 'made', 'most', 'of', 'the', 'similar', 'complaints', 'that', 'i', 'silently', 'felt', 'too'], ['now', 'the', 'pizza', 'itself', 'was', 'good', 'the', 'peanut', 'sauce', 'was', 'very', 'tasty'], ['we', 'had', 'at', 'our', 'table', 'and', 'the', 'service', 'was', 'pretty', 'fast'], ['fantastic', 'service', 'here'], ['i', 'as', 'well', 'wouldve', 'given', 'godfathers', 'zero', 'stars', 'if', 'possible'], ['they', 'know', 'how', 'to', 'make', 'them', 'here'], ['very', 'tough', 'and', 'very', 'short', 'on', 'flavor'], ['i', 'hope', 'this', 'place', 'sticks', 'around'], ['i', 'have', 'been', 'in', 'more', 'than', 'a', 'few', 'bars', 'in', 'vegas', 'and', 'do', 'not', 'ever', 'recall', 'being', 'charged', 'for', 'tap', 'water'], ['the', 'restaurant', 'atmosphere', 'was', 'exquisite'], ['good', 'service', 'very', 'clean', 'and', 'inexpensive', 'to', 'boot'], ['the', 'seafood', 'was', 'fresh', 'and', 'generous', 'in', 'portion'], ['plus', 'its', 'only', 'bucks'], ['the', 'service', 'was', 'not', 'up', 'to', 'par', 'either'], ['thus', 'far', 'have', 'only', 'visited', 'twice', 'and', 'the', 'food', 'was', 'absolutely', 'delicious', 'each', 'time'], ['just', 'as', 'good', 'as', 'when', 'i', 'had', 'it', 'more', 'than', 'a', 'year', 'ago'], ['for', 'a', 'self', 'proclaimed', 'coffee', 'cafe', 'i', 'was', 'wildly', 'disappointed'], ['the', 'veggitarian', 'platter', 'is', 'out', 'of', 'this', 'world'], ['you', 'cant', 'go', 'wrong', 'with', 'any', 'of', 'the', 'food', 'here'], ['you', 'cant', 'beat', 'that'], ['stopped', 'by', 'this', 'place', 'while', 'in', 'madison', 'for', 'the', 'ironman', 'very', 'friendly', 'kind', 'staff'], ['the', 'chefs', 'were', 'friendly', 'and', 'did', 'a', 'good', 'job'], ['ive', 'had', 'better', 'not', 'only', 'from', 'dedicated', 'boba', 'tea', 'spots', 'but', 'even', 'from', 'jenni', 'pho'], ['i', 'liked', 'the', 'patio', 'and', 'the', 'service', 'was', 'outstanding'], ['the', 'goat', 'taco', 'didnt', 'skimp', 'on', 'the', 'meat', 'and', 'wow', 'what', 'flavor'], ['i', 'think', 'not', 'again'], ['i', 'had', 'the', 'mac', 'salad', 'and', 'it', 'was', 'pretty', 'bland', 'so', 'i', 'will', 'not', 'be', 'getting', 'that', 'again'], ['i', 'went', 'to', 'bachi', 'burger', 'on', 'a', 'friends', 'recommendation', 'and', 'was', 'not', 'disappointed'], ['service', 'stinks', 'here'], ['i', 'waited', 'and', 'waited'], ['this', 'place', 'is', 'not', 'quality', 'sushi', 'it', 'is', 'not', 'a', 'quality', 'restaurant'], ['i', 'would', 'definitely', 'recommend', 'the', 'wings', 'as', 'well', 'as', 'the', 'pizza'], ['great', 'pizza', 'and', 'salads'], ['things', 'that', 'went', 'wrong', 'they', 'burned', 'the', 'saganaki'], ['we', 'waited', 'an', 'hour', 'for', 'what', 'was', 'a', 'breakfast', 'i', 'could', 'have', 'done', 'times', 'better', 'at', 'home'], ['this', 'place', 'is', 'amazing'], ['i', 'hate', 'to', 'disagree', 'with', 'my', 'fellow', 'yelpers', 'but', 'my', 'husband', 'and', 'i', 'were', 'so', 'disappointed', 'with', 'this', 'place'], ['waited', 'hours', 'never', 'got', 'either', 'of', 'our', 'pizzas', 'as', 'many', 'other', 'around', 'us', 'who', 'came', 'in', 'later', 'did'], ['just', 'dont', 'know', 'why', 'they', 'were', 'so', 'slow'], ['the', 'staff', 'is', 'great', 'the', 'food', 'is', 'delish', 'and', 'they', 'have', 'an', 'incredible', 'beer', 'selection'], ['i', 'live', 'in', 'the', 'neighborhood', 'so', 'i', 'am', 'disappointed', 'i', 'wont', 'be', 'back', 'here', 'because', 'it', 'is', 'a', 'convenient', 'location'], ['i', 'didnt', 'know', 'pulled', 'pork', 'could', 'be', 'soooo', 'delicious'], ['you', 'get', 'incredibly', 'fresh', 'fish', 'prepared', 'with', 'care'], ['before', 'i', 'go', 'in', 'to', 'why', 'i', 'gave', 'a', 'star', 'rating', 'please', 'know', 'that', 'this', 'was', 'my', 'third', 'time', 'eating', 'at', 'bachi', 'burger', 'before', 'writing', 'a', 'review'], ['i', 'love', 'the', 'fact', 'that', 'everything', 'on', 'their', 'menu', 'is', 'worth', 'it'], ['never', 'again', 'will', 'i', 'be', 'dining', 'at', 'this', 'place'], ['the', 'food', 'was', 'excellent', 'and', 'service', 'was', 'very', 'good'], ['good', 'beer', 'drink', 'selection', 'and', 'good', 'food', 'selection'], ['please', 'stay', 'away', 'from', 'the', 'shrimp', 'stir', 'fried', 'noodles'], ['the', 'potato', 'chip', 'order', 'was', 'sad', 'i', 'could', 'probably', 'count', 'how', 'many', 'chips', 'were', 'in', 'that', 'box', 'and', 'it', 'was', 'probably', 'around'], ['food', 'was', 'really', 'boring'], ['good', 'servicecheck'], ['this', 'greedy', 'corporation', 'will', 'never', 'see', 'another', 'dime', 'from', 'me'], ['will', 'never', 'ever', 'go', 'back'], ['as', 'much', 'as', 'id', 'like', 'to', 'go', 'back', 'i', 'cant', 'get', 'passed', 'the', 'atrocious', 'service', 'and', 'will', 'never', 'return'], ['in', 'the', 'summer', 'you', 'can', 'dine', 'in', 'a', 'charming', 'outdoor', 'patio', 'so', 'very', 'delightful'], ['i', 'did', 'not', 'expect', 'this', 'to', 'be', 'so', 'good'], ['fantastic', 'food'], ['she', 'ordered', 'a', 'toasted', 'english', 'muffin', 'that', 'came', 'out', 'untoasted'], ['the', 'food', 'was', 'very', 'good'], ['never', 'going', 'back'], ['great', 'food', 'for', 'the', 'price', 'which', 'is', 'very', 'high', 'quality', 'and', 'house', 'made'], ['the', 'bus', 'boy', 'on', 'the', 'other', 'hand', 'was', 'so', 'rude'], ['by', 'this', 'point', 'my', 'friends', 'and', 'i', 'had', 'basically', 'figured', 'out', 'this', 'place', 'was', 'a', 'joke', 'and', 'didnt', 'mind', 'making', 'it', 'publicly', 'and', 'loudly', 'known'], ['back', 'to', 'good', 'bbq', 'lighter', 'fare', 'reasonable', 'pricing', 'and', 'tell', 'the', 'public', 'they', 'are', 'back', 'to', 'the', 'old', 'ways'], ['and', 'considering', 'the', 'two', 'of', 'us', 'left', 'there', 'very', 'full', 'and', 'happy', 'for', 'about', 'you', 'just', 'cant', 'go', 'wrong'], ['all', 'the', 'bread', 'is', 'made', 'inhouse'], ['the', 'only', 'downside', 'is', 'the', 'service'], ['also', 'the', 'fries', 'are', 'without', 'a', 'doubt', 'the', 'worst', 'fries', 'ive', 'ever', 'had'], ['service', 'was', 'exceptional', 'and', 'food', 'was', 'a', 'good', 'as', 'all', 'the', 'reviews'], ['a', 'couple', 'of', 'months', 'later', 'i', 'returned', 'and', 'had', 'an', 'amazing', 'meal'], ['favorite', 'place', 'in', 'town', 'for', 'shawarrrrrrma'], ['the', 'black', 'eyed', 'peas', 'and', 'sweet', 'potatoes', 'unreal'], ['you', 'wont', 'be', 'disappointed'], ['they', 'could', 'serve', 'it', 'with', 'just', 'the', 'vinaigrette', 'and', 'it', 'may', 'make', 'for', 'a', 'better', 'overall', 'dish', 'but', 'it', 'was', 'still', 'very', 'good'], ['i', 'go', 'to', 'far', 'too', 'many', 'places', 'and', 'ive', 'never', 'seen', 'any', 'restaurant', 'that', 'serves', 'a', 'egg', 'breakfast', 'especially', 'for'], ['when', 'my', 'mom', 'and', 'i', 'got', 'home', 'she', 'immediately', 'got', 'sick', 'and', 'she', 'only', 'had', 'a', 'few', 'bites', 'of', 'salad'], ['the', 'servers', 'are', 'not', 'pleasant', 'to', 'deal', 'with', 'and', 'they', 'dont', 'always', 'honor', 'pizza', 'hut', 'coupons'], ['both', 'of', 'them', 'were', 'truly', 'unbelievably', 'good', 'and', 'i', 'am', 'so', 'glad', 'we', 'went', 'back'], ['we', 'had', 'fantastic', 'service', 'and', 'were', 'pleased', 'by', 'the', 'atmosphere'], ['everything', 'was', 'gross'], ['i', 'love', 'this', 'place'], ['great', 'service', 'and', 'food'], ['first', 'the', 'bathrooms', 'at', 'this', 'location', 'were', 'dirty', 'seat', 'covers', 'were', 'not', 'replenished', 'just', 'plain', 'yucky'], ['the', 'burger', 'i', 'got', 'the', 'gold', 'standard', 'a', 'burger', 'and', 'was', 'kind', 'of', 'disappointed'], ['omg', 'the', 'food', 'was', 'delicioso'], ['there', 'is', 'nothing', 'authentic', 'about', 'this', 'place'], ['the', 'spaghetti', 'is', 'nothing', 'special', 'whatsoever'], ['of', 'all', 'the', 'dishes', 'the', 'salmon', 'was', 'the', 'best', 'but', 'all', 'were', 'great'], ['the', 'vegetables', 'are', 'so', 'fresh', 'and', 'the', 'sauce', 'feels', 'like', 'authentic', 'thai'], ['its', 'worth', 'driving', 'up', 'from', 'tucson'], ['the', 'selection', 'was', 'probably', 'the', 'worst', 'ive', 'seen', 'in', 'vegasthere', 'was', 'none'], ['pretty', 'good', 'beer', 'selection', 'too'], ['this', 'place', 'is', 'like', 'chipotle', 'but', 'better'], ['classywarm', 'atmosphere', 'fun', 'and', 'fresh', 'appetizers', 'succulent', 'steaks', 'baseball', 'steak'], ['stars', 'for', 'the', 'brick', 'oven', 'bread', 'app'], ['i', 'have', 'eaten', 'here', 'multiple', 'times', 'and', 'each', 'time', 'the', 'food', 'was', 'delicious'], ['we', 'sat', 'another', 'ten', 'minutes', 'and', 'finally', 'gave', 'up', 'and', 'left'], ['he', 'was', 'terrible'], ['everyone', 'is', 'treated', 'equally', 'special'], ['it', 'shouldnt', 'take', 'min', 'for', 'pancakes', 'and', 'eggs'], ['it', 'was', 'delicious'], ['on', 'the', 'good', 'side', 'the', 'staff', 'was', 'genuinely', 'pleasant', 'and', 'enthusiastic', 'a', 'real', 'treat'], ['sadly', 'gordon', 'ramseys', 'steak', 'is', 'a', 'place', 'we', 'shall', 'sharply', 'avoid', 'during', 'our', 'next', 'trip', 'to', 'vegas'], ['as', 'always', 'the', 'evening', 'was', 'wonderful', 'and', 'the', 'food', 'delicious'], ['best', 'fish', 'ive', 'ever', 'had', 'in', 'my', 'life'], ['the', 'bathroom', 'is', 'just', 'next', 'door', 'and', 'very', 'nice'], ['the', 'buffet', 'is', 'small', 'and', 'all', 'the', 'food', 'they', 'offered', 'was', 'bland'], ['this', 'is', 'an', 'outstanding', 'little', 'restaurant', 'with', 'some', 'of', 'the', 'best', 'food', 'i', 'have', 'ever', 'tasted'], ['pretty', 'cool', 'i', 'would', 'say'], ['definitely', 'a', 'turn', 'off', 'for', 'me', 'i', 'doubt', 'ill', 'be', 'back', 'unless', 'someone', 'else', 'is', 'buying'], ['server', 'did', 'a', 'great', 'job', 'handling', 'our', 'large', 'rowdy', 'table'], ['i', 'find', 'wasting', 'food', 'to', 'be', 'despicable', 'but', 'this', 'just', 'wasnt', 'food'], ['my', 'wife', 'had', 'the', 'lobster', 'bisque', 'soup', 'which', 'was', 'lukewarm'], ['would', 'come', 'back', 'again', 'if', 'i', 'had', 'a', 'sushi', 'craving', 'while', 'in', 'vegas'], ['the', 'staff', 'are', 'great', 'the', 'ambiance', 'is', 'great'], ['he', 'deserves', 'stars'], ['i', 'left', 'with', 'a', 'stomach', 'ache', 'and', 'felt', 'sick', 'the', 'rest', 'of', 'the', 'day'], ['they', 'dropped', 'more', 'than', 'the', 'ball'], ['the', 'dining', 'space', 'is', 'tiny', 'but', 'elegantly', 'decorated', 'and', 'comfortable'], ['they', 'will', 'customize', 'your', 'order', 'any', 'way', 'youd', 'like', 'my', 'usual', 'is', 'eggplant', 'with', 'green', 'bean', 'stir', 'fry', 'love', 'it'], ['and', 'the', 'beans', 'and', 'rice', 'were', 'mediocre', 'at', 'best'], ['best', 'tacos', 'in', 'town', 'by', 'far'], ['i', 'took', 'back', 'my', 'money', 'and', 'got', 'outta', 'there'], ['in', 'an', 'interesting', 'part', 'of', 'town', 'this', 'place', 'is', 'amazing'], ['rude', 'inconsiderate', 'management'], ['the', 'staff', 'are', 'now', 'not', 'as', 'friendly', 'the', 'wait', 'times', 'for', 'being', 'served', 'are', 'horrible', 'no', 'one', 'even', 'says', 'hi', 'for', 'the', 'first', 'minutes'], ['i', 'wont', 'be', 'back'], ['they', 'have', 'great', 'dinners'], ['the', 'service', 'was', 'outshining', 'i', 'definitely', 'recommend', 'the', 'halibut'], ['the', 'food', 'was', 'terrible'], ['will', 'never', 'ever', 'go', 'back', 'and', 'have', 'told', 'many', 'people', 'what', 'had', 'happened'], ['i', 'dont', 'recommend', 'unless', 'your', 'car', 'breaks', 'down', 'in', 'front', 'of', 'it', 'and', 'you', 'are', 'starving'], ['i', 'will', 'come', 'back', 'here', 'every', 'time', 'im', 'in', 'vegas'], ['this', 'place', 'deserves', 'one', 'star', 'and', 'has', 'to', 'do', 'with', 'the', 'food'], ['this', 'is', 'a', 'disgrace'], ['def', 'coming', 'back', 'to', 'bowl', 'next', 'time'], ['if', 'you', 'want', 'healthy', 'authentic', 'or', 'ethic', 'food', 'try', 'this', 'place'], ['i', 'will', 'continue', 'to', 'come', 'here', 'on', 'ladies', 'night', 'andddd', 'date', 'night', 'highly', 'recommend', 'this', 'place', 'to', 'anyone', 'who', 'is', 'in', 'the', 'area'], ['i', 'have', 'been', 'here', 'several', 'times', 'in', 'the', 'past', 'and', 'the', 'experience', 'has', 'always', 'been', 'great'], ['we', 'walked', 'away', 'stuffed', 'and', 'happy', 'about', 'our', 'first', 'vegas', 'buffet', 'experience'], ['service', 'was', 'excellent', 'and', 'prices', 'are', 'pretty', 'reasonable', 'considering', 'this', 'is', 'vegas', 'and', 'located', 'inside', 'the', 'crystals', 'shopping', 'mall', 'by', 'aria'], ['to', 'summarize', 'the', 'food', 'was', 'incredible', 'nay', 'transcendant', 'but', 'nothing', 'brings', 'me', 'joy', 'quite', 'like', 'the', 'memory', 'of', 'the', 'pneumatic', 'condiment', 'dispenser'], ['im', 'probably', 'one', 'of', 'the', 'few', 'people', 'to', 'ever', 'go', 'to', 'ians', 'and', 'not', 'like', 'it'], ['kids', 'pizza', 'is', 'always', 'a', 'hit', 'too', 'with', 'lots', 'of', 'great', 'side', 'dish', 'options', 'for', 'the', 'kiddos'], ['service', 'is', 'perfect', 'and', 'the', 'family', 'atmosphere', 'is', 'nice', 'to', 'see'], ['cooked', 'to', 'perfection', 'and', 'the', 'service', 'was', 'impeccable'], ['this', 'one', 'is', 'simply', 'a', 'disappointment'], ['overall', 'i', 'was', 'very', 'disappointed', 'with', 'the', 'quality', 'of', 'food', 'at', 'bouchon'], ['i', 'dont', 'have', 'to', 'be', 'an', 'accountant', 'to', 'know', 'im', 'getting', 'screwed'], ['great', 'place', 'to', 'eat', 'reminds', 'me', 'of', 'the', 'little', 'mom', 'and', 'pop', 'shops', 'in', 'the', 'san', 'francisco', 'bay', 'area'], ['today', 'was', 'my', 'first', 'taste', 'of', 'a', 'buldogis', 'gourmet', 'hot', 'dog', 'and', 'i', 'have', 'to', 'tell', 'you', 'it', 'was', 'more', 'than', 'i', 'ever', 'thought', 'possible'], ['left', 'very', 'frustrated'], ['ill', 'definitely', 'be', 'in', 'soon', 'again'], ['food', 'was', 'really', 'good', 'and', 'i', 'got', 'full', 'petty', 'fast'], ['service', 'was', 'fantastic'], ['total', 'waste', 'of', 'time'], ['i', 'dont', 'know', 'what', 'kind', 'it', 'is', 'but', 'they', 'have', 'the', 'best', 'iced', 'tea'], ['come', 'hungry', 'leave', 'happy', 'and', 'stuffed'], ['for', 'service', 'i', 'give', 'them', 'no', 'stars'], ['i', 'can', 'assure', 'you', 'that', 'you', 'wont', 'be', 'disappointed'], ['i', 'can', 'take', 'a', 'little', 'bad', 'service', 'but', 'the', 'food', 'sucks'], ['gave', 'up', 'trying', 'to', 'eat', 'any', 'of', 'the', 'crust', 'teeth', 'still', 'sore'], ['but', 'now', 'i', 'was', 'completely', 'grossed', 'out'], ['i', 'really', 'enjoyed', 'eating', 'here'], ['first', 'time', 'going', 'but', 'i', 'think', 'i', 'will', 'quickly', 'become', 'a', 'regular'], ['our', 'server', 'was', 'very', 'nice', 'and', 'even', 'though', 'he', 'looked', 'a', 'little', 'overwhelmed', 'with', 'all', 'of', 'our', 'needs', 'he', 'stayed', 'professional', 'and', 'friendly', 'until', 'the', 'end'], ['from', 'what', 'my', 'dinner', 'companions', 'told', 'meeverything', 'was', 'very', 'fresh', 'with', 'nice', 'texture', 'and', 'taste'], ['on', 'the', 'ground', 'right', 'next', 'to', 'our', 'table', 'was', 'a', 'large', 'smeared', 'beensteppedinandtrackedeverywhere', 'pile', 'of', 'green', 'bird', 'poop'], ['furthermore', 'you', 'cant', 'even', 'find', 'hours', 'of', 'operation', 'on', 'the', 'website'], ['weve', 'tried', 'to', 'like', 'this', 'place', 'but', 'after', 'times', 'i', 'think', 'were', 'done', 'with', 'them'], ['what', 'a', 'mistake', 'that', 'was'], ['no', 'complaints'], ['this', 'is', 'some', 'seriously', 'good', 'pizza', 'and', 'im', 'an', 'expertconnisseur', 'on', 'the', 'topic'], ['waiter', 'was', 'a', 'jerk'], ['strike', 'who', 'wants', 'to', 'be', 'rushed'], ['these', 'are', 'the', 'nicest', 'restaurant', 'owners', 'ive', 'ever', 'come', 'across'], ['i', 'never', 'come', 'again'], ['we', 'loved', 'the', 'biscuits'], ['service', 'is', 'quick', 'and', 'friendly'], ['ordered', 'an', 'appetizer', 'and', 'took', 'minutes', 'and', 'then', 'the', 'pizza', 'another', 'minutes'], ['so', 'absolutley', 'fantastic'], ['it', 'was', 'a', 'huge', 'awkward', 'lb', 'piece', 'of', 'cow', 'that', 'was', 'ths', 'gristle', 'and', 'fat'], ['definitely', 'will', 'come', 'back', 'here', 'again'], ['i', 'like', 'steiners', 'because', 'its', 'dark', 'and', 'it', 'feels', 'like', 'a', 'bar'], ['wow', 'very', 'spicy', 'but', 'delicious'], ['if', 'youre', 'not', 'familiar', 'check', 'it', 'out'], ['ill', 'take', 'my', 'business', 'dinner', 'dollars', 'elsewhere'], ['id', 'love', 'to', 'go', 'back'], ['anyway', 'this', 'fs', 'restaurant', 'has', 'a', 'wonderful', 'breakfastlunch'], ['nothing', 'special'], ['each', 'day', 'of', 'the', 'week', 'they', 'have', 'a', 'different', 'deal', 'and', 'its', 'all', 'so', 'delicious'], ['not', 'to', 'mention', 'the', 'combination', 'of', 'pears', 'almonds', 'and', 'bacon', 'is', 'a', 'big', 'winner'], ['will', 'not', 'be', 'back'], ['sauce', 'was', 'tasteless'], ['the', 'food', 'is', 'delicious', 'and', 'just', 'spicy', 'enough', 'so', 'be', 'sure', 'to', 'ask', 'for', 'spicier', 'if', 'you', 'prefer', 'it', 'that', 'way'], ['my', 'ribeye', 'steak', 'was', 'cooked', 'perfectly', 'and', 'had', 'great', 'mesquite', 'flavor'], ['i', 'dont', 'think', 'well', 'be', 'going', 'back', 'anytime', 'soon'], ['food', 'was', 'so', 'gooodd'], ['i', 'am', 'far', 'from', 'a', 'sushi', 'connoisseur', 'but', 'i', 'can', 'definitely', 'tell', 'the', 'difference', 'between', 'good', 'food', 'and', 'bad', 'food', 'and', 'this', 'was', 'certainly', 'bad', 'food'], ['i', 'was', 'so', 'insulted'], ['the', 'last', 'times', 'i', 'had', 'lunch', 'here', 'has', 'been', 'bad'], ['the', 'chicken', 'wings', 'contained', 'the', 'driest', 'chicken', 'meat', 'i', 'have', 'ever', 'eaten'], ['the', 'food', 'was', 'very', 'good', 'and', 'i', 'enjoyed', 'every', 'mouthful', 'an', 'enjoyable', 'relaxed', 'venue', 'for', 'couples', 'small', 'family', 'groups', 'etc'], ['nargile', 'i', 'think', 'you', 'are', 'great'], ['best', 'tater', 'tots', 'in', 'the', 'southwest'], ['we', 'loved', 'the', 'place'], ['definitely', 'not', 'worth', 'the', 'i', 'paid'], ['the', 'vanilla', 'ice', 'cream', 'was', 'creamy', 'and', 'smooth', 'while', 'the', 'profiterole', 'choux', 'pastry', 'was', 'fresh', 'enough'], ['im', 'in', 'az', 'all', 'the', 'time', 'and', 'now', 'have', 'my', 'new', 'spot'], ['the', 'manager', 'was', 'the', 'worst'], ['the', 'inside', 'is', 'really', 'quite', 'nice', 'and', 'very', 'clean'], ['the', 'food', 'was', 'outstanding', 'and', 'the', 'prices', 'were', 'very', 'reasonable'], ['i', 'dont', 'think', 'ill', 'be', 'running', 'back', 'to', 'carlys', 'anytime', 'soon', 'for', 'food'], ['this', 'is', 'was', 'due', 'to', 'the', 'fact', 'that', 'it', 'took', 'minutes', 'to', 'be', 'acknowledged', 'then', 'another', 'minutes', 'to', 'get', 'our', 'foodand', 'they', 'kept', 'forgetting', 'things'], ['love', 'the', 'margaritas', 'too'], ['this', 'was', 'my', 'first', 'and', 'only', 'vegas', 'buffet', 'and', 'it', 'did', 'not', 'disappoint'], ['very', 'good', 'though'], ['the', 'one', 'down', 'note', 'is', 'the', 'ventilation', 'could', 'use', 'some', 'upgrading'], ['great', 'pork', 'sandwich'], ['dont', 'waste', 'your', 'time', 'here'], ['total', 'letdown', 'i', 'would', 'much', 'rather', 'just', 'go', 'to', 'the', 'camelback', 'flower', 'shop', 'and', 'cartel', 'coffee'], ['third', 'the', 'cheese', 'on', 'my', 'friends', 'burger', 'was', 'cold'], ['we', 'enjoy', 'their', 'pizza', 'and', 'brunch'], ['the', 'steaks', 'are', 'all', 'well', 'trimmed', 'and', 'also', 'perfectly', 'cooked'], ['we', 'had', 'a', 'group', 'of', 'when', 'we', 'claimed', 'we', 'would', 'only', 'have', 'and', 'they', 'handled', 'us', 'beautifully'], ['i', 'loved', 'it'], ['we', 'asked', 'for', 'the', 'bill', 'to', 'leave', 'without', 'eating', 'and', 'they', 'didnt', 'bring', 'that', 'either'], ['this', 'place', 'is', 'a', 'jewel', 'in', 'las', 'vegas', 'and', 'exactly', 'what', 'ive', 'been', 'hoping', 'to', 'find', 'in', 'nearly', 'ten', 'years', 'living', 'here'], ['seafood', 'was', 'limited', 'to', 'boiled', 'shrimp', 'and', 'crab', 'legs', 'but', 'the', 'crab', 'legs', 'definitely', 'did', 'not', 'taste', 'fresh'], ['the', 'selection', 'of', 'food', 'was', 'not', 'the', 'best'], ['delicious', 'and', 'i', 'will', 'absolutely', 'be', 'back'], ['this', 'isnt', 'a', 'small', 'family', 'restaurant', 'this', 'is', 'a', 'fine', 'dining', 'establishment'], ['they', 'had', 'a', 'toro', 'tartare', 'with', 'a', 'cavier', 'that', 'was', 'extraordinary', 'and', 'i', 'liked', 'the', 'thinly', 'sliced', 'wagyu', 'with', 'white', 'truffle'], ['i', 'dont', 'think', 'i', 'will', 'be', 'back', 'for', 'a', 'very', 'long', 'time'], ['it', 'was', 'attached', 'to', 'a', 'gas', 'station', 'and', 'that', 'is', 'rarely', 'a', 'good', 'sign'], ['how', 'awesome', 'is', 'that'], ['i', 'will', 'be', 'back', 'many', 'times', 'soon'], ['the', 'menu', 'had', 'so', 'much', 'good', 'stuff', 'on', 'it', 'i', 'could', 'not', 'decide'], ['worse', 'of', 'all', 'he', 'humiliated', 'his', 'worker', 'right', 'in', 'front', 'of', 'mebunch', 'of', 'horrible', 'name', 'callings'], ['conclusion', 'very', 'filling', 'meals'], ['their', 'daily', 'specials', 'are', 'always', 'a', 'hit', 'with', 'my', 'group'], ['and', 'then', 'tragedy', 'struck'], ['the', 'pancake', 'was', 'also', 'really', 'good', 'and', 'pretty', 'large', 'at', 'that'], ['this', 'was', 'my', 'first', 'crawfish', 'experience', 'and', 'it', 'was', 'delicious'], ['their', 'monster', 'chicken', 'fried', 'steak', 'and', 'eggs', 'is', 'my', 'all', 'time', 'favorite'], ['waitress', 'was', 'sweet', 'and', 'funny'], ['i', 'also', 'had', 'to', 'taste', 'my', 'moms', 'multigrain', 'pumpkin', 'pancakes', 'with', 'pecan', 'butter', 'and', 'they', 'were', 'amazing', 'fluffy', 'and', 'delicious'], ['id', 'rather', 'eat', 'airline', 'food', 'seriously'], ['cant', 'say', 'enough', 'good', 'things', 'about', 'this', 'place'], ['the', 'ambiance', 'was', 'incredible'], ['the', 'waitress', 'and', 'manager', 'are', 'so', 'friendly'], ['i', 'would', 'not', 'recommend', 'this', 'place'], ['overall', 'i', 'wasnt', 'very', 'impressed', 'with', 'noca'], ['my', 'gyro', 'was', 'basically', 'lettuce', 'only'], ['terrible', 'service'], ['thoroughly', 'disappointed'], ['i', 'dont', 'each', 'much', 'pasta', 'but', 'i', 'love', 'the', 'homemade', 'hand', 'made', 'pastas', 'and', 'thin', 'pizzas', 'here'], ['give', 'it', 'a', 'try', 'you', 'will', 'be', 'happy', 'you', 'did'], ['by', 'far', 'the', 'best', 'cheesecurds', 'we', 'have', 'ever', 'had'], ['reasonably', 'priced', 'also'], ['everything', 'was', 'perfect', 'the', 'night', 'we', 'were', 'in'], ['the', 'food', 'is', 'very', 'good', 'for', 'your', 'typical', 'bar', 'food'], ['it', 'was', 'a', 'drive', 'to', 'get', 'there'], ['at', 'first', 'glance', 'it', 'is', 'a', 'lovely', 'bakery', 'cafe', 'nice', 'ambiance', 'clean', 'friendly', 'staff'], ['anyway', 'i', 'do', 'not', 'think', 'i', 'will', 'go', 'back', 'there'], ['point', 'your', 'finger', 'at', 'any', 'item', 'on', 'the', 'menu', 'order', 'it', 'and', 'you', 'wont', 'be', 'disappointed'], ['oh', 'this', 'is', 'such', 'a', 'thing', 'of', 'beauty', 'this', 'restaurant'], ['if', 'you', 'havent', 'gone', 'here', 'go', 'now'], ['a', 'greasy', 'unhealthy', 'meal'], ['first', 'time', 'there', 'and', 'might', 'just', 'be', 'the', 'last'], ['those', 'burgers', 'were', 'amazing'], ['similarly', 'the', 'delivery', 'man', 'did', 'not', 'say', 'a', 'word', 'of', 'apology', 'when', 'our', 'food', 'was', 'minutes', 'late'], ['and', 'it', 'was', 'way', 'to', 'expensive'], ['be', 'sure', 'to', 'order', 'dessert', 'even', 'if', 'you', 'need', 'to', 'pack', 'it', 'togo', 'the', 'tiramisu', 'and', 'cannoli', 'are', 'both', 'to', 'die', 'for'], ['this', 'was', 'my', 'first', 'time', 'and', 'i', 'cant', 'wait', 'until', 'the', 'next'], ['the', 'bartender', 'was', 'also', 'nice'], ['everything', 'was', 'good', 'and', 'tasty'], ['this', 'place', 'is', 'two', 'thumbs', 'upway', 'up'], ['the', 'best', 'place', 'in', 'vegas', 'for', 'breakfast', 'just', 'check', 'out', 'a', 'sat', 'or', 'sun'], ['if', 'you', 'love', 'authentic', 'mexican', 'food', 'and', 'want', 'a', 'whole', 'bunch', 'of', 'interesting', 'yet', 'delicious', 'meats', 'to', 'choose', 'from', 'you', 'need', 'to', 'try', 'this', 'place'], ['terrible', 'management'], ['an', 'excellent', 'new', 'restaurant', 'by', 'an', 'experienced', 'frenchman'], ['if', 'there', 'were', 'zero', 'stars', 'i', 'would', 'give', 'it', 'zero', 'stars'], ['great', 'steak', 'great', 'sides', 'great', 'wine', 'amazing', 'desserts'], ['worst', 'martini', 'ever'], ['the', 'steak', 'and', 'the', 'shrimp', 'are', 'in', 'my', 'opinion', 'the', 'best', 'entrees', 'at', 'gc'], ['i', 'had', 'the', 'opportunity', 'today', 'to', 'sample', 'your', 'amazing', 'pizzas'], ['we', 'waited', 'for', 'thirty', 'minutes', 'to', 'be', 'seated', 'although', 'there', 'were', 'vacant', 'tables', 'and', 'we', 'were', 'the', 'only', 'folks', 'waiting'], ['the', 'yellowtail', 'carpaccio', 'was', 'melt', 'in', 'your', 'mouth', 'fresh'], ['i', 'wont', 'try', 'going', 'back', 'there', 'even', 'if', 'its', 'empty'], ['no', 'im', 'going', 'to', 'eat', 'the', 'potato', 'that', 'i', 'found', 'some', 'strangers', 'hair', 'in', 'it'], ['just', 'spicy', 'enough', 'perfect', 'actually'], ['last', 'night', 'was', 'my', 'second', 'time', 'dining', 'here', 'and', 'i', 'was', 'so', 'happy', 'i', 'decided', 'to', 'go', 'back'], ['not', 'even', 'a', 'hello', 'we', 'will', 'be', 'right', 'with', 'you'], ['the', 'desserts', 'were', 'a', 'bit', 'strange'], ['my', 'boyfriend', 'and', 'i', 'came', 'here', 'for', 'the', 'first', 'time', 'on', 'a', 'recent', 'trip', 'to', 'vegas', 'and', 'could', 'not', 'have', 'been', 'more', 'pleased', 'with', 'the', 'quality', 'of', 'food', 'and', 'service'], ['i', 'really', 'do', 'recommend', 'this', 'place', 'you', 'can', 'go', 'wrong', 'with', 'this', 'donut', 'place'], ['nice', 'ambiance'], ['i', 'would', 'recommend', 'saving', 'room', 'for', 'this'], ['i', 'guess', 'maybe', 'we', 'went', 'on', 'an', 'off', 'night', 'but', 'it', 'was', 'disgraceful'], ['however', 'my', 'recent', 'experience', 'at', 'this', 'particular', 'location', 'was', 'not', 'so', 'good'], ['i', 'know', 'this', 'is', 'not', 'like', 'the', 'other', 'restaurants', 'at', 'all', 'something', 'is', 'very', 'off', 'here'], ['avoid', 'this', 'establishment'], ['i', 'think', 'this', 'restaurant', 'suffers', 'from', 'not', 'trying', 'hard', 'enough'], ['all', 'of', 'the', 'tapas', 'dishes', 'were', 'delicious'], ['i', 'heart', 'this', 'place'], ['my', 'salad', 'had', 'a', 'bland', 'vinegrette', 'on', 'the', 'baby', 'greens', 'and', 'hearts', 'of', 'palm'], ['after', 'two', 'i', 'felt', 'disgusting'], ['a', 'good', 'time'], ['i', 'believe', 'that', 'this', 'place', 'is', 'a', 'great', 'stop', 'for', 'those', 'with', 'a', 'huge', 'belly', 'and', 'hankering', 'for', 'sushi'], ['generous', 'portions', 'and', 'great', 'taste'], ['i', 'will', 'never', 'go', 'back', 'to', 'this', 'place', 'and', 'will', 'never', 'ever', 'recommended', 'this', 'place', 'to', 'anyone'], ['the', 'servers', 'went', 'back', 'and', 'forth', 'several', 'times', 'not', 'even', 'so', 'much', 'as', 'an', 'are', 'you', 'being', 'helped'], ['food', 'was', 'delicious'], ['an', 'hour', 'seriously'], ['i', 'consider', 'this', 'theft'], ['eew', 'this', 'location', 'needs', 'a', 'complete', 'overhaul'], ['we', 'recently', 'witnessed', 'her', 'poor', 'quality', 'of', 'management', 'towards', 'other', 'guests', 'as', 'well'], ['waited', 'and', 'waited', 'and', 'waited'], ['he', 'also', 'came', 'back', 'to', 'check', 'on', 'us', 'regularly', 'excellent', 'service'], ['our', 'server', 'was', 'super', 'nice', 'and', 'checked', 'on', 'us', 'many', 'times'], ['the', 'pizza', 'tasted', 'old', 'super', 'chewy', 'in', 'not', 'a', 'good', 'way'], ['i', 'swung', 'in', 'to', 'give', 'them', 'a', 'try', 'but', 'was', 'deeply', 'disappointed'], ['service', 'was', 'good', 'and', 'the', 'company', 'was', 'better'], ['the', 'staff', 'are', 'also', 'very', 'friendly', 'and', 'efficient'], ['as', 'for', 'the', 'service', 'im', 'a', 'fan', 'because', 'its', 'quick', 'and', 'youre', 'being', 'served', 'by', 'some', 'nice', 'folks'], ['boy', 'was', 'that', 'sucker', 'dry'], ['over', 'rated'], ['if', 'you', 'look', 'for', 'authentic', 'thai', 'food', 'go', 'else', 'where'], ['their', 'steaks', 'are', 'recommended'], ['after', 'i', 'pulled', 'up', 'my', 'car', 'i', 'waited', 'for', 'another', 'minutes', 'before', 'being', 'acknowledged'], ['great', 'food', 'and', 'great', 'service', 'in', 'a', 'clean', 'and', 'friendly', 'setting'], ['all', 'in', 'all', 'i', 'can', 'assure', 'you', 'ill', 'be', 'back'], ['i', 'hate', 'those', 'things', 'as', 'much', 'as', 'cheap', 'quality', 'black', 'olives'], ['my', 'breakfast', 'was', 'perpared', 'great', 'with', 'a', 'beautiful', 'presentation', 'of', 'giant', 'slices', 'of', 'toast', 'lightly', 'dusted', 'with', 'powdered', 'sugar'], ['the', 'kids', 'play', 'area', 'is', 'nasty'], ['great', 'place', 'fo', 'take', 'out', 'or', 'eat', 'in'], ['the', 'waitress', 'was', 'friendly', 'and', 'happy', 'to', 'accomodate', 'for', 'veganveggie', 'options'], ['omg', 'i', 'felt', 'like', 'i', 'had', 'never', 'eaten', 'thai', 'food', 'until', 'this', 'dish'], ['it', 'was', 'extremely', 'crumby', 'and', 'pretty', 'tasteless'], ['it', 'was', 'a', 'pale', 'color', 'instead', 'of', 'nice', 'and', 'char', 'and', 'has', 'no', 'flavor'], ['the', 'croutons', 'also', 'taste', 'homemade', 'which', 'is', 'an', 'extra', 'plus'], ['i', 'got', 'home', 'to', 'see', 'the', 'driest', 'damn', 'wings', 'ever'], ['itll', 'be', 'a', 'regular', 'stop', 'on', 'my', 'trips', 'to', 'phoenix'], ['i', 'really', 'enjoyed', 'crema', 'caf', 'before', 'they', 'expanded', 'i', 'even', 'told', 'friends', 'they', 'had', 'the', 'best', 'breakfast'], ['not', 'good', 'for', 'the', 'money'], ['i', 'miss', 'it', 'and', 'wish', 'they', 'had', 'one', 'in', 'philadelphia'], ['we', 'got', 'sitting', 'fairly', 'fast', 'but', 'ended', 'up', 'waiting', 'minutes', 'just', 'to', 'place', 'our', 'order', 'another', 'minutes', 'before', 'the', 'food', 'arrived'], ['they', 'also', 'have', 'the', 'best', 'cheese', 'crisp', 'in', 'town'], ['good', 'value', 'great', 'food', 'great', 'service'], ['couldnt', 'ask', 'for', 'a', 'more', 'satisfying', 'meal'], ['the', 'food', 'is', 'good'], ['it', 'was', 'awesome'], ['i', 'just', 'wanted', 'to', 'leave'], ['we', 'made', 'the', 'drive', 'all', 'the', 'way', 'from', 'north', 'scottsdale', 'and', 'i', 'was', 'not', 'one', 'bit', 'disappointed'], ['i', 'will', 'not', 'be', 'eating', 'there', 'again'], ['the', 'owners', 'really', 'really', 'need', 'to', 'quit', 'being', 'soooooo', 'cheap', 'let', 'them', 'wrap', 'my', 'freaking', 'sandwich', 'in', 'two', 'papers', 'not', 'one'], ['i', 'checked', 'out', 'this', 'place', 'a', 'couple', 'years', 'ago', 'and', 'was', 'not', 'impressed'], ['the', 'chicken', 'i', 'got', 'was', 'definitely', 'reheated', 'and', 'was', 'only', 'ok', 'the', 'wedges', 'were', 'cold', 'and', 'soggy'], ['sorry', 'i', 'will', 'not', 'be', 'getting', 'food', 'from', 'here', 'anytime', 'soon'], ['an', 'absolute', 'must', 'visit'], ['the', 'cow', 'tongue', 'and', 'cheek', 'tacos', 'are', 'amazing'], ['my', 'friend', 'did', 'not', 'like', 'his', 'bloody', 'mary'], ['despite', 'how', 'hard', 'i', 'rate', 'businesses', 'its', 'actually', 'rare', 'for', 'me', 'to', 'give', 'a', 'star'], ['they', 'really', 'want', 'to', 'make', 'your', 'experience', 'a', 'good', 'one'], ['i', 'will', 'not', 'return'], ['i', 'had', 'the', 'chicken', 'pho', 'and', 'it', 'tasted', 'very', 'bland'], ['very', 'disappointing'], ['the', 'grilled', 'chicken', 'was', 'so', 'tender', 'and', 'yellow', 'from', 'the', 'saffron', 'seasoning'], ['a', 'drive', 'thru', 'means', 'you', 'do', 'not', 'want', 'to', 'wait', 'around', 'for', 'half', 'an', 'hour', 'for', 'your', 'food', 'but', 'somehow', 'when', 'we', 'end', 'up', 'going', 'here', 'they', 'make', 'us', 'wait', 'and', 'wait'], ['pretty', 'awesome', 'place'], ['ambience', 'is', 'perfect'], ['best', 'of', 'luck', 'to', 'the', 'rude', 'and', 'noncustomer', 'service', 'focused', 'new', 'management'], ['any', 'grandmother', 'can', 'make', 'a', 'roasted', 'chicken', 'better', 'than', 'this', 'one'], ['i', 'asked', 'multiple', 'times', 'for', 'the', 'wine', 'list', 'and', 'after', 'some', 'time', 'of', 'being', 'ignored', 'i', 'went', 'to', 'the', 'hostess', 'and', 'got', 'one', 'myself'], ['the', 'staff', 'is', 'always', 'super', 'friendly', 'and', 'helpful', 'which', 'is', 'especially', 'cool', 'when', 'you', 'bring', 'two', 'small', 'boys', 'and', 'a', 'baby'], ['four', 'stars', 'for', 'the', 'food', 'the', 'guy', 'in', 'the', 'blue', 'shirt', 'for', 'his', 'great', 'vibe', 'still', 'letting', 'us', 'in', 'to', 'eat'], ['the', 'roast', 'beef', 'sandwich', 'tasted', 'really', 'good'], ['same', 'evening', 'him', 'and', 'i', 'are', 'both', 'drastically', 'sick'], ['highquality', 'chicken', 'on', 'the', 'chicken', 'caesar', 'salad'], ['ordered', 'burger', 'rare', 'came', 'in', 'well', 'done'], ['we', 'were', 'promptly', 'greeted', 'and', 'seated'], ['tried', 'to', 'go', 'here', 'for', 'lunch', 'and', 'it', 'was', 'a', 'madhouse'], ['i', 'was', 'proven', 'dead', 'wrong', 'by', 'this', 'sushi', 'bar', 'not', 'only', 'because', 'the', 'quality', 'is', 'great', 'but', 'the', 'service', 'is', 'fast', 'and', 'the', 'food', 'impeccable'], ['after', 'waiting', 'an', 'hour', 'and', 'being', 'seated', 'i', 'was', 'not', 'in', 'the', 'greatest', 'of', 'moods'], ['this', 'is', 'a', 'good', 'joint'], ['the', 'macarons', 'here', 'are', 'insanely', 'good'], ['im', 'not', 'eating', 'here'], ['our', 'waiter', 'was', 'very', 'attentive', 'friendly', 'and', 'informative'], ['maybe', 'if', 'they', 'werent', 'cold', 'they', 'would', 'have', 'been', 'somewhat', 'edible'], ['this', 'place', 'has', 'a', 'lot', 'of', 'promise', 'but', 'fails', 'to', 'deliver'], ['very', 'bad', 'experience'], ['what', 'a', 'mistake'], ['food', 'was', 'average', 'at', 'best'], ['great', 'food'], ['we', 'wont', 'be', 'going', 'back', 'anytime', 'soon'], ['very', 'very', 'disappointed', 'ordered', 'the', 'big', 'bay', 'plater'], ['great', 'place', 'to', 'relax', 'and', 'have', 'an', 'awesome', 'burger', 'and', 'beer'], ['it', 'is', 'perfect', 'for', 'a', 'sitdown', 'family', 'meal', 'or', 'get', 'together', 'with', 'a', 'few', 'friends'], ['not', 'much', 'flavor', 'to', 'them', 'and', 'very', 'poorly', 'constructed'], ['the', 'patio', 'seating', 'was', 'very', 'comfortable'], ['the', 'fried', 'rice', 'was', 'dry', 'as', 'well'], ['hands', 'down', 'my', 'favorite', 'italian', 'restaurant'], ['that', 'just', 'screams', 'legit', 'in', 'my', 'booksomethats', 'also', 'pretty', 'rare', 'here', 'in', 'vegas'], ['it', 'was', 'just', 'not', 'a', 'fun', 'experience'], ['the', 'atmosphere', 'was', 'great', 'with', 'a', 'lovely', 'duo', 'of', 'violinists', 'playing', 'songs', 'we', 'requested'], ['i', 'personally', 'love', 'the', 'hummus', 'pita', 'baklava', 'falafels', 'and', 'baba', 'ganoush', 'its', 'amazing', 'what', 'they', 'do', 'with', 'eggplant'], ['very', 'convenient', 'since', 'we', 'were', 'staying', 'at', 'the', 'mgm'], ['the', 'owners', 'are', 'super', 'friendly', 'and', 'the', 'staff', 'is', 'courteous'], ['both', 'great'], ['eclectic', 'selection'], ['the', 'sweet', 'potato', 'tots', 'were', 'good', 'but', 'the', 'onion', 'rings', 'were', 'perfection', 'or', 'as', 'close', 'as', 'i', 'have', 'had'], ['the', 'staff', 'was', 'very', 'attentive'], ['and', 'the', 'chef', 'was', 'generous', 'with', 'his', 'time', 'even', 'came', 'around', 'twice', 'so', 'we', 'can', 'take', 'pictures', 'with', 'him'], ['the', 'owner', 'used', 'to', 'work', 'at', 'nobu', 'so', 'this', 'place', 'is', 'really', 'similar', 'for', 'half', 'the', 'price'], ['google', 'mediocre', 'and', 'i', 'imagine', 'smashburger', 'will', 'pop', 'up'], ['dont', 'go', 'here'], ['i', 'promise', 'they', 'wont', 'disappoint'], ['as', 'a', 'sushi', 'lover', 'avoid', 'this', 'place', 'by', 'all', 'means'], ['what', 'a', 'great', 'double', 'cheeseburger'], ['awesome', 'service', 'and', 'food'], ['a', 'fantastic', 'neighborhood', 'gem'], ['i', 'cant', 'wait', 'to', 'go', 'back'], ['the', 'plantains', 'were', 'the', 'worst', 'ive', 'ever', 'tasted'], ['its', 'a', 'great', 'place', 'and', 'i', 'highly', 'recommend', 'it'], ['service', 'was', 'slow', 'and', 'not', 'attentive'], ['i', 'gave', 'it', 'stars', 'then', 'and', 'im', 'giving', 'it', 'stars', 'now'], ['your', 'staff', 'spends', 'more', 'time', 'talking', 'to', 'themselves', 'than', 'me'], ['dessert', 'panna', 'cotta', 'was', 'amazing'], ['very', 'good', 'food', 'great', 'atmosphere'], ['damn', 'good', 'steak'], ['total', 'brunch', 'fail'], ['prices', 'are', 'very', 'reasonable', 'flavors', 'are', 'spot', 'on', 'the', 'sauce', 'is', 'home', 'made', 'and', 'the', 'slaw', 'is', 'not', 'drenched', 'in', 'mayo'], ['the', 'decor', 'is', 'nice', 'and', 'the', 'piano', 'music', 'soundtrack', 'is', 'pleasant'], ['the', 'steak', 'was', 'amazingrge', 'fillet', 'relleno', 'was', 'the', 'best', 'seafood', 'plate', 'i', 'have', 'ever', 'had'], ['good', 'food', 'good', 'service'], ['it', 'was', 'absolutely', 'amazing'], ['i', 'probably', 'wont', 'be', 'back', 'to', 'be', 'honest'], ['will', 'definitely', 'be', 'back'], ['the', 'sergeant', 'pepper', 'beef', 'sandwich', 'with', 'auju', 'sauce', 'is', 'an', 'excellent', 'sandwich', 'as', 'well'], ['hawaiian', 'breeze', 'mango', 'magic', 'and', 'pineapple', 'delight', 'are', 'the', 'smoothies', 'that', 'ive', 'tried', 'so', 'far', 'and', 'theyre', 'all', 'good'], ['went', 'for', 'lunch', 'service', 'was', 'slow'], ['we', 'had', 'so', 'much', 'to', 'say', 'about', 'the', 'place', 'before', 'we', 'walked', 'in', 'that', 'he', 'expected', 'it', 'to', 'be', 'amazing', 'but', 'was', 'quickly', 'disappointed'], ['i', 'was', 'mortified'], ['needless', 'to', 'say', 'we', 'will', 'never', 'be', 'back', 'here', 'again'], ['anyways', 'the', 'food', 'was', 'definitely', 'not', 'filling', 'at', 'all', 'and', 'for', 'the', 'price', 'you', 'pay', 'you', 'should', 'expect', 'more'], ['the', 'chips', 'that', 'came', 'out', 'were', 'dripping', 'with', 'grease', 'and', 'mostly', 'not', 'edible'], ['i', 'wasnt', 'really', 'impressed', 'with', 'strip', 'steak'], ['have', 'been', 'going', 'since', 'and', 'every', 'meal', 'has', 'been', 'awesome'], ['our', 'server', 'was', 'very', 'nice', 'and', 'attentive', 'as', 'were', 'the', 'other', 'serving', 'staff'], ['the', 'cashier', 'was', 'friendly', 'and', 'even', 'brought', 'the', 'food', 'out', 'to', 'me'], ['i', 'work', 'in', 'the', 'hospitality', 'industry', 'in', 'paradise', 'valley', 'and', 'have', 'refrained', 'from', 'recommending', 'cibo', 'any', 'longer'], ['the', 'atmosphere', 'here', 'is', 'fun'], ['would', 'not', 'recommend', 'to', 'others'], ['service', 'is', 'quick', 'and', 'even', 'to', 'go', 'orders', 'are', 'just', 'like', 'we', 'like', 'it'], ['i', 'mean', 'really', 'how', 'do', 'you', 'get', 'so', 'famous', 'for', 'your', 'fish', 'and', 'chips', 'when', 'its', 'so', 'terrible'], ['that', 'said', 'our', 'mouths', 'and', 'bellies', 'were', 'still', 'quite', 'pleased'], ['not', 'my', 'thing'], ['thumbs', 'up'], ['if', 'you', 'are', 'reading', 'this', 'please', 'dont', 'go', 'there'], ['i', 'loved', 'the', 'grilled', 'pizza', 'reminded', 'me', 'of', 'legit', 'italian', 'pizza'], ['only', 'pros', 'large', 'seating', 'area', 'nice', 'bar', 'area', 'great', 'simple', 'drink', 'menu', 'the', 'best', 'brick', 'oven', 'pizza', 'with', 'homemade', 'dough'], ['they', 'have', 'a', 'really', 'nice', 'atmosphere'], ['tonight', 'i', 'had', 'the', 'elk', 'filet', 'specialand', 'it', 'sucked'], ['after', 'one', 'bite', 'i', 'was', 'hooked'], ['we', 'ordered', 'some', 'old', 'classics', 'and', 'some', 'new', 'dishes', 'after', 'going', 'there', 'a', 'few', 'times', 'and', 'were', 'sorely', 'disappointed', 'with', 'everything'], ['cute', 'quaint', 'simple', 'honest'], ['the', 'chicken', 'was', 'deliciously', 'seasoned', 'and', 'had', 'the', 'perfect', 'fry', 'on', 'the', 'outside', 'and', 'moist', 'chicken', 'on', 'the', 'inside'], ['the', 'food', 'was', 'great', 'as', 'always', 'compliments', 'to', 'the', 'chef'], ['special', 'thanks', 'to', 'dylan', 't', 'for', 'the', 'recommendation', 'on', 'what', 'to', 'order', 'all', 'yummy', 'for', 'my', 'tummy'], ['awesome', 'selection', 'of', 'beer'], ['great', 'food', 'and', 'awesome', 'service'], ['one', 'nice', 'thing', 'was', 'that', 'they', 'added', 'gratuity', 'on', 'the', 'bill', 'since', 'our', 'party', 'was', 'larger', 'than', 'or', 'and', 'they', 'didnt', 'expect', 'more', 'tip', 'than', 'that'], ['a', 'fly', 'was', 'in', 'my', 'apple', 'juice', 'a', 'fly'], ['the', 'han', 'nan', 'chicken', 'was', 'also', 'very', 'tasty'], ['as', 'for', 'the', 'service', 'i', 'thought', 'it', 'was', 'good'], ['the', 'food', 'was', 'barely', 'lukewarm', 'so', 'it', 'must', 'have', 'been', 'sitting', 'waiting', 'for', 'the', 'server', 'to', 'bring', 'it', 'out', 'to', 'us'], ['ryans', 'bar', 'is', 'definitely', 'one', 'edinburgh', 'establishment', 'i', 'wont', 'be', 'revisiting'], ['nicest', 'chinese', 'restaurant', 'ive', 'been', 'in', 'a', 'while'], ['overall', 'i', 'like', 'there', 'food', 'and', 'the', 'service'], ['they', 'also', 'now', 'serve', 'indian', 'naan', 'bread', 'with', 'hummus', 'and', 'some', 'spicy', 'pine', 'nut', 'sauce', 'that', 'was', 'out', 'of', 'this', 'world'], ['probably', 'never', 'coming', 'back', 'and', 'wouldnt', 'recommend', 'it'], ['friends', 'pasta', 'also', 'bad', 'he', 'barely', 'touched', 'it'], ['try', 'them', 'in', 'the', 'airport', 'to', 'experience', 'some', 'tasty', 'food', 'and', 'speedy', 'friendly', 'service'], ['i', 'love', 'the', 'decor', 'with', 'the', 'chinese', 'calligraphy', 'wall', 'paper'], ['never', 'had', 'anything', 'to', 'complain', 'about', 'here'], ['the', 'restaurant', 'is', 'very', 'clean', 'and', 'has', 'a', 'family', 'restaurant', 'feel', 'to', 'it'], ['it', 'was', 'way', 'over', 'fried'], ['im', 'not', 'sure', 'how', 'long', 'we', 'stood', 'there', 'but', 'it', 'was', 'long', 'enough', 'for', 'me', 'to', 'begin', 'to', 'feel', 'awkwardly', 'out', 'of', 'place'], ['when', 'i', 'opened', 'the', 'sandwich', 'i', 'was', 'impressed', 'but', 'not', 'in', 'a', 'good', 'way'], ['will', 'not', 'be', 'back'], ['there', 'was', 'a', 'warm', 'feeling', 'with', 'the', 'service', 'and', 'i', 'felt', 'like', 'their', 'guest', 'for', 'a', 'special', 'treat'], ['an', 'extensive', 'menu', 'provides', 'lots', 'of', 'options', 'for', 'breakfast'], ['i', 'always', 'order', 'from', 'the', 'vegetarian', 'menu', 'during', 'dinner', 'which', 'has', 'a', 'wide', 'array', 'of', 'options', 'to', 'choose', 'from'], ['i', 'have', 'watched', 'their', 'prices', 'inflate', 'portions', 'get', 'smaller', 'and', 'management', 'attitudes', 'grow', 'rapidly'], ['wonderful', 'lil', 'tapas', 'and', 'the', 'ambience', 'made', 'me', 'feel', 'all', 'warm', 'and', 'fuzzy', 'inside'], ['i', 'got', 'to', 'enjoy', 'the', 'seafood', 'salad', 'with', 'a', 'fabulous', 'vinegrette'], ['the', 'wontons', 'were', 'thin', 'not', 'thick', 'and', 'chewy', 'almost', 'melt', 'in', 'your', 'mouth'], ['level', 'spicy', 'was', 'perfect', 'where', 'spice', 'didnt', 'overwhelm', 'the', 'soup'], ['we', 'were', 'sat', 'right', 'on', 'time', 'and', 'our', 'server', 'from', 'the', 'get', 'go', 'was', 'fantastic'], ['main', 'thing', 'i', 'didnt', 'enjoy', 'is', 'that', 'the', 'crowd', 'is', 'of', 'older', 'crowd', 'around', 'mid', 's', 'and', 'up'], ['when', 'im', 'on', 'this', 'side', 'of', 'town', 'this', 'will', 'definitely', 'be', 'a', 'spot', 'ill', 'hit', 'up', 'again'], ['i', 'had', 'to', 'wait', 'over', 'minutes', 'to', 'get', 'my', 'drink', 'and', 'longer', 'to', 'get', 'arepas'], ['this', 'is', 'a', 'great', 'place', 'to', 'eat'], ['the', 'jalapeno', 'bacon', 'is', 'soooo', 'good'], ['the', 'service', 'was', 'poor', 'and', 'thats', 'being', 'nice'], ['food', 'was', 'good', 'service', 'was', 'good', 'prices', 'were', 'good'], ['the', 'place', 'was', 'not', 'clean', 'and', 'the', 'food', 'oh', 'so', 'stale'], ['the', 'chicken', 'dishes', 'are', 'ok', 'the', 'beef', 'is', 'like', 'shoe', 'leather'], ['but', 'the', 'service', 'was', 'beyond', 'bad'], ['im', 'so', 'happy', 'to', 'be', 'here'], ['tasted', 'like', 'dirt'], ['one', 'of', 'the', 'few', 'places', 'in', 'phoenix', 'that', 'i', 'would', 'definately', 'go', 'back', 'to', 'again'], ['the', 'block', 'was', 'amazing'], ['its', 'close', 'to', 'my', 'house', 'its', 'lowkey', 'nonfancy', 'affordable', 'prices', 'good', 'food'], ['both', 'the', 'hot', 'sour', 'the', 'egg', 'flower', 'soups', 'were', 'absolutely', 'stars'], ['my', 'sashimi', 'was', 'poor', 'quality', 'being', 'soggy', 'and', 'tasteless'], ['great', 'time', 'family', 'dinner', 'on', 'a', 'sunday', 'night'], ['the', 'food', 'is', 'not', 'tasty', 'at', 'all', 'not', 'to', 'say', 'its', 'real', 'traditional', 'hunan', 'style'], ['what', 'did', 'bother', 'me', 'was', 'the', 'slow', 'service'], ['the', 'flair', 'bartenders', 'are', 'absolutely', 'amazing'], ['their', 'frozen', 'margaritas', 'are', 'way', 'too', 'sugary', 'for', 'my', 'taste'], ['these', 'were', 'so', 'good', 'we', 'ordered', 'them', 'twice'], ['so', 'in', 'a', 'nutshell', 'the', 'restaraunt', 'smells', 'like', 'a', 'combination', 'of', 'a', 'dirty', 'fish', 'market', 'and', 'a', 'sewer'], ['my', 'girlfriends', 'veal', 'was', 'very', 'bad'], ['unfortunately', 'it', 'was', 'not', 'good'], ['i', 'had', 'a', 'pretty', 'satifying', 'experience'], ['join', 'the', 'club', 'and', 'get', 'awesome', 'offers', 'via', 'email'], ['perfect', 'for', 'someone', 'me', 'who', 'only', 'likes', 'beer', 'ice', 'cold', 'or', 'in', 'this', 'case', 'even', 'colder'], ['bland', 'and', 'flavorless', 'is', 'a', 'good', 'way', 'of', 'describing', 'the', 'barely', 'tepid', 'meat'], ['the', 'chains', 'which', 'im', 'no', 'fan', 'of', 'beat', 'this', 'place', 'easily'], ['the', 'nachos', 'are', 'a', 'must', 'have'], ['we', 'will', 'not', 'be', 'coming', 'back'], ['i', 'dont', 'have', 'very', 'many', 'words', 'to', 'say', 'about', 'this', 'place', 'but', 'it', 'does', 'everything', 'pretty', 'well'], ['the', 'staff', 'is', 'super', 'nice', 'and', 'very', 'quick', 'even', 'with', 'the', 'crazy', 'crowds', 'of', 'the', 'downtown', 'juries', 'lawyers', 'and', 'court', 'staff'], ['great', 'atmosphere', 'friendly', 'and', 'fast', 'service'], ['when', 'i', 'received', 'my', 'pita', 'it', 'was', 'huge', 'it', 'did', 'have', 'a', 'lot', 'of', 'meat', 'in', 'it', 'so', 'thumbs', 'up', 'there'], ['once', 'your', 'food', 'arrives', 'its', 'meh'], ['paying', 'for', 'a', 'hot', 'dog', 'and', 'fries', 'that', 'looks', 'like', 'it', 'came', 'out', 'of', 'a', 'kids', 'meal', 'at', 'the', 'wienerschnitzel', 'is', 'not', 'my', 'idea', 'of', 'a', 'good', 'meal'], ['the', 'classic', 'maine', 'lobster', 'roll', 'was', 'fantastic'], ['my', 'brother', 'in', 'law', 'who', 'works', 'at', 'the', 'mall', 'ate', 'here', 'same', 'day', 'and', 'guess', 'what', 'he', 'was', 'sick', 'all', 'night', 'too'], ['so', 'good', 'i', 'am', 'going', 'to', 'have', 'to', 'review', 'this', 'place', 'twice', 'once', 'hereas', 'a', 'tribute', 'to', 'the', 'place', 'and', 'once', 'as', 'a', 'tribute', 'to', 'an', 'event', 'held', 'here', 'last', 'night'], ['the', 'chips', 'and', 'salsa', 'were', 'really', 'good', 'the', 'salsa', 'was', 'very', 'fresh'], ['this', 'place', 'is', 'great'], ['mediocre', 'food'], ['once', 'you', 'get', 'inside', 'youll', 'be', 'impressed', 'with', 'the', 'place'], ['im', 'super', 'pissd'], ['and', 'service', 'was', 'super', 'friendly'], ['why', 'are', 'these', 'sad', 'little', 'vegetables', 'so', 'overcooked'], ['this', 'place', 'was', 'such', 'a', 'nice', 'surprise'], ['they', 'were', 'goldencrispy', 'and', 'delicious'], ['i', 'had', 'high', 'hopes', 'for', 'this', 'place', 'since', 'the', 'burgers', 'are', 'cooked', 'over', 'a', 'charcoal', 'grill', 'but', 'unfortunately', 'the', 'taste', 'fell', 'flat', 'way', 'flat'], ['i', 'could', 'eat', 'their', 'bruschetta', 'all', 'day', 'it', 'is', 'devine'], ['not', 'a', 'single', 'employee', 'came', 'out', 'to', 'see', 'if', 'we', 'were', 'ok', 'or', 'even', 'needed', 'a', 'water', 'refill', 'once', 'they', 'finally', 'served', 'us', 'our', 'food'], ['lastly', 'the', 'mozzarella', 'sticks', 'they', 'were', 'the', 'best', 'thing', 'we', 'ordered'], ['the', 'first', 'time', 'i', 'ever', 'came', 'here', 'i', 'had', 'an', 'amazing', 'experience', 'i', 'still', 'tell', 'people', 'how', 'awesome', 'the', 'duck', 'was'], ['the', 'server', 'was', 'very', 'negligent', 'of', 'our', 'needs', 'and', 'made', 'us', 'feel', 'very', 'unwelcome', 'i', 'would', 'not', 'suggest', 'this', 'place'], ['the', 'service', 'was', 'terrible', 'though'], ['this', 'place', 'is', 'overpriced', 'not', 'consistent', 'with', 'their', 'boba', 'and', 'it', 'really', 'is', 'overpriced'], ['it', 'was', 'packed'], ['i', 'love', 'this', 'place'], ['i', 'can', 'say', 'that', 'the', 'desserts', 'were', 'yummy'], ['the', 'food', 'was', 'terrible'], ['the', 'seasonal', 'fruit', 'was', 'fresh', 'white', 'peach', 'puree'], ['it', 'kept', 'getting', 'worse', 'and', 'worse', 'so', 'now', 'im', 'officially', 'done'], ['this', 'place', 'should', 'honestly', 'be', 'blown', 'up'], ['but', 'i', 'definitely', 'would', 'not', 'eat', 'here', 'again'], ['do', 'not', 'waste', 'your', 'money', 'here'], ['i', 'love', 'that', 'they', 'put', 'their', 'food', 'in', 'nice', 'plastic', 'containers', 'as', 'opposed', 'to', 'cramming', 'it', 'in', 'little', 'paper', 'takeout', 'boxes'], ['the', 'crpe', 'was', 'delicate', 'and', 'thin', 'and', 'moist'], ['awful', 'service'], ['wont', 'ever', 'go', 'here', 'again'], ['food', 'quality', 'has', 'been', 'horrible'], ['for', 'that', 'price', 'i', 'can', 'think', 'of', 'a', 'few', 'place', 'i', 'would', 'have', 'much', 'rather', 'gone'], ['the', 'service', 'here', 'is', 'fair', 'at', 'best'], ['i', 'do', 'love', 'sushi', 'but', 'i', 'found', 'kabuki', 'to', 'be', 'overpriced', 'overhip', 'and', 'underservices'], ['do', 'yourself', 'a', 'favor', 'and', 'stay', 'away', 'from', 'this', 'dish'], ['very', 'poor', 'service'], ['no', 'one', 'at', 'the', 'table', 'thought', 'the', 'food', 'was', 'above', 'average', 'or', 'worth', 'the', 'wait', 'that', 'we', 'had', 'for', 'it'], ['best', 'service', 'and', 'food', 'ever', 'maria', 'our', 'server', 'was', 'so', 'good', 'and', 'friendly', 'she', 'made', 'our', 'day'], ['they', 'were', 'excellent'], ['i', 'paid', 'the', 'bill', 'but', 'did', 'not', 'tip', 'because', 'i', 'felt', 'the', 'server', 'did', 'a', 'terrible', 'job'], ['just', 'had', 'lunch', 'here', 'and', 'had', 'a', 'great', 'experience'], ['i', 'have', 'never', 'had', 'such', 'bland', 'food', 'which', 'surprised', 'me', 'considering', 'the', 'article', 'we', 'read', 'focused', 'so', 'much', 'on', 'their', 'spices', 'and', 'flavor'], ['food', 'is', 'way', 'overpriced', 'and', 'portions', 'are', 'fucking', 'small'], ['i', 'recently', 'tried', 'caballeros', 'and', 'i', 'have', 'been', 'back', 'every', 'week', 'since'], ['for', 'bucks', 'a', 'head', 'i', 'really', 'expect', 'better', 'food'], ['the', 'food', 'came', 'out', 'at', 'a', 'good', 'pace'], ['i', 'ate', 'there', 'twice', 'on', 'my', 'last', 'visit', 'and', 'especially', 'enjoyed', 'the', 'salmon', 'salad'], ['i', 'wont', 'be', 'back'], ['we', 'could', 'not', 'believe', 'how', 'dirty', 'the', 'oysters', 'were'], ['this', 'place', 'deserves', 'no', 'stars'], ['i', 'would', 'not', 'recommend', 'this', 'place'], ['in', 'fact', 'im', 'going', 'to', 'round', 'up', 'to', 'stars', 'just', 'because', 'she', 'was', 'so', 'awesome'], ['to', 'my', 'disbelief', 'each', 'dish', 'qualified', 'as', 'the', 'worst', 'version', 'of', 'these', 'foods', 'i', 'have', 'ever', 'tasted'], ['bad', 'day', 'or', 'not', 'i', 'have', 'a', 'very', 'low', 'tolerance', 'for', 'rude', 'customer', 'service', 'people', 'it', 'is', 'your', 'job', 'to', 'be', 'nice', 'and', 'polite', 'wash', 'dishes', 'otherwise'], ['the', 'potatoes', 'were', 'great', 'and', 'so', 'was', 'the', 'biscuit'], ['i', 'probably', 'would', 'not', 'go', 'here', 'again'], ['so', 'flavorful', 'and', 'has', 'just', 'the', 'perfect', 'amount', 'of', 'heat'], ['the', 'price', 'is', 'reasonable', 'and', 'the', 'service', 'is', 'great'], ['the', 'wife', 'hated', 'her', 'meal', 'coconut', 'shrimp', 'and', 'our', 'friends', 'really', 'did', 'not', 'enjoy', 'their', 'meals', 'either'], ['my', 'fella', 'got', 'the', 'huevos', 'rancheros', 'and', 'they', 'didnt', 'look', 'too', 'appealing'], ['went', 'in', 'for', 'happy', 'hour', 'great', 'list', 'of', 'wines'], ['some', 'may', 'say', 'this', 'buffet', 'is', 'pricey', 'but', 'i', 'think', 'you', 'get', 'what', 'you', 'pay', 'for', 'and', 'this', 'place', 'you', 'are', 'getting', 'quite', 'a', 'lot'], ['i', 'probably', 'wont', 'be', 'coming', 'back', 'here'], ['worst', 'foodservice', 'ive', 'had', 'in', 'a', 'while'], ['this', 'place', 'is', 'pretty', 'good', 'nice', 'little', 'vibe', 'in', 'the', 'restaurant'], ['talk', 'about', 'great', 'customer', 'service', 'of', 'course', 'we', 'will', 'be', 'back'], ['hot', 'dishes', 'are', 'not', 'hot', 'cold', 'dishes', 'are', 'close', 'to', 'room', 'tempi', 'watched', 'staff', 'prepare', 'food', 'with', 'bare', 'hands', 'no', 'gloveseverything', 'is', 'deep', 'fried', 'in', 'oil'], ['i', 'love', 'their', 'fries', 'and', 'their', 'beans'], ['always', 'a', 'pleasure', 'dealing', 'with', 'him'], ['they', 'have', 'a', 'plethora', 'of', 'salads', 'and', 'sandwiches', 'and', 'everything', 'ive', 'tried', 'gets', 'my', 'seal', 'of', 'approval'], ['this', 'place', 'is', 'awesome', 'if', 'you', 'want', 'something', 'light', 'and', 'healthy', 'during', 'the', 'summer'], ['for', 'sushi', 'on', 'the', 'strip', 'this', 'is', 'the', 'place', 'to', 'go'], ['the', 'service', 'was', 'great', 'even', 'the', 'manager', 'came', 'and', 'helped', 'with', 'our', 'table'], ['the', 'feel', 'of', 'the', 'dining', 'room', 'was', 'more', 'college', 'cooking', 'course', 'than', 'high', 'class', 'dining', 'and', 'the', 'service', 'was', 'slow', 'at', 'best'], ['i', 'started', 'this', 'review', 'with', 'two', 'stars', 'but', 'im', 'editing', 'it', 'to', 'give', 'it', 'only', 'one'], ['this', 'is', 'the', 'worst', 'sushi', 'i', 'have', 'ever', 'eat', 'besides', 'costcos'], ['all', 'in', 'all', 'an', 'excellent', 'restaurant', 'highlighted', 'by', 'great', 'service', 'a', 'unique', 'menu', 'and', 'a', 'beautiful', 'setting'], ['my', 'boyfriend', 'and', 'i', 'sat', 'at', 'the', 'bar', 'and', 'had', 'a', 'completely', 'delightful', 'experience'], ['weird', 'vibe', 'from', 'owners'], ['there', 'was', 'hardly', 'any', 'meat'], ['ive', 'had', 'better', 'bagels', 'from', 'the', 'grocery', 'store'], ['go', 'to', 'place', 'for', 'gyros'], ['i', 'love', 'the', 'ownerchef', 'his', 'one', 'authentic', 'japanese', 'cool', 'dude'], ['now', 'the', 'burgers', 'arent', 'as', 'good', 'the', 'pizza', 'which', 'used', 'to', 'be', 'amazing', 'is', 'doughy', 'and', 'flavorless'], ['i', 'found', 'a', 'six', 'inch', 'long', 'piece', 'of', 'wire', 'in', 'my', 'salsa'], ['the', 'service', 'was', 'terrible', 'food', 'was', 'mediocre'], ['we', 'definately', 'enjoyed', 'ourselves'], ['i', 'ordered', 'albondigas', 'soup', 'which', 'was', 'just', 'warm', 'and', 'tasted', 'like', 'tomato', 'soup', 'with', 'frozen', 'meatballs'], ['on', 'three', 'different', 'occasions', 'i', 'asked', 'for', 'well', 'done', 'or', 'medium', 'well', 'and', 'all', 'three', 'times', 'i', 'got', 'the', 'bloodiest', 'piece', 'of', 'meat', 'on', 'my', 'plate'], ['i', 'had', 'about', 'two', 'bites', 'and', 'refused', 'to', 'eat', 'anymore'], ['the', 'service', 'was', 'extremely', 'slow'], ['after', 'minutes', 'wait', 'i', 'got', 'a', 'table'], ['seriously', 'killer', 'hot', 'chai', 'latte'], ['no', 'allergy', 'warnings', 'on', 'the', 'menu', 'and', 'the', 'waitress', 'had', 'absolutely', 'no', 'clue', 'as', 'to', 'which', 'meals', 'did', 'or', 'did', 'not', 'contain', 'peanuts'], ['my', 'boyfriend', 'tried', 'the', 'mediterranean', 'chicken', 'salad', 'and', 'fell', 'in', 'love'], ['their', 'rotating', 'beers', 'on', 'tap', 'is', 'also', 'a', 'highlight', 'of', 'this', 'place'], ['pricing', 'is', 'a', 'bit', 'of', 'a', 'concern', 'at', 'mellow', 'mushroom'], ['worst', 'thai', 'ever'], ['if', 'you', 'stay', 'in', 'vegas', 'you', 'must', 'get', 'breakfast', 'here', 'at', 'least', 'once'], ['i', 'want', 'to', 'first', 'say', 'our', 'server', 'was', 'great', 'and', 'we', 'had', 'perfect', 'service'], ['the', 'pizza', 'selections', 'are', 'good'], ['i', 'had', 'strawberry', 'tea', 'which', 'was', 'good'], ['highly', 'unprofessional', 'and', 'rude', 'to', 'a', 'loyal', 'patron'], ['overall', 'a', 'great', 'experience'], ['spend', 'your', 'money', 'elsewhere'], ['their', 'regular', 'toasted', 'bread', 'was', 'equally', 'satisfying', 'with', 'the', 'occasional', 'pats', 'of', 'butter', 'mmmm'], ['the', 'buffet', 'at', 'bellagio', 'was', 'far', 'from', 'what', 'i', 'anticipated'], ['and', 'the', 'drinks', 'are', 'weak', 'people'], ['my', 'order', 'was', 'not', 'correct'], ['also', 'i', 'feel', 'like', 'the', 'chips', 'are', 'bought', 'not', 'made', 'in', 'house'], ['after', 'the', 'disappointing', 'dinner', 'we', 'went', 'elsewhere', 'for', 'dessert'], ['the', 'chips', 'and', 'sals', 'a', 'here', 'is', 'amazing'], ['we', 'wont', 'be', 'returning'], ['this', 'is', 'my', 'new', 'fav', 'vegas', 'buffet', 'spot'], ['i', 'seriously', 'cannot', 'believe', 'that', 'the', 'owner', 'has', 'so', 'many', 'unexperienced', 'employees', 'that', 'all', 'are', 'running', 'around', 'like', 'chickens', 'with', 'their', 'heads', 'cut', 'off'], ['very', 'very', 'sad'], ['i', 'felt', 'insulted', 'and', 'disrespected', 'how', 'could', 'you', 'talk', 'and', 'judge', 'another', 'human', 'being', 'like', 'that'], ['how', 'can', 'you', 'call', 'yourself', 'a', 'steakhouse', 'if', 'you', 'cant', 'properly', 'cook', 'a', 'steak', 'i', 'dont', 'understand'], ['im', 'not', 'impressed', 'with', 'the', 'concept', 'or', 'the', 'food'], ['the', 'only', 'thing', 'i', 'wasnt', 'too', 'crazy', 'about', 'was', 'their', 'guacamole', 'as', 'i', 'dont', 'like', 'it', 'pured'], ['there', 'is', 'really', 'nothing', 'for', 'me', 'at', 'postinos', 'hope', 'your', 'experience', 'is', 'better'], ['i', 'got', 'food', 'poisoning', 'here', 'at', 'the', 'buffet'], ['they', 'brought', 'a', 'fresh', 'batch', 'of', 'fries', 'and', 'i', 'was', 'thinking', 'yay', 'something', 'warm', 'but', 'no'], ['what', 'should', 'have', 'been', 'a', 'hilarious', 'yummy', 'christmas', 'eve', 'dinner', 'to', 'remember', 'was', 'the', 'biggest', 'fail', 'of', 'the', 'entire', 'trip', 'for', 'us'], ['needless', 'to', 'say', 'i', 'wont', 'be', 'going', 'back', 'anytime', 'soon'], ['this', 'place', 'is', 'disgusting'], ['every', 'time', 'i', 'eat', 'here', 'i', 'see', 'caring', 'teamwork', 'to', 'a', 'professional', 'degree'], ['the', 'ri', 'style', 'calamari', 'was', 'a', 'joke'], ['however', 'there', 'was', 'so', 'much', 'garlic', 'in', 'the', 'fondue', 'it', 'was', 'barely', 'edible'], ['i', 'could', 'barely', 'stomach', 'the', 'meal', 'but', 'didnt', 'complain', 'because', 'it', 'was', 'a', 'business', 'lunch'], ['it', 'was', 'so', 'bad', 'i', 'had', 'lost', 'the', 'heart', 'to', 'finish', 'it'], ['it', 'also', 'took', 'her', 'forever', 'to', 'bring', 'us', 'the', 'check', 'when', 'we', 'asked', 'for', 'it'], ['we', 'arent', 'ones', 'to', 'make', 'a', 'scene', 'at', 'restaurants', 'but', 'i', 'just', 'dont', 'get', 'itdefinitely', 'lost', 'the', 'love', 'after', 'this', 'one'], ['disappointing', 'experience'], ['the', 'food', 'is', 'about', 'on', 'par', 'with', 'dennys', 'which', 'is', 'to', 'say', 'not', 'good', 'at', 'all'], ['if', 'you', 'want', 'to', 'wait', 'for', 'mediocre', 'food', 'and', 'downright', 'terrible', 'service', 'then', 'this', 'is', 'the', 'place', 'for', 'you'], ['waaaaaayyyyyyyyyy', 'over', 'rated', 'is', 'all', 'i', 'am', 'saying'], ['we', 'wont', 'be', 'going', 'back'], ['the', 'place', 'was', 'fairly', 'clean', 'but', 'the', 'food', 'simply', 'wasnt', 'worth', 'it'], ['this', 'place', 'lacked', 'style'], ['the', 'sangria', 'was', 'about', 'half', 'of', 'a', 'glass', 'wine', 'full', 'and', 'was', 'ridiculous'], ['dont', 'bother', 'coming', 'here'], ['the', 'meat', 'was', 'pretty', 'dry', 'i', 'had', 'the', 'sliced', 'brisket', 'and', 'pulled', 'pork'], ['the', 'building', 'itself', 'seems', 'pretty', 'neat', 'the', 'bathroom', 'is', 'pretty', 'trippy', 'but', 'i', 'wouldnt', 'eat', 'here', 'again'], ['it', 'was', 'equally', 'awful'], ['probably', 'not', 'in', 'a', 'hurry', 'to', 'go', 'back'], ['very', 'slow', 'at', 'seating', 'even', 'with', 'reservation'], ['not', 'good', 'by', 'any', 'stretch', 'of', 'the', 'imagination'], ['the', 'cashew', 'cream', 'sauce', 'was', 'bland', 'and', 'the', 'vegetables', 'were', 'undercooked'], ['the', 'chipolte', 'ranch', 'dipping', 'sause', 'was', 'tasteless', 'seemed', 'thin', 'and', 'watered', 'down', 'with', 'no', 'heat'], ['it', 'was', 'a', 'bit', 'too', 'sweet', 'not', 'really', 'spicy', 'enough', 'and', 'lacked', 'flavor'], ['i', 'was', 'very', 'disappointed'], ['this', 'place', 'is', 'horrible', 'and', 'way', 'overpriced'], ['maybe', 'its', 'just', 'their', 'vegetarian', 'fare', 'but', 'ive', 'been', 'twice', 'and', 'i', 'thought', 'it', 'was', 'average', 'at', 'best'], ['it', 'wasnt', 'busy', 'at', 'all', 'and', 'now', 'we', 'know', 'why'], ['the', 'tables', 'outside', 'are', 'also', 'dirty', 'a', 'lot', 'of', 'the', 'time', 'and', 'the', 'workers', 'are', 'not', 'always', 'friendly', 'and', 'helpful', 'with', 'the', 'menu'], ['the', 'ambiance', 'here', 'did', 'not', 'feel', 'like', 'a', 'buffet', 'setting', 'but', 'more', 'of', 'a', 'douchey', 'indoor', 'garden', 'for', 'tea', 'and', 'biscuits'], ['con', 'spotty', 'service'], ['the', 'fries', 'were', 'not', 'hot', 'and', 'neither', 'was', 'my', 'burger'], ['but', 'then', 'they', 'came', 'back', 'cold'], ['then', 'our', 'food', 'came', 'out', 'disappointment', 'ensued'], ['the', 'real', 'disappointment', 'was', 'our', 'waiter'], ['my', 'husband', 'said', 'she', 'was', 'very', 'rude', 'did', 'not', 'even', 'apologize', 'for', 'the', 'bad', 'food', 'or', 'anything'], ['the', 'only', 'reason', 'to', 'eat', 'here', 'would', 'be', 'to', 'fill', 'up', 'before', 'a', 'night', 'of', 'binge', 'drinking', 'just', 'to', 'get', 'some', 'carbs', 'in', 'your', 'stomach'], ['insults', 'profound', 'deuchebaggery', 'and', 'had', 'to', 'go', 'outside', 'for', 'a', 'smoke', 'break', 'while', 'serving', 'just', 'to', 'solidify', 'it'], ['if', 'someone', 'orders', 'two', 'tacos', 'dont', 'you', 'think', 'it', 'may', 'be', 'part', 'of', 'customer', 'service', 'to', 'ask', 'if', 'it', 'is', 'combo', 'or', 'ala', 'cart'], ['she', 'was', 'quite', 'disappointed', 'although', 'some', 'blame', 'needs', 'to', 'be', 'placed', 'at', 'her', 'door'], ['after', 'all', 'the', 'rave', 'reviews', 'i', 'couldnt', 'wait', 'to', 'eat', 'herewhat', 'a', 'disappointment'], ['del', 'taco', 'is', 'pretty', 'nasty', 'and', 'should', 'be', 'avoided', 'if', 'possible'], ['its', 'not', 'hard', 'to', 'make', 'a', 'decent', 'hamburger'], ['but', 'i', 'dont', 'like', 'it'], ['hell', 'no', 'will', 'i', 'go', 'back'], ['weve', 'have', 'gotten', 'a', 'much', 'better', 'service', 'from', 'the', 'pizza', 'place', 'next', 'door', 'than', 'the', 'services', 'we', 'received', 'from', 'this', 'restaurant'], ['i', 'dont', 'know', 'what', 'the', 'big', 'deal', 'is', 'about', 'this', 'place', 'but', 'i', 'wont', 'be', 'back', 'yaall'], ['i', 'immediately', 'said', 'i', 'wanted', 'to', 'talk', 'to', 'the', 'manager', 'but', 'i', 'did', 'not', 'want', 'to', 'talk', 'to', 'the', 'guy', 'who', 'was', 'doing', 'shots', 'of', 'fireball', 'behind', 'the', 'bar'], ['the', 'ambiance', 'isnt', 'much', 'better'], ['unfortunately', 'it', 'only', 'set', 'us', 'up', 'for', 'disapppointment', 'with', 'our', 'entrees'], ['the', 'food', 'wasnt', 'good'], ['your', 'servers', 'suck', 'wait', 'correction', 'our', 'server', 'heimer', 'sucked'], ['what', 'happened', 'next', 'was', 'prettyoff', 'putting'], ['too', 'bad', 'cause', 'i', 'know', 'its', 'family', 'owned', 'i', 'really', 'wanted', 'to', 'like', 'this', 'place'], ['overpriced', 'for', 'what', 'you', 'are', 'getting'], ['i', 'vomited', 'in', 'the', 'bathroom', 'mid', 'lunch'], ['i', 'kept', 'looking', 'at', 'the', 'time', 'and', 'it', 'had', 'soon', 'become', 'minutes', 'yet', 'still', 'no', 'food'], ['i', 'have', 'been', 'to', 'very', 'few', 'places', 'to', 'eat', 'that', 'under', 'no', 'circumstances', 'would', 'i', 'ever', 'return', 'to', 'and', 'this', 'tops', 'the', 'list'], ['we', 'started', 'with', 'the', 'tuna', 'sashimi', 'which', 'was', 'brownish', 'in', 'color', 'and', 'obviously', 'wasnt', 'fresh'], ['food', 'was', 'below', 'average'], ['it', 'sure', 'does', 'beat', 'the', 'nachos', 'at', 'the', 'movies', 'but', 'i', 'would', 'expect', 'a', 'little', 'bit', 'more', 'coming', 'from', 'a', 'restaurant'], ['all', 'in', 'all', 'ha', 'long', 'bay', 'was', 'a', 'bit', 'of', 'a', 'flop'], ['the', 'problem', 'i', 'have', 'is', 'that', 'they', 'charge', 'for', 'a', 'sandwich', 'that', 'is', 'no', 'bigger', 'than', 'a', 'subway', 'sub', 'which', 'offers', 'better', 'and', 'more', 'amount', 'of', 'vegetables'], ['shrimp', 'when', 'i', 'unwrapped', 'it', 'i', 'live', 'only', 'a', 'mile', 'from', 'brushfire', 'it', 'was', 'literally', 'ice', 'cold'], ['it', 'lacked', 'flavor', 'seemed', 'undercooked', 'and', 'dry'], ['it', 'really', 'is', 'impressive', 'that', 'the', 'place', 'hasnt', 'closed', 'down'], ['i', 'would', 'avoid', 'this', 'place', 'if', 'you', 'are', 'staying', 'in', 'the', 'mirage'], ['the', 'refried', 'beans', 'that', 'came', 'with', 'my', 'meal', 'were', 'dried', 'out', 'and', 'crusty', 'and', 'the', 'food', 'was', 'bland'], ['spend', 'your', 'money', 'and', 'time', 'some', 'place', 'else'], ['a', 'lady', 'at', 'the', 'table', 'next', 'to', 'us', 'found', 'a', 'live', 'green', 'caterpillar', 'in', 'her', 'salad'], ['the', 'presentation', 'of', 'the', 'food', 'was', 'awful'], ['i', 'cant', 'tell', 'you', 'how', 'disappointed', 'i', 'was'], ['i', 'think', 'food', 'should', 'have', 'flavor', 'and', 'texture', 'and', 'both', 'were', 'lacking'], ['appetite', 'instantly', 'gone'], ['overall', 'i', 'was', 'not', 'impressed', 'and', 'would', 'not', 'go', 'back'], ['the', 'whole', 'experience', 'was', 'underwhelming', 'and', 'i', 'think', 'well', 'just', 'go', 'to', 'ninja', 'sushi', 'next', 'time'], ['then', 'as', 'if', 'i', 'hadnt', 'wasted', 'enough', 'of', 'my', 'life', 'there', 'they', 'poured', 'salt', 'in', 'the', 'wound', 'by', 'drawing', 'out', 'the', 'time', 'it', 'took', 'to', 'bring', 'the', 'check']]\n",
            "Total de tokens: 10777\n"
          ]
        }
      ]
    },
    {
      "cell_type": "markdown",
      "source": [
        "*   **Pregunta 14.**  \n",
        "\n",
        "Con el resultado de la limpieza obtenido en la pregunta anterior, realiza ahora un proceso de tokenización por palabras del corpus. \n",
        "\n",
        "Es decir, al final de este proceso de tokenización, debes tener como resultado una lista de listas, donde cada comentario estará tokenizado por palabras.\n",
        "\n",
        "Al terminar calcula el total de tokens obtenido en todo el corpus. "
      ],
      "metadata": {
        "id": "WZwEhg2lUSAX"
      }
    },
    {
      "cell_type": "markdown",
      "source": [
        "*   **Pregunta 15.**  \n",
        "\n",
        "Finalmente, en este ejercicio definiremos nuestro conjunto de palabras \"stopwords\", las cuales deberás eliminar de todo el corpus. \n",
        "\n",
        "Recuerda que ejemplos de stopwords son artículos, adverbios, conectivos, etcétera, que tienen frecuencias de aparición muy altas en cualquier documento, pero que no brindan mucho significado en cuanto al significado de un enunciado.\n",
        "\n",
        "Con base a la lista de stopwords que se te proporciona, realiza un proceso de limpieza eliminando todas estas palabras del corpus obtenido en el ejercicio anterior.\n",
        "\n",
        "Obtener cuántos tokens/palabras quedan finalmente en todo el corpus.\n",
        "\n",
        "Obtener cuántos de estos tokens/palabras son diferentes, es decir, cuántos tokens únicos tendrá lo que llamaremos más adelante nuestro vocabulario."
      ],
      "metadata": {
        "id": "EFeu0OJ7WDPD"
      }
    },
    {
      "cell_type": "code",
      "source": [
        "# Considera la siguiente lista como tu conjunto de stopwords:\n",
        "mis_stopwords = ['i', 'me', 'my', 'myself', 'we', 'our', 'ours', 'ourselves', 'you', 'your', 'yours', 'he', 'him', 'his', 'himself', 'she', 'her', 'hers', 'herself', 'it', 'its', 'itself', 'they', 'them', 'their', 'theirs', 'themselves', 'what', 'which', 'who', 'whom', 'this', 'that', 'these', 'those', 'am', 'is', 'are', 'was', 'were', 'be', 'been', 'being', 'have', 'has', 'had', 'having', 'do', 'does', 'did', 'doing', 'a', 'an', 'the', 'and', 'but', 'if', 'or', 'because', 'as', 'until', 'while', 'of', 'at', 'by', 'for', 'with', 'about', 'against', 'between', 'into', 'through', 'during', 'before', 'after', 'above', 'below', 'to', 'from', 'up', 'down', 'in', 'out', 'on', 'over', 'under', 'again', 'further', 'then', 'once', 'here', 'there', 'when', 'where', 'why', 'how', 'all', 'any', 'both', 'each', 'few', 'more', 'most', 'other', 'some', 'such', 'only', 'own', 'same', 'so', 'than', 'too', 'very', 's', 't', 'can', 'will', 'just', 'should', 'now', 'll']"
      ],
      "metadata": {
        "id": "6FP4FF3KXGxm"
      },
      "execution_count": 54,
      "outputs": []
    },
    {
      "cell_type": "code",
      "source": [
        "# Filtrar las stopwords del corpus\n",
        "corpus_sin_stopwords = [[palabra for palabra in comentario if palabra.lower() not in mis_stopwords] for comentario in corpus_tokenizado]\n",
        "\n",
        "# Obtener la cantidad de tokens finales\n",
        "total_tokens_sin_stopwords = sum([len(comentario) for comentario in corpus_sin_stopwords])\n",
        "\n",
        "# Obtener la cantidad de tokens únicos (vocabulario)\n",
        "vocabulario = set([palabra for comentario in corpus_sin_stopwords for palabra in comentario])\n",
        "total_tokens_unicos = len(vocabulario)\n",
        "\n"
      ],
      "metadata": {
        "id": "CD8yjyq1ZrwY"
      },
      "execution_count": 50,
      "outputs": []
    },
    {
      "cell_type": "code",
      "source": [
        "print(\"Total de tokens sin stopwords:\", total_tokens_sin_stopwords)\n",
        "print(\"Tokens únicos (vocabulario):\", total_tokens_unicos)"
      ],
      "metadata": {
        "id": "4ZPi5prKZro5",
        "outputId": "8f823943-2dbb-409a-891e-7c8f92ab12c1",
        "colab": {
          "base_uri": "https://localhost:8080/"
        }
      },
      "execution_count": 51,
      "outputs": [
        {
          "output_type": "stream",
          "name": "stdout",
          "text": [
            "Total de tokens sin stopwords: 5846\n",
            "Tokens únicos (vocabulario): 1970\n"
          ]
        }
      ]
    },
    {
      "cell_type": "markdown",
      "source": [
        "*   **Comentarios**\n",
        "\n",
        "Incluye finalmente tus comentarios de la actividad."
      ],
      "metadata": {
        "id": "NDbKkuxRbLoX"
      }
    },
    {
      "cell_type": "markdown",
      "source": [
        "\n",
        "El uso de expresiones regulares para la definición de filtros en un texto, es muy relevante ya que nos ayuda a identificar las frases y la gramática que lo componen. \n",
        "\n",
        "Las expresiones regulares o regex, reepresentan una manera de buscar patrones en un conjunto de datos, nos ayudan controlar el contenido de los textos y a su vez limitar los documentos para su análisis semántico.\n",
        "\n",
        "Me pareció bastante interesante la parte de tokenización y limpieza porque son los primeros pasos para crear un diccionario que podria ser utilizado como vocabulario base para alguna aplicación."
      ],
      "metadata": {
        "id": "ImmDU9VZp-3K"
      }
    },
    {
      "cell_type": "markdown",
      "source": [
        "<< incluye aquí tus comentarios >>"
      ],
      "metadata": {
        "id": "o7fzbvqVbUGr"
      }
    },
    {
      "cell_type": "markdown",
      "source": [
        "##**Fin de la Actividad de la semana 2.**"
      ],
      "metadata": {
        "id": "PHaKw_6Ldbaf"
      }
    },
    {
      "cell_type": "code",
      "source": [],
      "metadata": {
        "id": "z0Gc7sx-DdLT"
      },
      "execution_count": null,
      "outputs": []
    }
  ]
}