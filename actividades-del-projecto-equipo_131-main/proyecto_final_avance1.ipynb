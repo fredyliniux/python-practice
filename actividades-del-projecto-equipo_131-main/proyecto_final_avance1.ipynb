{
  "cells": [
    {
      "cell_type": "markdown",
      "metadata": {
        "colab_type": "text",
        "id": "view-in-github"
      },
      "source": [
        "<a href=\"https://colab.research.google.com/github/tec03/ParaAssignment01-/blob/main/assignment01.ipynb\" target=\"_parent\"><img src=\"https://colab.research.google.com/assets/colab-badge.svg\" alt=\"Open In Colab\"/></a>"
      ]
    },
    {
      "cell_type": "code",
      "execution_count": null,
      "metadata": {
        "colab": {
          "base_uri": "https://localhost:8080/"
        },
        "id": "LzUSMM79NR9P",
        "outputId": "0e6cb421-1096-426a-b31a-f61d059def81"
      },
      "outputs": [
        {
          "name": "stdout",
          "output_type": "stream",
          "text": [
            "assignment01 for GitJobish03 and edited in git, and 18\n"
          ]
        }
      ],
      "source": [
        "print('assignment01 for Fredy y Cecilia and edited in git, and 18')"
      ]
    },
    {
      "cell_type": "markdown",
      "metadata": {},
      "source": [
        "El nombre que caracteriza el conjunto de datos.\n",
        "El nombre de nuestro set de datos es: Netflix Movies and TV Shows\n",
        "\n",
        "La organización que lo generó.\n",
        "La organizaci'on que los genero es: Tv shows and movies available on Netflix as of 2019. Source: Kaggle\n",
        "\n",
        "Incluya un enlace de Internet donde se puedan descargar el base de datos en línea\n",
        "El enlac a los datos es el siguiente: https://public.tableau.com/app/sample-data/netflix_titles.xlsx\n",
        "\n",
        "Describe el conjunto de datos. ¿Qué datos contiene?\n",
        "El conjunto de datos contiene Datos sobre las Series de TV y pel'iculas disponibles en el 2019.\n",
        "\n",
        "¿Cuáles son algunas de las preguntas de investigación que podría responder con estos datos? Enumere al menos OCHO (no responda las preguntas).\n",
        "1 ¿Cuales son las series que generaron mayor ingresos para Netflix?\n",
        "2 ¿Que genero es el mas visto por pais?\n",
        "3 ¿Cual fue la pelicula mas exitosa de Netflix en 2019?\n",
        "4 ¿Cual es el numero de usuarios de Netflix por pais?\n",
        "5 ¿Que actores fueron los mas buscados?\n",
        "6 ¿Cuantas horas promedio se conecta un usuario?\n",
        "7 ¿Cuantas peliculas y series habia disponibles en 2019?\n",
        "8 ¿Cuantos estrenos de series y peliculas hubo en 2019?\n",
        "\n",
        "¿Qué actor (empresa, sector de la sociedad, organismo descentralizado, gobierno, etc.) estaría interesado en las preguntas mencionadas que identificó?\n",
        "La industria del cine y television."
      ]
    },
    {
      "cell_type": "code",
      "execution_count": null,
      "metadata": {
        "id": "mxM_WppZPMFx"
      },
      "outputs": [],
      "source": []
    },
    {
      "cell_type": "markdown",
      "metadata": {},
      "source": []
    }
  ],
  "metadata": {
    "colab": {
      "include_colab_link": true,
      "name": "assignment01.ipynb",
      "provenance": []
    },
    "kernelspec": {
      "display_name": "Python 3",
      "name": "python3"
    },
    "language_info": {
      "name": "python"
    }
  },
  "nbformat": 4,
  "nbformat_minor": 0
}
