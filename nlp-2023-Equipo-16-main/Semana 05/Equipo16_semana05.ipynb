{
 "cells": [
  {
   "attachments": {},
   "cell_type": "markdown",
   "metadata": {},
   "source": [
    "<center><img src=\"data/itesm.png\"/></center>\n",
    "<h1 style='text-align: center;'><b>Maestría en Inteligencia Artificial Aplicada</b></h1>\n",
    "\n",
    "<h2 style='text-align: center;'><b>Curso: Estrategia de implementación de servicios tecnológicos</b></h2>\n",
    "<h2 style='text-align: center;'><b>Tecnológico de Monterrey</b></h2>\n",
    "<h2 style='text-align: center;'><b>Prof Titular: Luis Eduardo Falcón Morales</b></h2>\n",
    "<h2 style='text-align: center;'><b>Prof Tutor: Carlos Villaseñor</b></h2>\n",
    "\n",
    "<h3 style='text-align: center;'><b>ALUMNO: </b>Cecilia Acevedo Rodríguez</h3>\n",
    "<h3 style='text-align: center;'><b>MATRICULA: </b>A01793953</h3>\n",
    "<h3 style='text-align: center;'><b>ALUMNO: </b>Johan Andrés Castro Gomez</h3>\n",
    "<h3 style='text-align: center;'><b>MATRICULA: </b>A01793556</h3>\n",
    "<h3 style='text-align: center;'><b>ALUMNO: </b> Guillermo Alfonso Muñiz Hermosillo</h3>\n",
    "<h3 style='text-align: center;'><b>MATRICULA: </b>A01793101</h3>\n",
    "<h3 style='text-align: center;'><b>ALUMNO: </b>Ricardo Morales Bustillos</h3>\n",
    "<h3 style='text-align: center;'><b>MATRICULA: </b>A01740032</h3>\n",
    "<h3 style='text-align: center;'><b>ALUMNO: </b>Fredy Reyes Sánchez</h3>\n",
    "<h3 style='text-align: center;'><b>MATRICULA: </b>A01687370</h3>\n",
    "\n",
    "\n",
    "\n",
    "<h2 style='text-align: center;'><b>Actividad de la Semana 05</b></h2>\n",
    "<h2 style='text-align: center;'><b>5.2 Actividad: Continuando con caso de estudio: Amazon-Yelp-Imdb</b></h1>\n",
    "<h4 style='text-align: right;'>Mayo 2023</h4>"
   ]
  },
  {
   "attachments": {},
   "cell_type": "markdown",
   "metadata": {},
   "source": [
    "## **Ejercicio - 1:**\n",
    "\n",
    "Descarga los 3 archivos de Canvas. En particular, el archivo de datos de IMDb ya no requiere\n",
    "transformarse para obtener sus 1000 registros. Al cargar los datos de los tres archivos deberás\n",
    "tener un DataFrame de Pandas de 3000 registros, con sus etiquetas. Los archivos los encuentras en\n",
    "Canvas y se llaman: amazon5.txt, imdb5.txt, yelp5.txt. \n"
   ]
  },
  {
   "cell_type": "code",
   "execution_count": 1,
   "metadata": {},
   "outputs": [
    {
     "name": "stdout",
     "output_type": "stream",
     "text": [
      "<class 'pandas.core.frame.DataFrame'>\n",
      "RangeIndex: 3000 entries, 0 to 2999\n",
      "Data columns (total 2 columns):\n",
      " #   Column  Non-Null Count  Dtype \n",
      "---  ------  --------------  ----- \n",
      " 0   review  3000 non-null   object\n",
      " 1   label   3000 non-null   int64 \n",
      "dtypes: int64(1), object(1)\n",
      "memory usage: 47.0+ KB\n"
     ]
    },
    {
     "name": "stderr",
     "output_type": "stream",
     "text": [
      "C:\\Users\\gmuni\\AppData\\Local\\Temp\\ipykernel_25132\\717470586.py:5: ParserWarning: Falling back to the 'python' engine because the 'c' engine does not support regex separators (separators > 1 char and different from '\\s+' are interpreted as regex); you can avoid this warning by specifying engine='python'.\n",
      "  pd.read_csv('data/imdb5.txt', sep='   ', names=['review','label'], header=None, encoding='utf-8'),\n"
     ]
    }
   ],
   "source": [
    "import pandas as pd  \n",
    "import numpy as np\n",
    "\n",
    "df = pd.concat([pd.read_csv('data/amazon5.txt', sep='\\t', names=['review','label'], header=None, encoding='utf-8'), \n",
    "                pd.read_csv('data/imdb5.txt', sep='   ', names=['review','label'], header=None, encoding='utf-8'), \n",
    "                pd.read_csv('data/yelp5.txt', sep='\\t', names=['review','label'], header=None, encoding='utf-8')], \n",
    "               ignore_index=True) \n",
    "df.info()"
   ]
  },
  {
   "cell_type": "code",
   "execution_count": 2,
   "metadata": {},
   "outputs": [
    {
     "data": {
      "text/plain": [
       "review    0\n",
       "label     0\n",
       "dtype: int64"
      ]
     },
     "execution_count": 2,
     "metadata": {},
     "output_type": "execute_result"
    }
   ],
   "source": [
    "df.isnull().sum()"
   ]
  },
  {
   "attachments": {},
   "cell_type": "markdown",
   "metadata": {},
   "source": [
    "## **Ejercicio - 2:**\n",
    "\n",
    "Realiza de nuevo un proceso de limpieza. Aplica el preprocesamiento que consideres adecuado, sin\n",
    "embargo, deberás aplicar necesariamente alguna de las técnicas de lematización. Como aplicaremos\n",
    "modelos embebidos pre-entrenados, queremos palabras lo más cercanas a las existentes en un\n",
    "idioma, inglés en este caso. Aplica y justifica cualquier otro proceso de limpieza que consideres\n",
    "adecuado. Recuerda que en esta actividad se usarán vectores embebidos para un problema de\n",
    "clasificación, por lo que deberás tomar de acuerdo a este contexto. Justifica todas las\n",
    "transformaciones que se apliquen. \n"
   ]
  },
  {
   "cell_type": "code",
   "execution_count": 3,
   "metadata": {},
   "outputs": [
    {
     "name": "stderr",
     "output_type": "stream",
     "text": [
      "[nltk_data] Downloading package wordnet to\n",
      "[nltk_data]     C:\\Users\\gmuni\\AppData\\Roaming\\nltk_data...\n",
      "[nltk_data]   Package wordnet is already up-to-date!\n",
      "[nltk_data] Downloading package averaged_perceptron_tagger to\n",
      "[nltk_data]     C:\\Users\\gmuni\\AppData\\Roaming\\nltk_data...\n",
      "[nltk_data]   Package averaged_perceptron_tagger is already up-to-\n",
      "[nltk_data]       date!\n",
      "[nltk_data] Downloading package universal_tagset to\n",
      "[nltk_data]     C:\\Users\\gmuni\\AppData\\Roaming\\nltk_data...\n",
      "[nltk_data]   Package universal_tagset is already up-to-date!\n",
      "[nltk_data] Downloading package omw-1.4 to\n",
      "[nltk_data]     C:\\Users\\gmuni\\AppData\\Roaming\\nltk_data...\n",
      "[nltk_data]   Package omw-1.4 is already up-to-date!\n",
      "[nltk_data] Downloading package stopwords to\n",
      "[nltk_data]     C:\\Users\\gmuni\\AppData\\Roaming\\nltk_data...\n",
      "[nltk_data]   Package stopwords is already up-to-date!\n"
     ]
    },
    {
     "data": {
      "text/plain": [
       "True"
      ]
     },
     "execution_count": 3,
     "metadata": {},
     "output_type": "execute_result"
    }
   ],
   "source": [
    "# Importamos las librerias necesarias.\n",
    "import re\n",
    "import nltk\n",
    "# Importamos la libreria de lemanizacion de nltk para aplicarla a nuestro documento.\n",
    "from nltk.stem import WordNetLemmatizer\n",
    "from nltk.tokenize import word_tokenize\n",
    "from nltk.tag import pos_tag\n",
    "nltk.download('wordnet')\n",
    "nltk.download('averaged_perceptron_tagger')\n",
    "nltk.download('universal_tagset')\n",
    "nltk.download('omw-1.4')\n",
    "\n",
    "# Necesitamos crear un conjunto de stopwords. Usamos el conjunto predefinido en la practica anterior de la libreria nltk\n",
    "from nltk.corpus import stopwords\n",
    "nltk.download('stopwords')    # para tener acceso a \"stopwords\" en varios idiomas."
   ]
  },
  {
   "cell_type": "code",
   "execution_count": 4,
   "metadata": {},
   "outputs": [],
   "source": [
    "wnl = WordNetLemmatizer()\n",
    "\n",
    "# Asi mismo usaremos el conjunto de las palabras negativas usadas en la practica anterior.\n",
    "negwords = [ 'no', 'nor', 'not', 'ain', 'aren', \"aren't\", 'don', \"don't\", 'couldn', \"couldn't\", 'didn', \"didn't\", 'doesn', \"doesn't\", 'hadn', \"hadn't\", 'hasn', \"hasn't\", 'haven', \"haven't\", 'isn', \"isn't\", 'mightn', \"mightn't\", 'mustn', \"mustn't\", 'needn', \"needn't\", 'shan', \"shan't\", 'shouldn', \"shouldn't\", 'wasn', \"wasn't\", 'weren', \"weren't\", 'won', \"won't\", 'wouldn', \"wouldn't\"]\n",
    "\n",
    "# Definimos nuestro conjunto de stopwords customizado, \n",
    "# quitando las palabras negativas del conjunto de nltk para considerarlas al momento de realizar nuestro analisis de sentimiento.\n",
    "mystopwords = [w for w in stopwords.words('english') if w not in negwords ]\n",
    "\n",
    "\n",
    "def tag_word(tag):\n",
    "    if tag == 'VERB':\n",
    "        return 'v'\n",
    "    if tag == 'ADV':\n",
    "        return 'r'\n",
    "    if tag == 'ADJ':\n",
    "        return 'a'\n",
    "    else:\n",
    "        return 'n'\n",
    "\n",
    "\n",
    "# Antes de comenzar separamos nuestros documentos y nuestras labels en 2 conjuntos de datos denominados X y Y\n",
    "X = df.review     # Serie de strings\n",
    "Y = df.label      # Serie de enteros 0s y 1s\n",
    "\n",
    "# Una vez separados comenzamos el procesamiento de nuestras strings.  \n",
    "# Creamos una funcion para llevar a cabo este proceso paso por paso.\n",
    "def clean_doc(doc):\n",
    "    #Remplazamos todos los caracteres que no sean alfabéticos por espacio\n",
    "    newDoc = re.sub(r'[^A-Za-z\\s]',' ', doc) \n",
    "    # Convertir a minusculas nuestro documento. Ya que facilita el analisis de cada documento y las transformaciones a realizar.\n",
    "    newDoc = doc.lower()\n",
    "     # Eliminar toda la puntuacion (excepto salto de lineas y puntos ya que son tratados en el siguiente paso) ya que no son relevantes para nuestro analisis.\\n\",\n",
    "    newDoc = re.sub(r'[^a-z|^\\\\n|^ |^\\\\.]+', ' ', newDoc)\n",
    "    # Eliminar puntos finales, seguidos y suspensivos.\n",
    "    newDoc = re.sub(r'(\\\\.+)', ' ', newDoc)\n",
    "    # Eliminar espacios multiples.\n",
    "    newDoc = re.sub(r'\\s+', ' ',newDoc).strip() #Quitamos todos los espacios adicionales\n",
    "    tokens = word_tokenize(newDoc)\n",
    "    # Lemmatization\n",
    "    word_type = pos_tag(tokens, tagset='universal')\n",
    "    tokens = [wnl.lemmatize(x[0],pos = tag_word(x[1]))for x in word_type]\n",
    "    # Eliminar stopwords, Eliminamos tambien palabras de longitud 1\n",
    "    tokens = [word for word in tokens if (word not in mystopwords) & (len(word)>=2)]\n",
    "\n",
    "    return tokens"
   ]
  },
  {
   "cell_type": "code",
   "execution_count": 5,
   "metadata": {},
   "outputs": [
    {
     "name": "stdout",
     "output_type": "stream",
     "text": [
      "Tamaño final del conjunto de datos: 3000\n"
     ]
    },
    {
     "data": {
      "text/plain": [
       "[['no', 'way', 'plug', 'unless', 'go', 'converter'],\n",
       " ['good', 'case', 'excellent', 'value'],\n",
       " ['great', 'jawbone'],\n",
       " ['tie', 'charger', 'conversation', 'last', 'minutes.major', 'problem'],\n",
       " ['mic', 'great']]"
      ]
     },
     "execution_count": 5,
     "metadata": {},
     "output_type": "execute_result"
    }
   ],
   "source": [
    "# Procesamos cada doc en el corpus\n",
    "Xclean = [clean_doc(x) for x in X]  \n",
    "print(f\"Tamaño final del conjunto de datos: {len(Xclean)}\")\n",
    "Xclean[0:5] "
   ]
  },
  {
   "attachments": {},
   "cell_type": "markdown",
   "metadata": {},
   "source": [
    "# Ejercicio 3. \n",
    "Llamar Xclean a los comentarios procesados y Y a las etiquetas. Realicemos una partición aleatoria\n",
    "con los mismos porcentajes de la práctica pasada para poder comparar dichos resultados con los de\n",
    "esta actividad, a saber, 70%, 15% y 15%, para entrenamiento, validación y prueba,\n",
    "respectivamente. Verifica que obtienes 2100 registros de entrenamiento y 450 para cada uno de\n",
    "validación y prueba. \n"
   ]
  },
  {
   "cell_type": "code",
   "execution_count": 6,
   "metadata": {},
   "outputs": [
    {
     "name": "stdout",
     "output_type": "stream",
     "text": [
      "X,y Train: 2100 2100\n",
      "X,y Val: 450 450\n",
      "X,y Test 450 450\n"
     ]
    }
   ],
   "source": [
    "from sklearn.model_selection import train_test_split\n",
    "\n",
    "x_train, x_val_test, y_train, y_val_test = train_test_split(Xclean, Y, train_size=.70, shuffle=True, random_state=1) \n",
    "x_val, x_test, y_val, y_test = train_test_split(x_val_test, y_val_test, test_size=.50, shuffle=True, random_state=17)\n",
    "\n",
    "print('X,y Train:', len(x_train), len(y_train))\n",
    "print('X,y Val:', len(x_val), len(y_val))\n",
    "print('X,y Test', len(x_test), len(y_test))"
   ]
  },
  {
   "attachments": {},
   "cell_type": "markdown",
   "metadata": {},
   "source": [
    "# Ejercicio 4. \n",
    "Usando el conjunto de entrenamiento genera un vocabulario que no sea mayor a 1500 palabras, ni\n",
    "menor a 1000. \n"
   ]
  },
  {
   "cell_type": "code",
   "execution_count": 7,
   "metadata": {},
   "outputs": [
    {
     "name": "stdout",
     "output_type": "stream",
     "text": [
      "Tamaño del diccionario antes de la limpieza:  3398\n",
      "Tamaño del vocabulario Filtrado: 1451\n",
      "Palabras mas frecuentes:\n",
      "(palabra,frecuencia):\n",
      "[('not', 225), ('good', 192), ('great', 141), ('movie', 140), ('phone', 132), ('film', 130), ('work', 113), ('bad', 106), ('time', 101), ('like', 100)]\n"
     ]
    }
   ],
   "source": [
    "from collections import Counter\n",
    "\n",
    "midiccionario = Counter()    \n",
    "\n",
    "for k in range(len(x_train)):\n",
    "  midiccionario.update(x_train[k])\n",
    "print('Tamaño del diccionario antes de la limpieza: ', len(midiccionario))\n",
    "\n",
    "min_freq = 2\n",
    "\n",
    "midiccionario = Counter((({tk: count for tk,count in midiccionario.items() if count >= min_freq})))\n",
    "\n",
    "print('Tamaño del vocabulario Filtrado:', len(midiccionario))  \n",
    "print('Palabras mas frecuentes:\\n(palabra,frecuencia):') \n",
    "print(midiccionario.most_common(10))"
   ]
  },
  {
   "attachments": {},
   "cell_type": "markdown",
   "metadata": {},
   "source": [
    "- ¿Por qué es importante acotar un vocabulario inferior y superiormente? \n",
    "\n",
    "R: Es importante para reducir la complejidad de nuestro corpus, ayudando a simplificar el procesamiento y hacerlo mas eficiente y reduciendo el uso de recursos computacionales. Tambien nos puede ayudar en la comprension del contexto de los documentos que estemos procesando ya que el modelo puede aprender con mayor precision las asociaciones y relaciones que pueden existir entre ellas. Asi mismo mejora el rendimiento y velocidad de respuesta de los modelos, haciendolo especialmente importante para aplicaciones donde es necesario procesar el texto rapidamente.\n",
    "\n",
    "- ¿Por qué debe usarse solamente el conjunto de entrenamiento para generar el diccionario? \n",
    "\n",
    "R: El conjunto de entrenamiento es comunmente el conjunto mas representativo de nuestro corpus linguistico. Al utilizar este conjunto se asegura el uso de las palabras mas relevantes y frecuentes reflejando mejor el lenguaje y el domininion del problema. Se evita la filtracion de datos y se le da mas coherencia a la representacion del texto ya que se puede mapear correctamente el diccionario a nuestro corpus. \n",
    "\n",
    "Con este vocabulario que obtienes, filtra los conjuntos de entrenamiento, validación y prueba, de esta\n",
    "manera todos los comentarios usarán solamente palabras válidas de acuerdo a este vocabulario.\n",
    "Indica el tamaño del vocabulario obtenido. "
   ]
  },
  {
   "cell_type": "code",
   "execution_count": 8,
   "metadata": {},
   "outputs": [],
   "source": [
    "def get_filtered_data(x_data):\n",
    "    filtered_data = []\n",
    "    for doc in x_data:\n",
    "        filtered_data.append([w for w in doc if w in midiccionario])\n",
    "    return filtered_data "
   ]
  },
  {
   "cell_type": "code",
   "execution_count": 9,
   "metadata": {},
   "outputs": [
    {
     "name": "stdout",
     "output_type": "stream",
     "text": [
      "Longitud del conjunto de entrenamiento Filtrado: 2100\n",
      "Longitud del conjunto de validacion Filtrado: 450\n",
      "Longitud del conjunto de Pureba Filtrado: 450\n"
     ]
    }
   ],
   "source": [
    "filtered_train_x = get_filtered_data(x_train)\n",
    "print('Longitud del conjunto de entrenamiento Filtrado:', len(filtered_train_x))  \n",
    "\n",
    "\n",
    "filter_val_x = get_filtered_data(x_val)\n",
    "print('Longitud del conjunto de validacion Filtrado:', len(filter_val_x))  \n",
    "\n",
    "filtered_test_x = get_filtered_data(x_test)\n",
    "print('Longitud del conjunto de Pureba Filtrado:', len(filtered_test_x))  \n",
    "\n"
   ]
  },
  {
   "attachments": {},
   "cell_type": "markdown",
   "metadata": {},
   "source": [
    "# Ejercicio 5\n",
    "\n",
    "Utilizarás los vectores embebidos FastText preentrenados por Facebook.\n",
    "* a. Incluye una tabla comparativa de pros y contras entre los modelos FastText, word2vec de\n",
    "Google y Glove de Stanford. Puedes consultar sus páginas correspondientes:\n",
    "\n",
    "    - https://fasttext.cc/\n",
    "    - https://code.google.com/archive/p/word2vec/\n",
    "    - https://nlp.stanford.edu/projects/glove/ \n"
   ]
  },
  {
   "cell_type": "code",
   "execution_count": 10,
   "metadata": {},
   "outputs": [
    {
     "name": "stderr",
     "output_type": "stream",
     "text": [
      "Warning : `load_model` does not return WordVectorModel or SupervisedModel any more, but a `FastText` object which is very similar.\n"
     ]
    }
   ],
   "source": [
    "import fasttext\n",
    "import fasttext.util\n",
    "\n",
    "# fasttext.util.download_model('en', if_exists='ignore')  # English\n",
    "ft = fasttext.load_model('data/cc.en.300.bin')"
   ]
  },
  {
   "attachments": {},
   "cell_type": "markdown",
   "metadata": {},
   "source": [
    "|  |    FastText    | word2vec de Google  |   GloVe de Stanford    |\n",
    "| --- | --- | --- | --- |\n",
    "| Pros  |   Considera la estructura de subpalabras, lo que permite capturar la información de las palabras compuestas y las relaciones morfológicas más finas.  |    Proporciona un rendimiento y calidad de vectores que son adecuados para tareas de procesamiento del lenguaje natural. |    Considera la coocurrencia global de palabras en un corpus, lo que ayuda a capturar relaciones semánticas más amplias |\n",
    "|   |   Buen rendimiento en tareas de análisis de sentimientos  |    Conserva relaciones semánticas y sintácticas |    Extensamente pre-entrenado en una amplia variedad de corpus, lo que le brinda una base sólida para diferentes tareas de NLP. |\n",
    "|   |   Manejo de palabras fuera del vocabulario, lo que permite generar vectores para palabras raras o poco frecuentes.  |    Modelos pre-entrenados en múltiples idiomas,  lo que facilita su aplicación en diferentes entornos lingüísticos. |    Mantiene relaciones semánticas lineales, lo que permite operaciones de analogía como \"rey - hombre + mujer = reina\". |\n",
    "|   |   Adecuado para lenguajes con palabras compuestas o morfología compleja  |    Capacidad para manejar grandes volúmenes de texto |    Capacidad para generar vectores de palabras extrañas |\n",
    "|   |   |    Modelos pre-entrenados disponibles en diversos tamaños |  |\n",
    "| Contras  |   Mayor complejidad computacional, especialmente durante el entrenamiento debido a la consideración de subpalabras.  |    Requiere grandes conjuntos de datos para entrenamiento para obtener vectores de alta calidad y generalizables. |    Requiere grandes conjuntos de datos para entrenamiento |\n",
    "|   |   Tiempo de entrenamiento más largo en comparación con otros modelos, debido a la complejidad computacional y la consideración de subpalabras.  |    Dependencia de la disponibilidad de datos de Google ya que depende de la recopilacion de datos de Google |    Los vectores pueden ser sensibles al ruido del corpus |\n",
    "|   |   Requiere un mayor almacenamiento de datos ya que la consideración de subpalabras aumenta  | |  |"
   ]
  },
  {
   "attachments": {},
   "cell_type": "markdown",
   "metadata": {},
   "source": [
    "# Ejercicio 6\n",
    "\n",
    "Utiliza el modelo FastText de vectores embebidos pre-entrenados de dimensión 300 para generar\n",
    "un nuevo diccionario clave-valor, donde la “clave” será cada token o palabra de tu vocabulario y el\n",
    "“valor” será su vector embebido de dimensión 300. Este diccionario deberá ser del mismo tamaño\n",
    "que el vocabulario previo que hayas construido previamente.\n",
    "\n",
    "- https://fasttext.cc/docs/en/crawl-vectors.html\n",
    "\n",
    "NOTA: Debido a la cantidad de recursos computacionales que demanda cargar los vectores\n",
    "FastText (son 2 millones de vectores), es recomendable que una vez que generes el nuevo\n",
    "vocabulario de vectores embebidos, guardes dicho diccionario en un archivo (pickle, npz o el que\n",
    "consideres más adecuado). Una vez realizado lo anterior, puedes borrar la variable de FastText\n",
    "para liberar memoria RAM. De esta manera, ya tienes tu vocabulario de vectores embebidos de\n",
    "acuerdo a los tokens que consideras más adecuados para tu problema y puedes usarlo rápidamente\n",
    "cuando lo necesites. En dado caso apóyense entre los miembros del equipo de tener dificultades\n",
    "para generar el vocabulario y por mientras puedes usar el archivo del vocabulario que alguno haya\n",
    "generado\n"
   ]
  },
  {
   "cell_type": "code",
   "execution_count": 11,
   "metadata": {},
   "outputs": [],
   "source": [
    "\n",
    "import pickle\n",
    "\n",
    "with open('data/vect_Vocabulario.pkl', 'wb') as file:\n",
    "    pickle.dump(dict(zip(midiccionario.keys(), np.array([ft.get_word_vector(word) for word in midiccionario]))), file)\n",
    "\n",
    "del ft\n"
   ]
  },
  {
   "cell_type": "code",
   "execution_count": 12,
   "metadata": {},
   "outputs": [
    {
     "name": "stdout",
     "output_type": "stream",
     "text": [
      "Tamaño de vocabulario: 1451\n",
      "Tamaño de vocabulario de vectores: 1451\n"
     ]
    }
   ],
   "source": [
    "with open('data/vect_Vocabulario.pkl', 'rb') as file:\n",
    "    vect_vocabulario = pickle.load(file)\n",
    "print(f\"Tamaño de vocabulario: {len(midiccionario)}\")\n",
    "print(f\"Tamaño de vocabulario de vectores: {len(vect_vocabulario.keys())}\")"
   ]
  },
  {
   "attachments": {},
   "cell_type": "markdown",
   "metadata": {},
   "source": [
    "# Ejercicio 7\n",
    "\n",
    "Una manera de utilizar los vectores embebidos con modelos de aprendizaje automático en\n",
    "documentos de texto, es asignar a cada comentario filtrado el vector embebido de dimensión 300\n",
    "que resulta de promediar todos sus tokens. Así, en este ejercicio deberás generar los arreglos\n",
    "correspondientes para los conjuntos de entrenamiento, validación y prueba. Los llamaremos\n",
    "trainEmb, valEmb y testEmb, respectivamente."
   ]
  },
  {
   "cell_type": "code",
   "execution_count": 13,
   "metadata": {},
   "outputs": [],
   "source": [
    "def get_promedioFromDoc(doc):\n",
    "    if len(doc) > 0:\n",
    "        promedio = np.mean([vect_vocabulario[word] for word in doc if word in vect_vocabulario], axis=0).reshape(-1,1)\n",
    "    else:\n",
    "        promedio = np.random.uniform(-1,1,(300,1)).astype(np.float32)\n",
    "    return promedio\n",
    "\n",
    "def get_emb(x_data):\n",
    "    cbb = np.array(get_promedioFromDoc(x_data[0]))\n",
    "    for doc in x_data[1:]:\n",
    "        cbb = np.append(cbb, get_promedioFromDoc(doc), axis=1)\n",
    "\n",
    "    cbb = cbb.T\n",
    "    return cbb\n",
    "    "
   ]
  },
  {
   "cell_type": "code",
   "execution_count": 14,
   "metadata": {},
   "outputs": [
    {
     "name": "stdout",
     "output_type": "stream",
     "text": [
      "Forma del vector embebido de entrenamiento : (2100, 300)\n",
      "Forma del vector embebido de validacion : (450, 300)\n",
      "Forma del vector embebido de pruebas : (450, 300)\n"
     ]
    }
   ],
   "source": [
    "trainEmb = get_emb(filtered_train_x)\n",
    "\n",
    "valEmb = get_emb(filter_val_x)\n",
    "\n",
    "testEmb = get_emb(filtered_test_x)\n",
    "\n",
    "print('Forma del vector embebido de entrenamiento :', trainEmb.shape)  \n",
    "print('Forma del vector embebido de validacion :', valEmb.shape)  \n",
    "print('Forma del vector embebido de pruebas :', testEmb.shape) "
   ]
  },
  {
   "attachments": {},
   "cell_type": "markdown",
   "metadata": {},
   "source": [
    "- ¿Cuáles son sus dimensiones? \n",
    "\n",
    "R: Las dimension de los vectoreas es de la misma longitud que nuestros conjuntos, para entrenammiento (2100), para validación (450) y para pruebas (450), cada uno contará con 300 valores que corresponden al promedio de los valores de sus vectores embebidos por cada token en ellos.\n",
    "\n",
    "- ¿Se podrían usar para su representación matrices dispersas (sparse matrices) como en el caso de la matriz Tf-idf?\n",
    "\n",
    "R: Las matrices dispersas son matrices que contienen principalmente valores 0 y se utilizan para almacenar datos escasos o con alta dimensionalidad, en el caso de estas matrices generadas la mayorita cuenta con valores no ceros. Es decir que hablariamos de matrices densas con las cuales tambien podemos generar matrices tf-idf solo que estas tienen un mayor costo en memoria y procesamiento que una matriz dispersa.\n"
   ]
  },
  {
   "attachments": {},
   "cell_type": "markdown",
   "metadata": {},
   "source": [
    "# Ejercicio 8\n",
    "\n",
    "Utiliza los modelos de regresión lineal y bosque aleatorio (random forest) y encuentra sus\n",
    "desempeños (accuracy). Compara los resultados con los de la semana anterior. "
   ]
  },
  {
   "cell_type": "code",
   "execution_count": 15,
   "metadata": {},
   "outputs": [
    {
     "name": "stdout",
     "output_type": "stream",
     "text": [
      "LR: Train-accuracy: 84.67%\n",
      "LR: Val-accuracy: 83%\n",
      "\n",
      "RF: Train-accuracy: 76.76%\n",
      "RF: Val-accuracy: 73.33%\n"
     ]
    }
   ],
   "source": [
    "from sklearn.linear_model import LogisticRegression\n",
    "from sklearn.ensemble import RandomForestClassifier\n",
    "\n",
    "modeloLRcount = LogisticRegression(max_iter=1000, solver=\"sag\", random_state=42)\n",
    "modeloLRcount.fit(trainEmb, y_train)\n",
    "\n",
    "modeloRFcount = RandomForestClassifier(ccp_alpha=0.001, n_estimators=3, max_features= 'sqrt', max_depth= 4, min_samples_leaf= 5,random_state=42, class_weight=\"balanced\")\n",
    "\n",
    "modeloRFcount.fit(trainEmb, y_train)\n",
    "\n",
    "print('LR: Train-accuracy: %.2f%%' % (100*modeloLRcount.score(trainEmb, y_train)))\n",
    "print('LR: Val-accuracy: %2.f%%' % (100*modeloLRcount.score(valEmb, y_val)))\n",
    "\n",
    "print('\\nRF: Train-accuracy: %.2f%%' % (100*modeloRFcount.score(trainEmb, y_train)))\n",
    "print('RF: Val-accuracy: %.2f%%' % (100*modeloRFcount.score(valEmb, y_val)))"
   ]
  },
  {
   "attachments": {},
   "cell_type": "markdown",
   "metadata": {},
   "source": [
    "En comparacion a la tarea anterior, el modelo de regresion logistica notamos un mejor rendimiento no asi el Random Forest que se mantuvo similar a los valores anteriores. Creemos que esto podria deberse la limpieza o lemmatizacion de los datos. Quiza seria necesario refinar un poco estos si queremos que random fores nos brinde un mejor modelo."
   ]
  },
  {
   "cell_type": "markdown",
   "metadata": {},
   "source": []
  },
  {
   "attachments": {},
   "cell_type": "markdown",
   "metadata": {},
   "source": [
    "# Ejercicio 9\n",
    "\n",
    "Obtener la matriz de confusión e interpretar sus valores. \n",
    "\n",
    "\n"
   ]
  },
  {
   "cell_type": "code",
   "execution_count": 16,
   "metadata": {},
   "outputs": [],
   "source": [
    "from sklearn.metrics import confusion_matrix\n",
    "import seaborn as sns"
   ]
  },
  {
   "attachments": {},
   "cell_type": "markdown",
   "metadata": {},
   "source": [
    "### Regresion Logistica"
   ]
  },
  {
   "cell_type": "code",
   "execution_count": 17,
   "metadata": {},
   "outputs": [
    {
     "data": {
      "text/plain": [
       "<AxesSubplot:>"
      ]
     },
     "execution_count": 17,
     "metadata": {},
     "output_type": "execute_result"
    },
    {
     "data": {
      "image/png": "[encoded data removed]",
      "text/plain": [
       "<Figure size 640x480 with 2 Axes>"
      ]
     },
     "metadata": {},
     "output_type": "display_data"
    }
   ],
   "source": [
    "# Una vez entrenado el modelo, podemos predecir los resultados en nuestro conjuntos de pruebas mediante el metodo predict de nuestro modelo.\n",
    "y_predict = modeloLRcount.predict(testEmb)\n",
    "\n",
    "\n",
    "# Obtenidas las predicciones, es necesario crear nuestra matriz de confusion\n",
    "# con el objetivo de medir el comportamiento de nuestro modelo.\n",
    "# Utilizando el metodo correspondiente, nuestro conjunto de prueba y las predicciones realizadas\n",
    "# Obtenemos nuestra matriz. La cual podemos mostrar con un heatmap de la libreria seaborn.\n",
    "\n",
    "cm = confusion_matrix(y_test,y_predict)\n",
    "sns.heatmap(cm, annot=True, fmt = \"d\")\n",
    "\n"
   ]
  },
  {
   "attachments": {},
   "cell_type": "markdown",
   "metadata": {},
   "source": [
    "### Random Forest"
   ]
  },
  {
   "cell_type": "code",
   "execution_count": 18,
   "metadata": {},
   "outputs": [
    {
     "data": {
      "text/plain": [
       "<AxesSubplot:>"
      ]
     },
     "execution_count": 18,
     "metadata": {},
     "output_type": "execute_result"
    },
    {
     "data": {
      "image/png": "[encoded data removed]",
      "text/plain": [
       "<Figure size 640x480 with 2 Axes>"
      ]
     },
     "metadata": {},
     "output_type": "display_data"
    }
   ],
   "source": [
    "y_predict = modeloRFcount.predict(testEmb)\n",
    "cm = confusion_matrix(y_test,y_predict)\n",
    "sns.heatmap(cm, annot=True, fmt = \"d\")"
   ]
  },
  {
   "attachments": {},
   "cell_type": "markdown",
   "metadata": {},
   "source": [
    "Podemos observar como nuestro modelo de regresion logistca superó al modelo de bosque aleatorio en términos de precisión. El modelo de regresión logística alcanzó un accuracy del 83%, generando valores mas altos en la matriz de confusion para los verdaderos negativos(181/151) y los verdaderos positivos (192/164). Esto sugiere que el enfoque de regresión logística fue más efectivo para este conjunto de datos y resalta la importancia de considerar diferentes algoritmos y técnicas para obtener los mejores resultados en un problema de clasificación. \n",
    "\n",
    "Sin embargo, creemos que es necesario profundizar en el análisis, la limpieza y evaluaciones de datos para determinarlas fortalezas y debilidades de cada modelo y con ello garantizar que los resultados puedan extrapolarse a otros conjuntos de datos y escenarios. Notamos que los los valores de los falsos positivos y negativos notamos que son altos por lo que también representan una área de oportunidad. "
   ]
  },
  {
   "attachments": {},
   "cell_type": "markdown",
   "metadata": {},
   "source": [
    "<h2 style='text-align: center;'>CONCLUSIONES FINALES</h2>\n",
    "\n",
    "Al comparar el uso de vectores embebidos y matrices TF-IDF pudimos identificar algunas ventajas y desventajas, así mismo notamos un impacto significativo en las métricas de evaluación del modelo.\n",
    "\n",
    "Consideramos que una de las ventajas de utilizar vectores embebidos radica en su capacidad para capturar relaciones semánticas y significados contextuales en los datos. Al utilizar técnicas como la fasttext y modelado de lenguaje basado en transformers, los vectores embebidos pueden capturar información rica y compleja sobre las palabras y su contexto en un texto. Esto puede ser especialmente beneficioso en tareas de procesamiento de lenguaje natural, donde el significado y la representación de las palabras son cruciales.\n",
    "\n",
    "Por otro lado, las matrices TF-IDF tienen la ventaja de ser más simples y rápidas de calcular. La matriz TF-IDF se basa en la frecuencia de términos y su importancia relativa en un conjunto de documentos. Esto puede ser útil en casos donde el enfoque principal es la frecuencia y relevancia de las palabras en un texto, como en la clasificación de documentos o en tareas de filtrado de información.\n",
    "\n",
    "Sin embargo, el uso de vectores embebidos puede tener un impacto positivo en las métricas de evaluación del modelo en comparación con las matrices TF-IDF. Los vectores embebidos, al capturar el significado y las relaciones contextuales, pueden proporcionar una representación más rica y sofisticada de los datos. Esto puede resultar en una mejor capacidad de generalización y en un rendimiento superior en métricas de evaluación como precisión, recall y F1-score.\n",
    "\n",
    "Por otro lado, una desventaja de los vectores embebidos es su mayor complejidad computacional y la necesidad de contar con grandes cantidades de datos para entrenar modelos de lenguaje. Además, los vectores embebidos pueden estar sujetos a sesgos inherentes en los datos de entrenamiento, lo que puede afectar la capacidad del modelo para generalizar a casos nuevos y diversos.\n",
    "\n",
    "En resumen, los vectores embebidos ofrecen una representación más rica y contextual de los datos, lo que puede llevar a un mejor rendimiento en las métricas de evaluación del modelo en comparación con las matrices TF-IDF. Sin embargo, también es importante considerar la complejidad computacional y las posibles limitaciones y sesgos asociados con los vectores embebidos al seleccionar la mejor técnica para un problema específico."
   ]
  }
 ],
 "metadata": {
  "kernelspec": {
   "display_name": "Python 3.11.0 64-bit",
   "language": "python",
   "name": "python3"
  },
  "language_info": {
   "codemirror_mode": {
    "name": "ipython",
    "version": 3
   },
   "file_extension": ".py",
   "mimetype": "text/x-python",
   "name": "python",
   "nbconvert_exporter": "python",
   "pygments_lexer": "ipython3",
   "version": "3.11.0"
  },
  "orig_nbformat": 4,
  "vscode": {
   "interpreter": {
    "hash": "aee8b7b246df8f9039afb4144a1f6fd8d2ca17a180786b69acc140d282b71a49"
   }
  }
 },
 "nbformat": 4,
 "nbformat_minor": 2
}
